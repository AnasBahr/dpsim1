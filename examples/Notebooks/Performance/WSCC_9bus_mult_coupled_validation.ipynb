{
 "cells": [
  {
   "cell_type": "code",
   "execution_count": null,
   "id": "ff25ce41-a49b-4949-854c-97cdb7245a52",
   "metadata": {},
   "outputs": [],
   "source": [
    "import villas.dataprocessing.readtools as rt\n",
    "from villas.dataprocessing.timeseries import TimeSeries as ts\n",
    "import numpy as np"
   ]
  },
  {
   "cell_type": "markdown",
   "id": "c93fee78-8a0a-4c4d-9f64-29bfe7ce7754",
   "metadata": {
    "tags": []
   },
   "source": [
    "## Run"
   ]
  },
  {
   "cell_type": "code",
   "execution_count": null,
   "id": "b8df948f-bfd8-4b7d-9614-0176e2444790",
   "metadata": {},
   "outputs": [],
   "source": [
    "path = 'logs/WSCC_9bus_coupled_0_0_0/'\n",
    "logName = 'WSCC_9bus_coupled_0_0_0'\n",
    "logFilename = path + logName\n",
    "print(logFilename)"
   ]
  },
  {
   "cell_type": "code",
   "execution_count": null,
   "id": "3b1d41a8-3dc0-4931-8eea-0b2b7edd617b",
   "metadata": {},
   "outputs": [],
   "source": [
    "%%bash\n",
    "TOP=${TOP:-$(git rev-parse --show-toplevel)}\n",
    "PATH=${TOP}/build/dpsim/examples/cxx\n",
    "\n",
    "WSCC_9bus_mult_coupled -U KLU ${TOP}/examples/CIM/WSCC-09_RX/*.xml"
   ]
  },
  {
   "cell_type": "code",
   "execution_count": null,
   "id": "b3c9a76b-c487-45ed-8aa1-8b017e9e0971",
   "metadata": {},
   "outputs": [],
   "source": [
    "%%capture\n",
    "ts_coupled_sparse_rv = rt.read_timeseries_dpsim(logFilename+'_RightVector.csv')\n",
    "ts_coupled_sparse_lv = rt.read_timeseries_dpsim(logFilename+'_LeftVector.csv')"
   ]
  },
  {
   "cell_type": "code",
   "execution_count": null,
   "id": "80449982-e81a-4aa4-baa2-9acb3e0d6f92",
   "metadata": {},
   "outputs": [],
   "source": [
    "%%bash\n",
    "TOP=${TOP:-$(git rev-parse --show-toplevel)}\n",
    "PATH=${TOP}/build/dpsim/examples/cxx\n",
    "\n",
    "WSCC_9bus_mult_coupled -U SparseLU ${TOP}/examples/CIM/WSCC-09_RX/*.xml"
   ]
  },
  {
   "cell_type": "code",
   "execution_count": null,
   "id": "ad93f880-b3a7-4fd6-8580-c7ff4f9cbc87",
   "metadata": {},
   "outputs": [],
   "source": [
    "%%capture\n",
    "ts_coupled_klu_rv = rt.read_timeseries_dpsim(logFilename+'_RightVector.csv')\n",
    "ts_coupled_klu_lv = rt.read_timeseries_dpsim(logFilename+'_LeftVector.csv')"
   ]
  },
  {
   "cell_type": "markdown",
   "id": "02bb85ec-bff8-4ba2-be3c-e8c96bcdb10d",
   "metadata": {
    "tags": []
   },
   "source": [
    "## Validate Results"
   ]
  },
  {
   "cell_type": "code",
   "execution_count": null,
   "id": "74a8a447-a38b-4777-a7a3-e4f5c3aa21ad",
   "metadata": {},
   "outputs": [],
   "source": [
    "tolerance = 1e-4\n",
    "\n",
    "for entry in ts_coupled_sparse_rv:\n",
    "    sparse_values = ts_coupled_sparse_rv[entry].values\n",
    "    klu_values = ts_coupled_klu_rv[entry].values\n",
    "    # 2-norm of errors\n",
    "    error = np.linalg.norm(sparse_values-klu_values, ord=2)\n",
    "    assert(error < tolerance)\n",
    "\n",
    "for entry in ts_coupled_sparse_lv:\n",
    "    sparse_values = ts_coupled_sparse_lv[entry].values\n",
    "    klu_values = ts_coupled_klu_lv[entry].values\n",
    "    # 2-norm of errors\n",
    "    error = np.linalg.norm(sparse_values-klu_values, ord=2)\n",
    "    assert(error < tolerance)"
   ]
  }
 ],
 "metadata": {
  "kernelspec": {
   "display_name": "Python 3 (ipykernel)",
   "language": "python",
   "name": "python3"
  },
  "language_info": {
   "codemirror_mode": {
    "name": "ipython",
    "version": 3
   },
   "file_extension": ".py",
   "mimetype": "text/x-python",
   "name": "python",
   "nbconvert_exporter": "python",
   "pygments_lexer": "ipython3",
   "version": "3.8.10"
  }
 },
 "nbformat": 4,
 "nbformat_minor": 5
}
