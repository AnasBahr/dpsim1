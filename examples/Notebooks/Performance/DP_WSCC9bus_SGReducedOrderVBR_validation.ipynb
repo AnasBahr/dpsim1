{
 "cells": [
  {
   "cell_type": "code",
   "execution_count": null,
   "id": "0d3149fa-6d49-4b4b-902e-ea71372d3a6b",
   "metadata": {},
   "outputs": [],
   "source": [
    "import villas.dataprocessing.readtools as rt\n",
    "from villas.dataprocessing.timeseries import TimeSeries as ts\n",
    "import numpy as np\n",
    "import re\n",
    "import os\n",
    "import requests"
   ]
  },
  {
   "cell_type": "code",
   "execution_count": null,
   "id": "a1a6fe4f-c6c4-4f1b-b00b-3692b6b96018",
   "metadata": {},
   "outputs": [],
   "source": [
    "def download_grid_data(name, url):\n",
    "    with open(name, 'wb') as out_file:\n",
    "        content = requests.get(url, stream=True).content\n",
    "        out_file.write(content)\n",
    "\n",
    "filename = 'WSCC-09_RX'\n",
    "url = 'https://raw.githubusercontent.com/dpsim-simulator/cim-grid-data/master/WSCC-09/WSCC-09_RX/WSCC-09_RX'\n",
    "download_grid_data(filename+'_EQ.xml', url+'_EQ.xml')\n",
    "download_grid_data(filename+'_TP.xml', url+'_TP.xml')\n",
    "download_grid_data(filename+'_SV.xml', url+'_SV.xml')\n",
    "download_grid_data(filename+'_DI.xml', url+'_DI.xml')"
   ]
  },
  {
   "cell_type": "markdown",
   "id": "12543196-50a9-49c4-bcb3-877e9c2079e4",
   "metadata": {
    "tags": []
   },
   "source": [
    "## Run"
   ]
  },
  {
   "cell_type": "code",
   "execution_count": null,
   "id": "59a8b4ef-523d-4b66-b82c-a941bb3076f8",
   "metadata": {},
   "outputs": [],
   "source": [
    "path = 'logs/DP_WSCC9bus_SGReducedOrderVBR/'\n",
    "logName = 'DP_WSCC9bus_SGReducedOrderVBR'\n",
    "logFilename = path + logName"
   ]
  },
  {
   "cell_type": "code",
   "execution_count": null,
   "id": "aab82216-6495-4179-af39-4bf759c85c6d",
   "metadata": {},
   "outputs": [],
   "source": [
    "%%bash\n",
    "TOP=${TOP:-$(git rev-parse --show-toplevel)}\n",
    "PATH=${TOP}/build/dpsim/examples/cxx\n",
    "\n",
    "DP_WSCC9bus_SGReducedOrderVBR ${TOP}/WSCC-09_RX_*.xml -U SparseLU --timestep=10e-6 --duration=0.1"
   ]
  },
  {
   "cell_type": "code",
   "execution_count": null,
   "id": "5c3901ee-9766-408a-b047-0e10e92f7e9d",
   "metadata": {},
   "outputs": [],
   "source": [
    "%%capture\n",
    "ts_coupled_sparse_rv = rt.read_timeseries_dpsim(logFilename+'_RightVector.csv')\n",
    "ts_coupled_sparse_lv = rt.read_timeseries_dpsim(logFilename+'_LeftVector.csv')"
   ]
  },
  {
   "cell_type": "code",
   "execution_count": null,
   "id": "429ad184-7e12-460d-882e-a3848086c3a7",
   "metadata": {},
   "outputs": [],
   "source": [
    "%%bash\n",
    "TOP=${TOP:-$(git rev-parse --show-toplevel)}\n",
    "PATH=${TOP}/build/dpsim/examples/cxx\n",
    "\n",
    "DP_WSCC9bus_SGReducedOrderVBR ${TOP}/WSCC-09_RX_*.xml -U KLU --timestep=10e-6 --duration=0.1"
   ]
  },
  {
   "cell_type": "code",
   "execution_count": null,
   "id": "25e163df-c2d6-4617-8e86-4813d7f1083c",
   "metadata": {},
   "outputs": [],
   "source": [
    "%%capture\n",
    "ts_coupled_klu_rv = rt.read_timeseries_dpsim(logFilename+'_RightVector.csv')\n",
    "ts_coupled_klu_lv = rt.read_timeseries_dpsim(logFilename+'_LeftVector.csv')"
   ]
  },
  {
   "cell_type": "markdown",
   "id": "ba1feb34-6cee-43a2-a91a-352bcad3b310",
   "metadata": {
    "tags": []
   },
   "source": [
    "## Validate Results"
   ]
  },
  {
   "cell_type": "code",
   "execution_count": null,
   "id": "d82b2fae-af6a-4213-9924-8795581b2611",
   "metadata": {},
   "outputs": [],
   "source": [
    "tolerance = 1e-2\n",
    "\n",
    "for entry in ts_coupled_sparse_rv:\n",
    "    sparse_values = ts_coupled_sparse_rv[entry].values\n",
    "    klu_values = ts_coupled_klu_rv[entry].values\n",
    "    # 2-norm of errors\n",
    "    error = np.linalg.norm(sparse_values-klu_values, ord=2)\n",
    "    assert(error < tolerance)\n",
    "\n",
    "for entry in ts_coupled_sparse_lv:\n",
    "    sparse_values = ts_coupled_sparse_lv[entry].values\n",
    "    klu_values = ts_coupled_klu_lv[entry].values\n",
    "    # 2-norm of errors\n",
    "    error = np.linalg.norm(sparse_values-klu_values, ord=2)\n",
    "    assert(error < tolerance)"
   ]
  }
 ],
 "metadata": {
  "kernelspec": {
   "display_name": "Python 3 (ipykernel)",
   "language": "python",
   "name": "python3"
  },
  "language_info": {
   "codemirror_mode": {
    "name": "ipython",
    "version": 3
   },
   "file_extension": ".py",
   "mimetype": "text/x-python",
   "name": "python",
   "nbconvert_exporter": "python",
   "pygments_lexer": "ipython3",
   "version": "3.8.10"
  }
 },
 "nbformat": 4,
 "nbformat_minor": 5
}
