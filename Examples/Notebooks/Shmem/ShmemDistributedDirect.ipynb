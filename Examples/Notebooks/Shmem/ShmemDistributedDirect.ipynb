{
 "cells": [
  {
   "cell_type": "markdown",
   "metadata": {},
   "source": [
    "# Shmem Distributed Direct"
   ]
  },
  {
   "cell_type": "markdown",
   "metadata": {},
   "source": [
    "## Run Monolithic reference case"
   ]
  },
  {
   "cell_type": "code",
   "execution_count": 3,
   "metadata": {},
   "outputs": [
    {
     "name": "stderr",
     "output_type": "stream",
     "text": [
      "[14:00:29.854602 ShmemDistributedRef_console info] Opening interfaces.\n",
      "[14:00:29.854656 ShmemDistributedRef_console info] Start simulation.\n",
      "[14:00:29.869586 ShmemDistributedRef_console info] Simulation finished.\n"
     ]
    }
   ],
   "source": [
    "%%bash\n",
    "cd ../../../\n",
    "build/Examples/Cxx/ShmemDistributedReference"
   ]
  },
  {
   "cell_type": "code",
   "execution_count": 5,
   "metadata": {},
   "outputs": [],
   "source": [
    "import villas.dataprocessing.readtools as rt\n",
    "from villas.dataprocessing.timeseries import TimeSeries as ts"
   ]
  },
  {
   "cell_type": "code",
   "execution_count": 9,
   "metadata": {},
   "outputs": [
    {
     "name": "stdout",
     "output_type": "stream",
     "text": [
      "column number: 4\n",
      "results length: 100\n",
      "real column names: []\n",
      "complex column names: ['r02', 'r12', 'v1', 'v2']\n"
     ]
    }
   ],
   "source": [
    "log_name = '../../../logs/ShmemDistributedRef/ShmemDistributedRef.csv'\n",
    "ts_ref = rt.read_timeseries_dpsim(log_name)"
   ]
  },
  {
   "cell_type": "code",
   "execution_count": 19,
   "metadata": {},
   "outputs": [
    {
     "data": {
      "text/plain": [
       "[<matplotlib.lines.Line2D at 0x7f3f97389690>]"
      ]
     },
     "execution_count": 19,
     "metadata": {},
     "output_type": "execute_result"
    },
    {
     "data": {
      "image/png": "[encoded data removed]",
      "text/plain": [
       "<Figure size 432x288 with 1 Axes>"
      ]
     },
     "metadata": {
      "needs_background": "light"
     },
     "output_type": "display_data"
    }
   ],
   "source": [
    "import matplotlib.pyplot as plt\n",
    "\n",
    "plt.plot(ts_ref['v1'].values.real)\n",
    "plt.plot(ts_ref['v2'].values.real)\n",
    "plt.plot(ts_ref['r12'].values.real)"
   ]
  },
  {
   "cell_type": "markdown",
   "metadata": {},
   "source": [
    "## Distributed"
   ]
  },
  {
   "cell_type": "code",
   "execution_count": 2,
   "metadata": {},
   "outputs": [
    {
     "name": "stderr",
     "output_type": "stream",
     "text": [
      "[14:00:19.267666 ShmemDistributedDirect_2_console info] Opening interfaces.\n",
      "[14:00:19.267719 ShmemDistributedDirect_2_console info] Opening interface: /dpsim01 <-> /dpsim10\n",
      "[14:00:19.273797 ShmemDistributedDirect_1_console info] Opening interfaces.\n",
      "[14:00:19.273838 ShmemDistributedDirect_1_console info] Opening interface: /dpsim10 <-> /dpsim01\n",
      "[14:00:19.274067 ShmemDistributedDirect_1_console info] Opened interface: /dpsim10 <-> /dpsim01\n",
      "[14:00:19.274090 ShmemDistributedDirect_2_console info] Opened interface: /dpsim01 <-> /dpsim10\n",
      "[14:00:19.274143 ShmemDistributedDirect_2_console info] Start simulation.\n",
      "[14:00:19.274144 ShmemDistributedDirect_1_console info] Start simulation.\n",
      "[14:00:19.289903 ShmemDistributedDirect_2_console info] Simulation finished.\n",
      "[14:00:19.296314 ShmemDistributedDirect_1_console info] Simulation finished.\n"
     ]
    }
   ],
   "source": [
    "%%bash\n",
    "cd ../../../\n",
    "build/Examples/Cxx/ShmemDistributedDirect 0 & P1=$!\n",
    "build/Examples/Cxx/ShmemDistributedDirect 1 & P2=$!\n",
    "    \n",
    "for job in $P1 $P2; do\n",
    "    wait $job || exit 1\n",
    "done"
   ]
  },
  {
   "cell_type": "code",
   "execution_count": 24,
   "metadata": {},
   "outputs": [
    {
     "name": "stdout",
     "output_type": "stream",
     "text": [
      "column number: 5\n",
      "results length: 100\n",
      "real column names: []\n",
      "complex column names: ['ievs', 'r12', 'v1', 'v2', 'vevs']\n"
     ]
    }
   ],
   "source": [
    "log_name = '../../../logs/ShmemDistributedDirect_1/ShmemDistributedDirect_1.csv'\n",
    "ts_direct1 = rt.read_timeseries_dpsim(log_name)"
   ]
  },
  {
   "cell_type": "code",
   "execution_count": 23,
   "metadata": {},
   "outputs": [
    {
     "name": "stdout",
     "output_type": "stream",
     "text": [
      "column number: 4\n",
      "results length: 100\n",
      "real column names: []\n",
      "complex column names: ['iecs', 'r02', 'v2', 'vecs']\n"
     ]
    }
   ],
   "source": [
    "log_name = '../../../logs/ShmemDistributedDirect_2/ShmemDistributedDirect_2.csv'\n",
    "ts_direct2 = rt.read_timeseries_dpsim(log_name)"
   ]
  },
  {
   "cell_type": "code",
   "execution_count": 25,
   "metadata": {},
   "outputs": [
    {
     "data": {
      "text/plain": [
       "[<matplotlib.lines.Line2D at 0x7f3f972970d0>]"
      ]
     },
     "execution_count": 25,
     "metadata": {},
     "output_type": "execute_result"
    },
    {
     "data": {
      "image/png": "[encoded data removed]",
      "text/plain": [
       "<Figure size 432x288 with 1 Axes>"
      ]
     },
     "metadata": {
      "needs_background": "light"
     },
     "output_type": "display_data"
    }
   ],
   "source": [
    "plt.plot(ts_direct1['v1'].values.real)\n",
    "plt.plot(ts_direct1['v2'].values.real)\n",
    "plt.plot(ts_direct2['v2'].values.real)\n",
    "plt.plot(ts_direct1['r12'].values.real)"
   ]
  },
  {
   "cell_type": "code",
   "execution_count": null,
   "metadata": {},
   "outputs": [],
   "source": []
  }
 ],
 "metadata": {
  "kernelspec": {
   "display_name": "Python 3",
   "language": "python",
   "name": "python3"
  },
  "language_info": {
   "codemirror_mode": {
    "name": "ipython",
    "version": 3
   },
   "file_extension": ".py",
   "mimetype": "text/x-python",
   "name": "python",
   "nbconvert_exporter": "python",
   "pygments_lexer": "ipython3",
   "version": "3.7.4"
  },
  "tests": {
   "skip": true
  }
 },
 "nbformat": 4,
 "nbformat_minor": 4
}
