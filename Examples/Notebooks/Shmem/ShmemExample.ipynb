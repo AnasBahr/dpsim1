{
 "cells": [
  {
   "cell_type": "markdown",
   "metadata": {},
   "source": [
    "# Shmem Example"
   ]
  },
  {
   "cell_type": "code",
   "execution_count": 5,
   "metadata": {},
   "outputs": [
    {
     "name": "stdout",
     "output_type": "stream",
     "text": [
      "Process is interrupted.\n"
     ]
    }
   ],
   "source": [
    "%%bash\n",
    "\n",
    "%%bash\n",
    "TOP=${TOP:-$(git rev-parse --show-toplevel)}\n",
    "PATH=${PATH}:${TOP}/build/Examples/Cxx\n",
    "\n",
    "# Start DPsim\n",
    "CPS_LOG_PREFIX=\"[DPsim ] \" \\\n",
    "ShmemExample &\n",
    "P1=$!\n",
    "\n",
    "sleep 0.5\n",
    "\n",
    "# Start VILLAS to send/receive data\n",
    "VILLAS_LOG_PREFIX=\"[Signal] \" \\\n",
    "villas signal sine -r 1000 | \\\n",
    "VILLAS_LOG_PREFIX=\"[ Pipe ] \" \\\n",
    "villas pipe ${TOP}/Configs/villas-shmem.conf shmem1\n",
    "\n",
    "wait $P1"
   ]
  },
  {
   "cell_type": "code",
   "execution_count": null,
   "metadata": {},
   "outputs": [],
   "source": []
  }
 ],
 "metadata": {
  "kernelspec": {
   "display_name": "Python 3",
   "language": "python",
   "name": "python3"
  },
  "language_info": {
   "codemirror_mode": {
    "name": "ipython",
    "version": 3
   },
   "file_extension": ".py",
   "mimetype": "text/x-python",
   "name": "python",
   "nbconvert_exporter": "python",
   "pygments_lexer": "ipython3",
   "version": "3.7.3"
  },
  "tests": {
   "skip": true
  }
 },
 "nbformat": 4,
 "nbformat_minor": 4
}
