{
 "cells": [
  {
   "cell_type": "markdown",
   "metadata": {},
   "source": [
    "# Testing control params"
   ]
  },
  {
   "cell_type": "markdown",
   "metadata": {},
   "source": [
    "## Kp study"
   ]
  },
  {
   "cell_type": "code",
   "execution_count": null,
   "metadata": {},
   "outputs": [],
   "source": [
    "%%bash\n",
    "TOP=${TOP:-$(git rev-parse --show-toplevel)}\n",
    "PATH=${PATH}:${TOP}/build/Examples/Cxx\n",
    "\n",
    "TIMESTEP=1e-3\n",
    "DURATION=2.5\n",
    "\n",
    "for SCALEKP in $(seq 0.01 0.02 0.1)\n",
    "do\n",
    "    EMT_Slack_PiLine_VSI_with_PF_Init --name=\"EMT_Slack_PiLine_VSI_with_PF_Init_KP-${SCALEKP}\" --option=\"scale_kp=${SCALEKP}\" --timestep=${TIMESTEP} --duration=${DURATION}\n",
    "done"
   ]
  },
  {
   "cell_type": "code",
   "execution_count": null,
   "metadata": {},
   "outputs": [],
   "source": [
    "from villas.dataprocessing.readtools import *\n",
    "from villas.dataprocessing.timeseries import *\n",
    "import matplotlib.pyplot as plt\n",
    "import re\n",
    "import numpy as np\n",
    "\n",
    "# %matplotlib widget\n",
    "PEAK1PH_TO_RMS3PH = np.sqrt(3.0/2.0)\n",
    "\n",
    "scale_kp=np.round(np.arange(0.01,0.1,0.02),2)"
   ]
  },
  {
   "cell_type": "markdown",
   "metadata": {},
   "source": [
    "## EMT results"
   ]
  },
  {
   "cell_type": "code",
   "execution_count": null,
   "metadata": {},
   "outputs": [],
   "source": [
    "ts_dpsim={}\n",
    "for kp in scale_kp:\n",
    "    modelName = 'EMT_Slack_PiLine_VSI_with_PF_Init_KP-'+str(kp)+'_EMT'\n",
    "    path = 'logs/' + modelName + '/'\n",
    "    dpsim_result_file = path + modelName + '.csv'\n",
    "    ts_dpsim[str(kp)] = read_timeseries_csv(dpsim_result_file)"
   ]
  },
  {
   "cell_type": "markdown",
   "metadata": {},
   "source": [
    "### States - Active Power"
   ]
  },
  {
   "cell_type": "code",
   "execution_count": null,
   "metadata": {},
   "outputs": [],
   "source": [
    "plt.figure(figsize=(12,6))\n",
    "\n",
    "for kp in scale_kp:\n",
    "    ts_of_interest = ['pv_powerctrl_state_p']\n",
    "    for ts_name, ts_obj  in ts_dpsim[str(kp)].items():\n",
    "        if ts_name in ts_of_interest:\n",
    "            plt.plot(ts_obj.time, ts_obj.values, label=ts_name+\", kp=\"+str(kp))\n",
    "        \n",
    "# add references\n",
    "ts_of_interest = ['pv_powerctrl_input_pref']\n",
    "for ts_name, ts_obj  in ts_dpsim[str(kp)].items():\n",
    "    if ts_name in ts_of_interest:\n",
    "        plt.plot(ts_obj.time, ts_obj.values, label=ts_name, linestyle=':')\n",
    "        \n",
    "plt.legend()\n",
    "plt.show()"
   ]
  },
  {
   "cell_type": "markdown",
   "metadata": {},
   "source": [
    "### States - Reactive Power"
   ]
  },
  {
   "cell_type": "code",
   "execution_count": null,
   "metadata": {},
   "outputs": [],
   "source": [
    "plt.figure(figsize=(12,6))\n",
    "\n",
    "for kp in scale_kp:\n",
    "    ts_of_interest = ['pv_powerctrl_state_q']\n",
    "    for ts_name, ts_obj  in ts_dpsim[str(kp)].items():\n",
    "        if ts_name in ts_of_interest:\n",
    "            plt.plot(ts_obj.time, ts_obj.values, label=ts_name+\", kp=\"+str(kp))\n",
    "        \n",
    "# add references\n",
    "ts_of_interest = ['pv_powerctrl_input_qref']\n",
    "for ts_name, ts_obj  in ts_dpsim[str(kp)].items():\n",
    "    if ts_name in ts_of_interest:\n",
    "        plt.plot(ts_obj.time, ts_obj.values, label=ts_name, linestyle=':')\n",
    "        \n",
    "plt.legend()\n",
    "plt.show()"
   ]
  },
  {
   "cell_type": "markdown",
   "metadata": {},
   "source": [
    "## Ki study"
   ]
  },
  {
   "cell_type": "code",
   "execution_count": null,
   "metadata": {},
   "outputs": [],
   "source": [
    "%%bash\n",
    "TOP=${TOP:-$(git rev-parse --show-toplevel)}\n",
    "PATH=${PATH}:${TOP}/build/Examples/Cxx\n",
    "\n",
    "TIMESTEP=1e-3\n",
    "DURATION=2.5\n",
    "\n",
    "for SCALEKI in $(seq 0.1 0.2 2)\n",
    "do\n",
    "    EMT_Slack_PiLine_VSI_with_PF_Init --name=\"EMT_Slack_PiLine_VSI_with_PF_Init_KI-${SCALEKI}\" --option=\"scale_ki=${SCALEKI}\" --timestep=${TIMESTEP} --duration=${DURATION}\n",
    "done"
   ]
  },
  {
   "cell_type": "code",
   "execution_count": null,
   "metadata": {},
   "outputs": [],
   "source": [
    "from villas.dataprocessing.readtools import *\n",
    "from villas.dataprocessing.timeseries import *\n",
    "import matplotlib.pyplot as plt\n",
    "import re\n",
    "import numpy as np\n",
    "\n",
    "%matplotlib widget\n",
    "PEAK1PH_TO_RMS3PH = np.sqrt(3.0/2.0)\n",
    "\n",
    "scale_ki=np.round(np.arange(0.1,2.1,0.2),1)"
   ]
  },
  {
   "cell_type": "markdown",
   "metadata": {},
   "source": [
    "## EMT results"
   ]
  },
  {
   "cell_type": "code",
   "execution_count": null,
   "metadata": {},
   "outputs": [],
   "source": [
    "ts_dpsim={}\n",
    "for ki in scale_ki:\n",
    "    modelName = 'EMT_Slack_PiLine_VSI_with_PF_Init_KI-'+str(ki)+'_EMT'\n",
    "    path = 'logs/' + modelName + '/'\n",
    "    dpsim_result_file = path + modelName + '.csv'\n",
    "    ts_dpsim[str(ki)] = read_timeseries_csv(dpsim_result_file)"
   ]
  },
  {
   "cell_type": "markdown",
   "metadata": {},
   "source": [
    "### States - Active Power"
   ]
  },
  {
   "cell_type": "code",
   "execution_count": null,
   "metadata": {},
   "outputs": [],
   "source": [
    "plt.figure(figsize=(12,6))\n",
    "\n",
    "for ki in scale_ki:\n",
    "    ts_of_interest = ['pv_powerctrl_state_p']\n",
    "    for ts_name, ts_obj  in ts_dpsim[str(ki)].items():\n",
    "        if ts_name in ts_of_interest:\n",
    "            plt.plot(ts_obj.time, ts_obj.values, label=ts_name+\", ki=\"+str(ki))\n",
    "        \n",
    "# add references\n",
    "ts_of_interest = ['pv_powerctrl_input_pref']\n",
    "for ts_name, ts_obj  in ts_dpsim[str(ki)].items():\n",
    "    if ts_name in ts_of_interest:\n",
    "        plt.plot(ts_obj.time, ts_obj.values, label=ts_name, linestyle=':')\n",
    "        \n",
    "plt.legend()\n",
    "plt.show()"
   ]
  },
  {
   "cell_type": "markdown",
   "metadata": {},
   "source": [
    "### States - Reactive Power"
   ]
  },
  {
   "cell_type": "code",
   "execution_count": null,
   "metadata": {},
   "outputs": [],
   "source": [
    "plt.figure(figsize=(12,6))\n",
    "\n",
    "for ki in scale_ki:\n",
    "    ts_of_interest = ['pv_powerctrl_state_q']\n",
    "    for ts_name, ts_obj  in ts_dpsim[str(ki)].items():\n",
    "        if ts_name in ts_of_interest:\n",
    "            plt.plot(ts_obj.time, ts_obj.values, label=ts_name+\", ki=\"+str(ki))\n",
    "        \n",
    "# add references\n",
    "ts_of_interest = ['pv_powerctrl_input_qref']\n",
    "for ts_name, ts_obj  in ts_dpsim[str(ki)].items():\n",
    "    if ts_name in ts_of_interest:\n",
    "        plt.plot(ts_obj.time, ts_obj.values, label=ts_name, linestyle=':')\n",
    "        \n",
    "plt.legend()\n",
    "plt.show()"
   ]
  },
  {
   "cell_type": "markdown",
   "metadata": {},
   "source": [
    "## Final choice"
   ]
  },
  {
   "cell_type": "code",
   "execution_count": null,
   "metadata": {},
   "outputs": [],
   "source": [
    "%%bash\n",
    "TOP=${TOP:-$(git rev-parse --show-toplevel)}\n",
    "PATH=${PATH}:${TOP}/build/Examples/Cxx\n",
    "\n",
    "TIMESTEP=4e-3\n",
    "DURATION=5\n",
    "\n",
    "SCALEKP=0.1\n",
    "SCALEKI=1.0\n",
    "\n",
    "EMT_Slack_PiLine_VSI_with_PF_Init --name=\"EMT_Slack_PiLine_VSI_with_PF_Init_KP_${SCALEKP}_KI_${SCALEKI}\" --option=\"scale_kp=${SCALEKP}\" --option=\"scale_ki=${SCALEKI}\" --timestep=${TIMESTEP} --duration=${DURATION}"
   ]
  },
  {
   "cell_type": "code",
   "execution_count": null,
   "metadata": {},
   "outputs": [],
   "source": [
    "kp=0.1\n",
    "ki=1.0\n",
    "\n",
    "modelName = 'EMT_Slack_PiLine_VSI_with_PF_Init_KP_'+str(kp)+'_KI_'+str(ki)+'_EMT'\n",
    "print(modelName)\n",
    "path = 'logs/' + modelName + '/'\n",
    "dpsim_result_file = path + modelName + '.csv'\n",
    "ts_dpsim = read_timeseries_csv(dpsim_result_file)"
   ]
  },
  {
   "cell_type": "markdown",
   "metadata": {},
   "source": [
    "### States - Active Power"
   ]
  },
  {
   "cell_type": "code",
   "execution_count": null,
   "metadata": {},
   "outputs": [],
   "source": [
    "plt.figure(figsize=(12,6))\n",
    "\n",
    "ts_of_interest = ['pv_powerctrl_state_p']\n",
    "for ts_name, ts_obj  in ts_dpsim.items():\n",
    "    if ts_name in ts_of_interest:\n",
    "        plt.plot(ts_obj.time, ts_obj.values, label=ts_name+\", kp=\"+str(kp)+\", ki=\"+str(ki))\n",
    "        \n",
    "ts_of_interest = ['pv_powerctrl_input_pref']\n",
    "for ts_name, ts_obj  in ts_dpsim.items():\n",
    "    if ts_name in ts_of_interest:\n",
    "        plt.plot(ts_obj.time, ts_obj.values, label=ts_name, linestyle=':')\n",
    "        \n",
    "plt.legend()\n",
    "plt.show()"
   ]
  },
  {
   "cell_type": "markdown",
   "metadata": {},
   "source": [
    "### States - Reactive Power"
   ]
  },
  {
   "cell_type": "code",
   "execution_count": null,
   "metadata": {},
   "outputs": [],
   "source": [
    "plt.figure(figsize=(12,6))\n",
    "\n",
    "ts_of_interest = ['pv_powerctrl_state_p']\n",
    "for ts_name, ts_obj  in ts_dpsim.items():\n",
    "    if ts_name in ts_of_interest:\n",
    "        plt.plot(ts_obj.time, ts_obj.values, label=ts_name+\", kp=\"+str(kp)+\", ki=\"+str(ki))\n",
    "        \n",
    "ts_of_interest = ['pv_powerctrl_input_qref']\n",
    "for ts_name, ts_obj  in ts_dpsim.items():\n",
    "    if ts_name in ts_of_interest:\n",
    "        plt.plot(ts_obj.time, ts_obj.values, label=ts_name, linestyle=':')\n",
    "        \n",
    "plt.legend()\n",
    "plt.show()"
   ]
  },
  {
   "cell_type": "code",
   "execution_count": null,
   "metadata": {},
   "outputs": [],
   "source": []
  }
 ],
 "metadata": {
  "kernelspec": {
   "display_name": "Python 3",
   "language": "python",
   "name": "python3"
  },
  "language_info": {
   "codemirror_mode": {
    "name": "ipython",
    "version": 3
   },
   "file_extension": ".py",
   "mimetype": "text/x-python",
   "name": "python",
   "nbconvert_exporter": "python",
   "pygments_lexer": "ipython3",
   "version": "3.7.6"
  },
  "tests": {
   "skip": true
  }
 },
 "nbformat": 4,
 "nbformat_minor": 4
}
