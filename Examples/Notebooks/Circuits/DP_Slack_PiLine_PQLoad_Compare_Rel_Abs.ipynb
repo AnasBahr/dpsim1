{
 "cells": [
  {
   "cell_type": "markdown",
   "metadata": {},
   "source": [
    "# DP Simulation of topology with slack, line and PQ load"
   ]
  },
  {
   "cell_type": "code",
   "execution_count": null,
   "metadata": {},
   "outputs": [],
   "source": [
    " %%bash\n",
    "TOP=${TOP:-$(git rev-parse --show-toplevel)}\n",
    "PATH=${TOP}/build/Examples/Cxx\n",
    "\n",
    "TIMESTEP=0.001\n",
    "DURATION=10.0\n",
    "\n",
    "DP_Slack_PiLine_PQLoad_Ramp_with_PF_Init --timestep=${TIMESTEP} --duration=${DURATION} --name=\"DP_Slack_PiLine_PQLoad_Relative\" -o relative=1\n",
    "DP_Slack_PiLine_PQLoad_Ramp_with_PF_Init --timestep=${TIMESTEP} --duration=${DURATION} --name=\"DP_Slack_PiLine_PQLoad_Absolute\""
   ]
  },
  {
   "cell_type": "code",
   "execution_count": null,
   "metadata": {},
   "outputs": [],
   "source": [
    "from villas.dataprocessing.readtools import *\n",
    "from villas.dataprocessing.timeseries import *\n",
    "import matplotlib.pyplot as plt\n",
    "import re\n",
    "\n",
    "# %matplotlib widget"
   ]
  },
  {
   "source": [
    "## DP Results"
   ],
   "cell_type": "markdown",
   "metadata": {}
  },
  {
   "cell_type": "code",
   "execution_count": null,
   "metadata": {},
   "outputs": [],
   "source": [
    "# relative\n",
    "modelName = 'DP_Slack_PiLine_PQLoad_Relative_DP'\n",
    "path = 'logs/' + modelName + '/'\n",
    "dpsim_result_file = path + modelName + '.csv'\n",
    "\n",
    "ts_dpsim_rel = read_timeseries_csv(dpsim_result_file)\n",
    "\n",
    "# relative\n",
    "modelName = 'DP_Slack_PiLine_PQLoad_Absolute_DP'\n",
    "path = 'logs/' + modelName + '/'\n",
    "dpsim_result_file = path + modelName + '.csv'\n",
    "\n",
    "ts_dpsim_abs = read_timeseries_csv(dpsim_result_file)"
   ]
  },
  {
   "source": [
    "## Plot Slack's Voltage Source Frequency"
   ],
   "cell_type": "markdown",
   "metadata": {}
  },
  {
   "cell_type": "code",
   "execution_count": null,
   "metadata": {},
   "outputs": [],
   "source": [
    "plt.figure(figsize=(12,6))\n",
    "\n",
    "plt.plot(ts_dpsim_rel['f_src'].time, ts_dpsim_rel['f_src'].values, label='f_src (rel)')\n",
    "plt.plot(ts_dpsim_abs['f_src'].time, ts_dpsim_abs['f_src'].values, label='f_src (abs)')\n",
    "\n",
    "plt.xlim(4.0, 6.0)\n",
    "plt.legend()\n",
    "plt.show()"
   ]
  },
  {
   "cell_type": "code",
   "execution_count": null,
   "metadata": {},
   "outputs": [],
   "source": [
    "plt.figure(figsize=(12,6))\n",
    "\n",
    "plt.plot(ts_dpsim_rel['f_src'].time, ts_dpsim_rel['f_src'].values - ts_dpsim_abs['f_src'].values, label='f_src (diff)')\n",
    "\n",
    "plt.xlim(4.0, 6.0)\n",
    "plt.legend()\n",
    "plt.show()"
   ]
  },
  {
   "source": [
    "## Plot Slack's Source Voltage"
   ],
   "cell_type": "markdown",
   "metadata": {}
  },
  {
   "cell_type": "code",
   "execution_count": null,
   "metadata": {},
   "outputs": [],
   "source": [
    "plt.figure(figsize=(12,6))\n",
    "\n",
    "plt.plot(ts_dpsim_rel['v1'].time, ts_dpsim_rel['v1'].abs().values, label='|v1| (rel)')\n",
    "plt.plot(ts_dpsim_abs['v1'].time, ts_dpsim_abs['v1'].abs().values, label='|v1| (abs)')\n",
    "\n",
    "plt.xlim(4.0, 6.0)\n",
    "plt.ylim(1.9e4, 2.1e4)\n",
    "plt.legend()\n",
    "plt.show()"
   ]
  },
  {
   "cell_type": "code",
   "execution_count": null,
   "metadata": {},
   "outputs": [],
   "source": [
    "plt.figure(figsize=(12,6))\n",
    "\n",
    "plt.plot(ts_dpsim_rel['v1'].time, ts_dpsim_rel['v1'].phase().values, label='phase(v1)  (rel)')\n",
    "plt.plot(ts_dpsim_abs['v1'].time, ts_dpsim_abs['v1'].phase().values, label='phase(v1) (abs)')\n",
    "\n",
    "plt.xlim(4.0, 6.0)\n",
    "plt.legend()\n",
    "plt.show()"
   ]
  },
  {
   "cell_type": "code",
   "execution_count": null,
   "metadata": {},
   "outputs": [],
   "source": [
    "plt.figure(figsize=(12,6))\n",
    "\n",
    "plt.plot(ts_dpsim_rel['v1'].time, ts_dpsim_rel['v1'].phase().values - ts_dpsim_abs['v1'].phase().values, label='phase(v1) (diff)')\n",
    "\n",
    "plt.xlim(4.0, 6.0)\n",
    "plt.legend()\n",
    "plt.show()"
   ]
  },
  {
   "cell_type": "code",
   "execution_count": null,
   "metadata": {},
   "outputs": [],
   "source": [
    "plt.figure(figsize=(12,6))\n",
    "\n",
    "plt.plot(ts_dpsim_rel['v1'].time, np.real(ts_dpsim_rel['v1'].values), label='Re(v1) (rel)')\n",
    "plt.plot(ts_dpsim_abs['v1'].time, np.real(ts_dpsim_abs['v1'].values), label='Re(v1) (abs)')\n",
    "\n",
    "plt.xlim(4.0, 6.0)\n",
    "plt.legend()\n",
    "plt.show()"
   ]
  },
  {
   "source": [
    "## Plot Line Current"
   ],
   "cell_type": "markdown",
   "metadata": {}
  },
  {
   "cell_type": "code",
   "execution_count": null,
   "metadata": {},
   "outputs": [],
   "source": [
    "plt.figure(figsize=(12,6))\n",
    "\n",
    "plt.plot(ts_dpsim_rel['i12'].time, ts_dpsim_rel['i12'].abs().values, label='|i12| (rel)')\n",
    "plt.plot(ts_dpsim_abs['i12'].time, ts_dpsim_abs['i12'].abs().values, label='|i12| (abs)')\n",
    "\n",
    "plt.xlim(4.0, 6.0)\n",
    "#plt.xlim(5.38,5.42)\n",
    "#plt.ylim(5.5,5.51)\n",
    "plt.legend()\n",
    "plt.show()"
   ]
  },
  {
   "cell_type": "code",
   "execution_count": null,
   "metadata": {},
   "outputs": [],
   "source": [
    "plt.figure(figsize=(12,6))\n",
    "\n",
    "plt.plot(ts_dpsim_rel['i12'].time, ts_dpsim_rel['i12'].phase().values - ts_dpsim_abs['i12'].phase().values, label='i12 phase (diff)')\n",
    "\n",
    "plt.xlim(4.0, 6.0)\n",
    "plt.legend()\n",
    "plt.show()"
   ]
  },
  {
   "cell_type": "code",
   "execution_count": null,
   "metadata": {},
   "outputs": [],
   "source": [
    "plt.figure(figsize=(12,6))\n",
    "\n",
    "plt.plot(ts_dpsim_rel['i12'].time, ts_dpsim_rel['i12'].abs().values, label='|i12| (rel)')\n",
    "plt.plot(ts_dpsim_abs['i12'].time, ts_dpsim_abs['i12'].abs().values, label='|i12| (abs)')\n",
    "\n",
    "#plt.xlim(4.0, 6.0)\n",
    "plt.xlim(5.36,5.44)\n",
    "plt.ylim(5.5,5.51)\n",
    "plt.legend()\n",
    "plt.show()"
   ]
  },
  {
   "source": [
    "## Plot Line Current Spectrum"
   ],
   "cell_type": "markdown",
   "metadata": {}
  },
  {
   "cell_type": "code",
   "execution_count": null,
   "metadata": {},
   "outputs": [],
   "source": [
    "plt.figure(figsize=(12,6))\n",
    "\n",
    "#plt.magnitude_spectrum(ts_dpsim_rel['i12'].abs().values[5500:]-5.507, Fs=1000, pad_to=10000, label=f'|F(|i12|)| (4s-6s) (rel)')\n",
    "plt.magnitude_spectrum(ts_dpsim_abs['i12'].abs().values[5500:]-5.507, Fs=1000, pad_to=10000, label=f'|F(|i12|)| (4s-6s) (abs)')\n",
    "\n",
    "#plt.xlim(40,60)\n",
    "plt.xlim(45,50)\n",
    "plt.grid()\n",
    "plt.legend()\n",
    "plt.show()"
   ]
  },
  {
   "cell_type": "code",
   "execution_count": null,
   "metadata": {},
   "outputs": [],
   "source": []
  }
 ],
 "metadata": {
  "kernelspec": {
   "display_name": "Python 3",
   "language": "python",
   "name": "python3"
  },
  "language_info": {
   "codemirror_mode": {
    "name": "ipython",
    "version": 3
   },
   "file_extension": ".py",
   "mimetype": "text/x-python",
   "name": "python",
   "nbconvert_exporter": "python",
   "pygments_lexer": "ipython3",
   "version": "3.8.3-final"
  }
 },
 "nbformat": 4,
 "nbformat_minor": 4
}