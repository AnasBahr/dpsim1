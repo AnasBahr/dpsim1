{
 "cells": [
  {
   "cell_type": "markdown",
   "metadata": {},
   "source": [
    "# DP Simulation of topology with slack, line and PQ load"
   ]
  },
  {
   "cell_type": "code",
   "execution_count": null,
   "metadata": {},
   "outputs": [],
   "source": [
    " %%bash\n",
    "TOP=${TOP:-$(git rev-parse --show-toplevel)}\n",
    "PATH=${TOP}/build/Examples/Cxx\n",
    "\n",
    "DP_Slack_PiLine_PQLoad_Compare_Rel_Abs"
   ]
  },
  {
   "cell_type": "code",
   "execution_count": null,
   "metadata": {},
   "outputs": [],
   "source": [
    "from villas.dataprocessing.readtools import *\n",
    "from villas.dataprocessing.timeseries import *\n",
    "import matplotlib.pyplot as plt\n",
    "import re\n",
    "\n",
    "# %matplotlib widget"
   ]
  },
  {
   "source": [
    "## DP Results"
   ],
   "cell_type": "markdown",
   "metadata": {}
  },
  {
   "cell_type": "code",
   "execution_count": null,
   "metadata": {},
   "outputs": [],
   "source": [
    "# relative\n",
    "modelName = 'DP_Slack_PiLine_PQLoad_DP_Relative'\n",
    "path = 'logs/' + modelName + '/'\n",
    "dpsim_result_file = path + modelName + '.csv'\n",
    "\n",
    "ts_dpsim_rel = read_timeseries_csv(dpsim_result_file)\n",
    "\n",
    "# relative\n",
    "modelName = 'DP_Slack_PiLine_PQLoad_DP_Absolute'\n",
    "path = 'logs/' + modelName + '/'\n",
    "dpsim_result_file = path + modelName + '.csv'\n",
    "\n",
    "ts_dpsim_abs = read_timeseries_csv(dpsim_result_file)"
   ]
  },
  {
   "source": [
    "## Plot Slack's Voltage Source Frequency"
   ],
   "cell_type": "markdown",
   "metadata": {}
  },
  {
   "cell_type": "code",
   "execution_count": null,
   "metadata": {},
   "outputs": [],
   "source": [
    "plt.figure(figsize=(12,6))\n",
    "\n",
    "plt.plot(ts_dpsim_rel['f_src'].time, ts_dpsim_rel['f_src'].values, label='f_src (rel)')\n",
    "plt.plot(ts_dpsim_abs['f_src'].time, ts_dpsim_abs['f_src'].values, label='f_src (abs)')\n",
    "\n",
    "plt.xlim(4.0, 6.0)\n",
    "plt.legend()\n",
    "plt.show()"
   ]
  },
  {
   "cell_type": "code",
   "execution_count": null,
   "metadata": {},
   "outputs": [],
   "source": [
    "plt.figure(figsize=(12,6))\n",
    "\n",
    "plt.plot(ts_dpsim_rel['f_src'].time, ts_dpsim_rel['f_src'].values - ts_dpsim_abs['f_src'].values, label='f_src (diff)')\n",
    "\n",
    "plt.xlim(4.0, 6.0)\n",
    "plt.legend()\n",
    "plt.show()"
   ]
  },
  {
   "source": [
    "## Plot Slack's Source Voltage"
   ],
   "cell_type": "markdown",
   "metadata": {}
  },
  {
   "cell_type": "code",
   "execution_count": null,
   "metadata": {},
   "outputs": [],
   "source": [
    "plt.figure(figsize=(12,6))\n",
    "\n",
    "plt.plot(ts_dpsim_rel['V_ref'].time, ts_dpsim_rel['V_ref'].phase().values, label='V_ref (rel)')\n",
    "plt.plot(ts_dpsim_abs['V_ref'].time, ts_dpsim_abs['V_ref'].phase().values, label='V_ref (abs)')\n",
    "\n",
    "plt.xlim(4.0, 6.0)\n",
    "plt.legend()\n",
    "plt.show()"
   ]
  },
  {
   "cell_type": "code",
   "execution_count": null,
   "metadata": {},
   "outputs": [],
   "source": [
    "plt.figure(figsize=(12,6))\n",
    "\n",
    "plt.plot(ts_dpsim_rel['V_ref'].time, ts_dpsim_rel['V_ref'].phase().values - ts_dpsim_abs['V_ref'].phase().values, label='V_ref (diff)')\n",
    "\n",
    "plt.xlim(4.0, 6.0)\n",
    "plt.legend()\n",
    "plt.show()"
   ]
  },
  {
   "source": [
    "## Plot Line Current"
   ],
   "cell_type": "markdown",
   "metadata": {}
  },
  {
   "cell_type": "code",
   "execution_count": null,
   "metadata": {},
   "outputs": [],
   "source": [
    "plt.figure(figsize=(12,6))\n",
    "\n",
    "plt.plot(ts_dpsim_rel['i12'].time, ts_dpsim_rel['i12'].abs().values, label='i12 (rel)')\n",
    "plt.plot(ts_dpsim_abs['i12'].time, ts_dpsim_abs['i12'].abs().values, label='i12 (abs)')\n",
    "\n",
    "plt.xlim(4.0, 6.0)\n",
    "plt.legend()\n",
    "plt.show()"
   ]
  },
  {
   "source": [
    "## Plot Line Current Spectrum"
   ],
   "cell_type": "markdown",
   "metadata": {}
  },
  {
   "cell_type": "code",
   "execution_count": null,
   "metadata": {},
   "outputs": [],
   "source": [
    "plt.figure(figsize=(12,6))\n",
    "\n",
    "plt.magnitude_spectrum(ts_dpsim_rel['i12'].values[4000:6000], Fs=10000, pad_to=10000, label=f'|F(i12)| (4s-6s) (rel)')\n",
    "plt.magnitude_spectrum(ts_dpsim_abs['i12'].values[4000:6000], Fs=10000, pad_to=10000, label=f'|F(i12)| (4s-6s) (abs)')\n",
    "\n",
    "#plt.xlim(40,60)\n",
    "plt.xlim(-100,50)\n",
    "plt.grid()\n",
    "plt.legend()\n",
    "plt.show()"
   ]
  },
  {
   "cell_type": "code",
   "execution_count": null,
   "metadata": {},
   "outputs": [],
   "source": []
  }
 ],
 "metadata": {
  "kernelspec": {
   "display_name": "Python 3",
   "language": "python",
   "name": "python3"
  },
  "language_info": {
   "codemirror_mode": {
    "name": "ipython",
    "version": 3
   },
   "file_extension": ".py",
   "mimetype": "text/x-python",
   "name": "python",
   "nbconvert_exporter": "python",
   "pygments_lexer": "ipython3",
   "version": "3.8.3-final"
  }
 },
 "nbformat": 4,
 "nbformat_minor": 4
}