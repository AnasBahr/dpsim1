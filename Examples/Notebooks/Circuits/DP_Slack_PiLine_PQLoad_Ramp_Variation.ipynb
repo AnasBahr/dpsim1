{
 "cells": [
  {
   "cell_type": "markdown",
   "metadata": {},
   "source": [
    "# DP Simulation of topology with slack, line and PQ load"
   ]
  },
  {
   "cell_type": "code",
   "execution_count": null,
   "metadata": {},
   "outputs": [],
   "source": [
    "from villas.dataprocessing.readtools import *\n",
    "from villas.dataprocessing.timeseries import *\n",
    "import matplotlib.pyplot as plt\n",
    "import re\n",
    "\n",
    "# %matplotlib widget\n",
    "ts_dpsim = []\n",
    "modelName = 'DP_Slack_PiLine_PQLoad_Ramp_with_PF_Init_DP'\n",
    "path = 'logs/' + modelName + '/'\n",
    "dpsim_result_file = path + modelName + '.csv'"
   ]
  },
  {
   "source": [
    "## DP Results (1/3)"
   ],
   "cell_type": "markdown",
   "metadata": {}
  },
  {
   "cell_type": "code",
   "execution_count": null,
   "metadata": {},
   "outputs": [],
   "source": [
    " %%bash\n",
    "TOP=${TOP:-$(git rev-parse --show-toplevel)}\n",
    "PATH=${TOP}/build/Examples/Cxx\n",
    "\n",
    "DP_Slack_PiLine_PQLoad_Ramp_with_PF_Init -o ramp=0.0"
   ]
  },
  {
   "cell_type": "code",
   "execution_count": null,
   "metadata": {},
   "outputs": [],
   "source": [
    "ts_dpsim.append(read_timeseries_csv(dpsim_result_file))"
   ]
  },
  {
   "source": [
    "## DP Results (2/3)"
   ],
   "cell_type": "markdown",
   "metadata": {}
  },
  {
   "cell_type": "code",
   "execution_count": null,
   "metadata": {},
   "outputs": [],
   "source": [
    " %%bash\n",
    "TOP=${TOP:-$(git rev-parse --show-toplevel)}\n",
    "PATH=${TOP}/build/Examples/Cxx\n",
    "\n",
    "DP_Slack_PiLine_PQLoad_Ramp_with_PF_Init"
   ]
  },
  {
   "cell_type": "code",
   "execution_count": null,
   "metadata": {},
   "outputs": [],
   "source": [
    "ts_dpsim.append(read_timeseries_csv(dpsim_result_file))"
   ]
  },
  {
   "source": [
    "## DP Results(3/3)"
   ],
   "cell_type": "markdown",
   "metadata": {}
  },
  {
   "cell_type": "code",
   "execution_count": null,
   "metadata": {},
   "outputs": [],
   "source": [
    " %%bash\n",
    "TOP=${TOP:-$(git rev-parse --show-toplevel)}\n",
    "PATH=${TOP}/build/Examples/Cxx\n",
    "\n",
    "DP_Slack_PiLine_PQLoad_Ramp_with_PF_Init -o ramp=-10.0"
   ]
  },
  {
   "cell_type": "code",
   "execution_count": null,
   "metadata": {},
   "outputs": [],
   "source": [
    "ts_dpsim.append(read_timeseries_csv(dpsim_result_file))"
   ]
  },
  {
   "source": [
    "## Plot Slack's Voltage Source Frequency"
   ],
   "cell_type": "markdown",
   "metadata": {}
  },
  {
   "cell_type": "code",
   "execution_count": null,
   "metadata": {},
   "outputs": [],
   "source": [
    "plt.figure(figsize=(12,6))\n",
    "for i in range(3):\n",
    "        plt.plot(ts_dpsim[i]['f_src'].time, ts_dpsim[i]['f_src'].values, label=f'f_src ({i+1})')\n",
    "plt.xlim(4.0, 6.0)\n",
    "plt.legend()\n",
    "plt.show()"
   ]
  },
  {
   "source": [
    "## Plot Line Current"
   ],
   "cell_type": "markdown",
   "metadata": {}
  },
  {
   "cell_type": "code",
   "execution_count": null,
   "metadata": {},
   "outputs": [],
   "source": [
    "plt.figure(figsize=(12,6))\n",
    "for i in range(3):\n",
    "        plt.plot(ts_dpsim[i]['i12'].time, ts_dpsim[i]['i12'].abs().values, label=f'i12 ({i+1})')\n",
    "plt.xlim(4.0, 6.0)\n",
    "plt.legend()\n",
    "plt.show()"
   ]
  },
  {
   "source": [
    "## Plot Line Current Spectrum"
   ],
   "cell_type": "markdown",
   "metadata": {}
  },
  {
   "cell_type": "code",
   "execution_count": null,
   "metadata": {},
   "outputs": [],
   "source": [
    "plt.figure(figsize=(12,6))\n",
    "for i in range(3):\n",
    "    plt.magnitude_spectrum(ts_dpsim[i]['i12'].values[4000:6000], Fs=10000, pad_to=10000, label=f'|F(i12)| (4s-6s) ({i+1})')\n",
    "#plt.xlim(40,60)\n",
    "plt.xlim(-100,50)\n",
    "plt.grid()\n",
    "plt.legend()\n",
    "plt.show()"
   ]
  },
  {
   "cell_type": "code",
   "execution_count": null,
   "metadata": {},
   "outputs": [],
   "source": []
  }
 ],
 "metadata": {
  "kernelspec": {
   "display_name": "Python 3",
   "language": "python",
   "name": "python3"
  },
  "language_info": {
   "codemirror_mode": {
    "name": "ipython",
    "version": 3
   },
   "file_extension": ".py",
   "mimetype": "text/x-python",
   "name": "python",
   "nbconvert_exporter": "python",
   "pygments_lexer": "ipython3",
   "version": "3.8.3-final"
  }
 },
 "nbformat": 4,
 "nbformat_minor": 4
}