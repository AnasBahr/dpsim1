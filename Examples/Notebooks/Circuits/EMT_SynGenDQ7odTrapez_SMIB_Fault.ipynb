{
 "cells": [
  {
   "cell_type": "markdown",
   "metadata": {},
   "source": [
    "# Synchronous Generator dq 7th order model vs transient stability classical model"
   ]
  },
  {
   "cell_type": "markdown",
   "metadata": {},
   "source": [
    "## Run C++ examples"
   ]
  },
  {
   "cell_type": "code",
   "execution_count": null,
   "metadata": {},
   "outputs": [],
   "source": [
    "%%bash\n",
    "TOP=${TOP:-$(git rev-parse --show-toplevel)}\n",
    "PATH=${TOP}/build/Examples/Cxx\n",
    "\n",
    "EMT_SynGenDQ7odTrapez_SMIB_Fault"
   ]
  },
  {
   "cell_type": "code",
   "execution_count": null,
   "metadata": {},
   "outputs": [],
   "source": [
    "import villas.dataprocessing.readtools as rt\n",
    "from villas.dataprocessing.timeseries import TimeSeries as ts\n",
    "import matplotlib.pyplot as plt\n",
    "import re\n",
    "import numpy as np\n",
    "import math\n",
    "\n",
    "#%matplotlib widget\n",
    "\n",
    "begin_idx=0\n",
    "end_idx=-1"
   ]
  },
  {
   "cell_type": "markdown",
   "metadata": {},
   "source": [
    "## Results 3ph EMT 7th order model with trapezoidal rule"
   ]
  },
  {
   "cell_type": "code",
   "execution_count": null,
   "metadata": {},
   "outputs": [],
   "source": [
    "work_dir = 'logs/EMT_3ph_SynGenDQ7odTrapez_ThreePhFault/'\n",
    "log_name = 'EMT_3ph_SynGenDQ7odTrapez_ThreePhFault'\n",
    "print(work_dir + log_name + '.csv')\n",
    "ts_emt3ph_DQ7odTrapez = rt.read_timeseries_dpsim(work_dir + log_name + '.csv')"
   ]
  },
  {
   "cell_type": "markdown",
   "metadata": {},
   "source": [
    "## Network node voltages"
   ]
  },
  {
   "cell_type": "code",
   "execution_count": null,
   "metadata": {},
   "outputs": [],
   "source": [
    "plt.figure(figsize=(12,8))\n",
    "plt.ylabel('Network node voltage (V)', fontsize=18)\n",
    "\n",
    "for name in ['v1', 'v2']:\n",
    "    plt.plot(ts_emt3ph_DQ7odTrapez[name + '_0'].time[begin_idx:end_idx], np.sqrt(3/2)*ts_emt3ph_DQ7odTrapez[name + '_0'].values[begin_idx:end_idx], label=name)\n",
    "    \n",
    "plt.legend(fontsize=14)\n",
    "plt.show()"
   ]
  },
  {
   "cell_type": "markdown",
   "metadata": {},
   "source": [
    "## Generator terminal voltage"
   ]
  },
  {
   "cell_type": "code",
   "execution_count": null,
   "metadata": {},
   "outputs": [],
   "source": [
    "plt.figure(figsize=(12,8))\n",
    "plt.ylabel('Generator terminal voltage (V)', fontsize=18)\n",
    "\n",
    "for name in ['v_gen']:\n",
    "    plt.plot(ts_emt3ph_DQ7odTrapez[name + '_0'].time[begin_idx:end_idx], np.sqrt(3/2)*ts_emt3ph_DQ7odTrapez[name + '_0'].values[begin_idx:end_idx], label=name)\n",
    "    \n",
    "plt.legend(fontsize=14)\n",
    "plt.show()"
   ]
  },
  {
   "cell_type": "markdown",
   "metadata": {},
   "source": [
    "## Genrerator terminal Current"
   ]
  },
  {
   "cell_type": "code",
   "execution_count": null,
   "metadata": {},
   "outputs": [],
   "source": [
    "plt.figure(figsize=(12,8))\n",
    "plt.ylabel('Generator terminal current (V)', fontsize=18)\n",
    "\n",
    "for name in ['i_gen']:\n",
    "    plt.plot(ts_emt3ph_DQ7odTrapez[name + '_0'].time[begin_idx:end_idx], np.sqrt(3/2)*ts_emt3ph_DQ7odTrapez[name + '_0'].values[begin_idx:end_idx], label=name)\n",
    "\n",
    "plt.legend()\n",
    "plt.show()"
   ]
  },
  {
   "cell_type": "markdown",
   "metadata": {},
   "source": [
    "## Voltage across line"
   ]
  },
  {
   "cell_type": "code",
   "execution_count": null,
   "metadata": {},
   "outputs": [],
   "source": [
    "plt.figure(figsize=(12,8))\n",
    "\n",
    "for name in ['v_line']:\n",
    "    plt.plot(ts_emt3ph_DQ7odTrapez[name + '_0'].time[begin_idx:end_idx], np.sqrt(3/2)*ts_emt3ph_DQ7odTrapez[name + '_0'].values[begin_idx:end_idx], label=name)\n",
    "\n",
    "plt.legend()\n",
    "plt.show()"
   ]
  },
  {
   "cell_type": "markdown",
   "metadata": {},
   "source": [
    "## Current through line"
   ]
  },
  {
   "cell_type": "code",
   "execution_count": null,
   "metadata": {},
   "outputs": [],
   "source": [
    "plt.figure(figsize=(12,8))\n",
    "\n",
    "for name in ['i_line']:\n",
    "    plt.plot(ts_emt3ph_DQ7odTrapez[name + '_0'].time[begin_idx:end_idx], np.sqrt(3/2)*ts_emt3ph_DQ7odTrapez[name + '_0'].values[begin_idx:end_idx], label=name)\n",
    "\n",
    "plt.legend()\n",
    "plt.show()"
   ]
  },
  {
   "cell_type": "markdown",
   "metadata": {},
   "source": [
    "## Rotor frequency  $f_r$"
   ]
  },
  {
   "cell_type": "code",
   "execution_count": null,
   "metadata": {},
   "outputs": [],
   "source": [
    "plt.figure(figsize=(12,8))\n",
    "plt.xlabel('time (s)', fontsize=20)\n",
    "plt.ylabel('Rotor frequency (Hz)', fontsize=20)\n",
    "plt.xticks(fontsize=18)\n",
    "plt.yticks(fontsize=18)\n",
    "\n",
    "for name in ['wr_gen']:\n",
    "    plt.plot(ts_emt3ph_DQ7odTrapez[name].time[begin_idx:end_idx], ts_emt3ph_DQ7odTrapez[name].values[begin_idx:end_idx]*60, label=name)\n",
    "\n",
    "plt.legend(fontsize=18)\n",
    "plt.show()"
   ]
  },
  {
   "cell_type": "markdown",
   "metadata": {},
   "source": [
    "## Rotor angular velocity $\\omega _r$"
   ]
  },
  {
   "cell_type": "code",
   "execution_count": null,
   "metadata": {},
   "outputs": [],
   "source": [
    "plt.figure(figsize=(12,8))\n",
    "plt.ylabel('Rotor angular velocity (rad/s)', fontsize=18)\n",
    "\n",
    "\n",
    "for name in ['wr_gen']:\n",
    "    plt.plot(ts_emt3ph_DQ7odTrapez[name].time[begin_idx:end_idx], 2*math.pi*60*ts_emt3ph_DQ7odTrapez[name].values[begin_idx:end_idx], label=name +' Full model (9th order)')\n",
    "\n",
    "plt.legend()\n",
    "plt.show()"
   ]
  },
  {
   "cell_type": "markdown",
   "metadata": {},
   "source": [
    "## Rotor angle $\\delta _r$"
   ]
  },
  {
   "cell_type": "code",
   "execution_count": null,
   "metadata": {},
   "outputs": [],
   "source": [
    "plt.figure(figsize=(12,8))\n",
    "for name in ['delta_r']:\n",
    "    plt.plot(ts_emt3ph_DQ7odTrapez[name].time[begin_idx:end_idx], ts_emt3ph_DQ7odTrapez[name].values[begin_idx:end_idx]*180/3.14, label=name + ' Full model (9th order)')\n"
   ]
  },
  {
   "cell_type": "code",
   "execution_count": null,
   "metadata": {},
   "outputs": [],
   "source": []
  }
 ],
 "metadata": {
  "kernelspec": {
   "display_name": "Python 3",
   "language": "python",
   "name": "python3"
  },
  "language_info": {
   "codemirror_mode": {
    "name": "ipython",
    "version": 3
   },
   "file_extension": ".py",
   "mimetype": "text/x-python",
   "name": "python",
   "nbconvert_exporter": "python",
   "pygments_lexer": "ipython3",
   "version": "3.7.6"
  },
  "tests": {
   "skip": true
  }
 },
 "nbformat": 4,
 "nbformat_minor": 4
}
