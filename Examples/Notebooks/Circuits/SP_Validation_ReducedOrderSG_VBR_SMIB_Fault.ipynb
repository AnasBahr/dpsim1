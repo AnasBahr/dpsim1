{
 "cells": [
  {
   "cell_type": "markdown",
   "metadata": {},
   "source": [
    "# Validation of the 3th, 4th and 6th Order VBR SynGen against PSAT"
   ]
  },
  {
   "cell_type": "markdown",
   "metadata": {},
   "source": [
    "## Run C++ examples"
   ]
  },
  {
   "cell_type": "code",
   "execution_count": null,
   "metadata": {},
   "outputs": [],
   "source": [
    "import os\n",
    "import subprocess\n",
    "\n",
    "#%matplotlib widget\n",
    "\n",
    "name = 'SP_ReducedOrderSG_SMIB_Fault'\n",
    "options = ['SGModel=3', 'SGModel=4', 'SGModel=6', 'SGModel=7']\n",
    "\n",
    "dpsim_path = subprocess.Popen(['git', 'rev-parse', '--show-toplevel'], stdout=subprocess.PIPE).communicate()[0].rstrip().decode('utf-8')\n",
    "\n",
    "path_exec = dpsim_path + '/build/Examples/Cxx/'\n",
    "for i in range(len(options)):\n",
    "    sim = subprocess.Popen([path_exec + name, '-o', options[i]], stdout=subprocess.PIPE, stderr=subprocess.STDOUT)\n",
    "    print(sim.communicate()[0].decode())\n"
   ]
  },
  {
   "cell_type": "markdown",
   "metadata": {},
   "source": [
    "## Load DPSIM Results"
   ]
  },
  {
   "cell_type": "code",
   "execution_count": null,
   "metadata": {},
   "outputs": [],
   "source": [
    "from villas.dataprocessing.readtools import *\n",
    "from villas.dataprocessing.timeseries import *\n",
    "import matplotlib.pyplot as plt\n",
    "import re\n",
    "import numpy as np\n",
    "import math\n",
    "import os\n",
    "\n",
    "work_dir = os.getcwd() + \"/logs/\"\n",
    "file_name_3Order = 'SP_SynGen3OrderVBR_SMIB_Fault'\n",
    "file_name_4Order = 'SP_SynGen4OrderVBR_SMIB_Fault'\n",
    "file_name_6aOrder = 'SP_SynGen6aOrderVBR_SMIB_Fault'\n",
    "file_name_6bOrder = 'SP_SynGen6bOrderVBR_SMIB_Fault'\n",
    "\n",
    "\n",
    "path_logfile = work_dir + file_name_3Order + \"/\" + file_name_3Order + \".csv\"\n",
    "ts_dpsim_3Order = read_timeseries_dpsim(path_logfile)\n",
    "\n",
    "path_logfile = work_dir + file_name_4Order + \"/\" + file_name_4Order + \".csv\"\n",
    "ts_dpsim_4Order = read_timeseries_dpsim(path_logfile)\n",
    "\n",
    "path_logfile = work_dir + file_name_6aOrder + \"/\" + file_name_6aOrder + \".csv\"\n",
    "ts_dpsim_6aOrder = read_timeseries_dpsim(path_logfile)\n",
    "\n",
    "path_logfile = work_dir + file_name_6bOrder + \"/\" + file_name_6bOrder + \".csv\"\n",
    "ts_dpsim_6bOrder = read_timeseries_dpsim(path_logfile)"
   ]
  },
  {
   "cell_type": "markdown",
   "metadata": {},
   "source": [
    "## Load PSAT Results"
   ]
  },
  {
   "cell_type": "code",
   "execution_count": null,
   "metadata": {},
   "outputs": [],
   "source": [
    "import urllib.request\n",
    "\n",
    "if not os.path.exists('reference-results'):\n",
    "    os.mkdir('reference-results')\n",
    "\n",
    "url = 'https://git.rwth-aachen.de/acs/public/simulation/reference-results/-/raw/master/PSAT/SMIB-Fault/PSAT_3OrderSyGen_SMIB_Fault_100mS_TS_1mS.out.txt'\n",
    "local_file_3Order = 'reference-results/PSAT_3OrderSyGen_SMIB_Fault_100mS_TS_1mS.out'\n",
    "urllib.request.urlretrieve(url, local_file_3Order) \n",
    "ts_psat_3Order = read_timeseries_dpsim(local_file_3Order)\n",
    "\n",
    "url = 'https://git.rwth-aachen.de/acs/public/simulation/reference-results/-/raw/f218e1b3e4cbcab6c1949e5d96cb3e68cb809b2a/PSAT/SMIB-Fault/PSAT_4OrderSyGen_SMIB_Fault_100mS_TS_1mS.out.txt'\n",
    "local_file_4Order = 'reference-results/PSAT_4OrderSyGen_SMIB_Fault_100mS_TS_1mS.out'\n",
    "urllib.request.urlretrieve(url, local_file_4Order)\n",
    "ts_psat_4Order = read_timeseries_dpsim(local_file_4Order)\n",
    "\n",
    "url = 'https://git.rwth-aachen.de/acs/public/simulation/reference-results/-/raw/f218e1b3e4cbcab6c1949e5d96cb3e68cb809b2a/PSAT/SMIB-Fault/PSAT_6OrderSyGen_SMIB_Fault_100mS_TS_1mS.out.txt'\n",
    "local_file_6Order = 'reference-results/PSAT_6OrderSyGen_SMIB_Fault_100mS_TS_1mS.out'\n",
    "urllib.request.urlretrieve(url, local_file_6Order)\n",
    "ts_psat_6Order = read_timeseries_dpsim(local_file_6Order)"
   ]
  },
  {
   "cell_type": "markdown",
   "metadata": {},
   "source": [
    "## Calculate $V_d$, $V_q$, $I_d$ and $I_q$ in PSAT"
   ]
  },
  {
   "cell_type": "markdown",
   "metadata": {},
   "source": [
    "### 3th Order Model"
   ]
  },
  {
   "cell_type": "code",
   "execution_count": null,
   "metadata": {},
   "outputs": [],
   "source": [
    "#calculate vd and vq\n",
    "angle = ts_psat_3Order['delta'].values - ts_psat_3Order['theta_bus1'].values\n",
    "V_bus1 = ts_psat_3Order['V_Bus1'].values\n",
    "vd = V_bus1 * np.sin(angle)\n",
    "ts_psat_3Order['vd'] = TimeSeries('vd', ts_psat_3Order['V_Bus1'].time, vd)\n",
    "vq = V_bus1 * np.cos(angle)\n",
    "ts_psat_3Order['vq'] = TimeSeries('vq', ts_psat_3Order['V_Bus1'].time, vq)\n",
    "\n",
    "#calculate id and iq in PSAT\n",
    "Xd_t = 0.299900\n",
    "Xq = 1.7600\n",
    "i_d = (ts_psat_3Order['eq_t'].values - ts_psat_3Order['vq'].values) / Xd_t\n",
    "ts_psat_3Order['id'] = TimeSeries('id', ts_psat_3Order['eq_t'].time, i_d)\n",
    "i_q = ts_psat_3Order['vd'].values / Xq\n",
    "ts_psat_3Order['iq'] = TimeSeries('iq', ts_psat_3Order['vd'].time, i_q)"
   ]
  },
  {
   "cell_type": "markdown",
   "metadata": {},
   "source": [
    "### 4th Order Model"
   ]
  },
  {
   "cell_type": "code",
   "execution_count": null,
   "metadata": {},
   "outputs": [],
   "source": [
    "#calculate vd and vq\n",
    "angle = ts_psat_4Order['delta'].values - ts_psat_4Order['theta_bus1'].values\n",
    "V_bus1 = ts_psat_4Order['V_Bus1'].values\n",
    "vd = V_bus1 * np.sin(angle)\n",
    "ts_psat_4Order['vd'] = TimeSeries('vd', ts_psat_4Order['V_Bus1'].time, vd)\n",
    "vq = V_bus1 * np.cos(angle)\n",
    "ts_psat_4Order['vq'] = TimeSeries('vq', ts_psat_4Order['V_Bus1'].time, vq)\n",
    "    \n",
    "#calculate id and iq in PSAT\n",
    "Xd = 0.299900\n",
    "Xq = 0.650000\n",
    "i_d = (ts_psat_4Order['eq_t'].values - ts_psat_4Order['vq'].values) / Xd\n",
    "ts_psat_4Order['id'] = TimeSeries('id', ts_psat_4Order['eq_t'].time, i_d)\n",
    "i_q = -(ts_psat_4Order['ed_t'].values - ts_psat_4Order['vd'].values) / Xq\n",
    "ts_psat_4Order['iq'] = TimeSeries('iq', ts_psat_4Order['ed_t'].time, i_q)"
   ]
  },
  {
   "cell_type": "markdown",
   "metadata": {},
   "source": [
    "### 6th Order Model (Marconato's model)"
   ]
  },
  {
   "cell_type": "code",
   "execution_count": null,
   "metadata": {},
   "outputs": [],
   "source": [
    "#calculate vd and vq\n",
    "angle = ts_psat_6Order['delta'].values - ts_psat_6Order['theta_bus1'].values\n",
    "V_bus1 = ts_psat_6Order['V_Bus1'].values\n",
    "vd = V_bus1 * np.sin(angle)\n",
    "ts_psat_6Order['vd'] = TimeSeries('vd', ts_psat_6Order['V_Bus1'].time, vd)\n",
    "vq = V_bus1 * np.cos(angle)\n",
    "ts_psat_6Order['vq'] = TimeSeries('vq', ts_psat_6Order['V_Bus1'].time, vq)\n",
    "\n",
    "#calculate id and iq in PSAT\\n\",\n",
    "Xd_s = 0.2299\n",
    "Xq_s = 0.2500\n",
    "i_d = (ts_psat_6Order['eq_s'].values - ts_psat_6Order['vq'].values) / Xd_s\n",
    "ts_psat_6Order['id'] = TimeSeries('id', ts_psat_6Order['eq_s'].time, i_d)\n",
    "i_q = -(ts_psat_6Order['ed_s'].values - ts_psat_6Order['vd'].values) / Xq_s\n",
    "ts_psat_6Order['iq'] = TimeSeries('iq', ts_psat_6Order['ed_s'].time, i_q)"
   ]
  },
  {
   "cell_type": "markdown",
   "metadata": {},
   "source": [
    "## Nominal values"
   ]
  },
  {
   "cell_type": "code",
   "execution_count": null,
   "metadata": {
    "tags": []
   },
   "outputs": [],
   "source": [
    "#nominal values (per unit)\n",
    "nominal_values = {}\n",
    "nominal_values['Etorque'] = 0.540541\n",
    "nominal_values['Edq0_0'] = 0.403062     #4th order model\n",
    "nominal_values['Edq0_1'] = 0.944802     #3th and 4th order model\n",
    "nominal_values['Edq0_t_0'] = 0.392200   #6 order model\n",
    "nominal_values['Edq0_t_1'] = 0.946405   #6 order model\n",
    "nominal_values['Edq0_s_0'] = 0.548309   #6 order model\n",
    "nominal_values['Edq0_s_1'] = 0.918731   #6 order model\n",
    "nominal_values['Vdq0_0'] = 0.639089\n",
    "nominal_values['Vdq0_1'] = 0.833106\n",
    "nominal_values['Idq0_0'] = 0.372443\n",
    "nominal_values['Idq0_1'] = 0.363119\n",
    "nominal_values['delta'] = 0.909230\n",
    "nominal_values['w_r'] = 1.0\n",
    "\n",
    "#\n",
    "titles = {}\n",
    "titles['Etorque'] = 'Electrical Torque'\n",
    "titles['Edq0_0'] = 'd-component of the voltage behind the transient reactance'\n",
    "titles['Edq0_1'] = 'q-component of the voltage behind the transient reactance'\n",
    "titles['Edq0_t_0'] = 'd-component of the voltage behind the transient reactance'\n",
    "titles['Edq0_t_1'] = 'd-component of the voltage behind the transient reactance'\n",
    "titles['Edq0_s_0'] = 'd-component of the voltage behind the sub-transient reactance'\n",
    "titles['Edq0_s_1'] = 'd-component of the voltage behind the sub-transient reactance'\n",
    "titles['Vdq0_0'] = 'd-component of the terminal voltage'\n",
    "titles['Vdq0_1'] = 'q-component of the terminal voltage'\n",
    "titles['Idq0_0'] = 'd-component of the terminal current'\n",
    "titles['Idq0_1'] = 'q-component of the terminal current'\n",
    "titles['delta'] = 'Delta'\n",
    "titles['w_r'] = 'Mechanical Omega'\n",
    "\n",
    "#\n",
    "ylabels = {}\n",
    "ylabels['Etorque'] = 'Torque (p.u.)'\n",
    "ylabels['Edq0_0'] = 'Ed_t (p.u.)'\n",
    "ylabels['Edq0_1'] = 'Eq_t (p.u.)'\n",
    "ylabels['Edq0_t_0'] = 'Ed_t (p.u.)'\n",
    "ylabels['Edq0_t_1'] = 'Eq_t (p.u.)'\n",
    "ylabels['Edq0_s_0'] = 'Ed_s (p.u.)'\n",
    "ylabels['Edq0_s_1'] = 'Eq_s (p.u.)'\n",
    "ylabels['Vdq0_0'] = 'Vd (p.u.)'\n",
    "ylabels['Vdq0_1'] = 'Vq (p.u.)'\n",
    "ylabels['Idq0_0'] = 'Id (p.u.)'\n",
    "ylabels['Idq0_1'] = 'Iq (p.u.)'\n",
    "ylabels['delta'] = 'Delta (rad)'\n",
    "ylabels['w_r'] = 'w_r (p.u.)'"
   ]
  },
  {
   "cell_type": "markdown",
   "metadata": {},
   "source": [
    "## Declare plot function"
   ]
  },
  {
   "cell_type": "code",
   "execution_count": null,
   "metadata": {},
   "outputs": [],
   "source": [
    "timestep_common = 10e-6\n",
    "t_begin=0\n",
    "t_end=20\n",
    "begin_idx = int(t_begin/timestep_common)\n",
    "end_idx= int(t_end/timestep_common)\n",
    "\n",
    "#plot Results\n",
    "width = 12\n",
    "height = 4\n",
    "\n",
    "def plot_variable(title, varname_dpsim, varname_psat, ts_dpsim, ts_psat, nominal_values, ylabels):\n",
    "    fig1 = plt.figure(figsize=(width, height))\n",
    "    plt.plot(ts_dpsim[varname_dpsim].interpolate(timestep_common).time[begin_idx:end_idx], ts_dpsim[varname_dpsim].interpolate(timestep_common).values[begin_idx:end_idx], label='DPSim')\n",
    "    plt.plot(ts_psat[varname_psat].interpolate(timestep_common).time[begin_idx:end_idx], ts_psat[varname_psat].interpolate(timestep_common).values[begin_idx:end_idx], '--', label='PSAT')\n",
    "    plt.legend(loc='lower right')\n",
    "    plt.xlabel('time (s)')\n",
    "    plt.ylabel(ylabels[varname_dpsim])\n",
    "    plt.grid()\n",
    "    plt.xlim([0, 20])\n",
    "    plt.show\n",
    "    \n",
    "    #calculate RMSE\n",
    "    nom_value = nominal_values[varname_dpsim]\n",
    "    rmse = ts_dpsim[varname_dpsim].rmse(ts_dpsim[varname_dpsim].interpolate(timestep_common), ts_psat[varname_psat].interpolate(timestep_common))\n",
    "    print('RMSE {:s}  = {:.6f} (pu), which is {:.3f}% of the nominal value = {:.3f} (pu) '.format(varname_dpsim, rmse, rmse/nom_value*100, nom_value))\n",
    "        \n",
    "    return rmse/nom_value*100"
   ]
  },
  {
   "cell_type": "markdown",
   "metadata": {},
   "source": [
    "# Validation 3th Order Model"
   ]
  },
  {
   "cell_type": "markdown",
   "metadata": {},
   "source": [
    "### Electrical Torque"
   ]
  },
  {
   "cell_type": "code",
   "execution_count": null,
   "metadata": {},
   "outputs": [],
   "source": [
    "varname_dpsim = \"Etorque\"\n",
    "varname_psat = \"p\"\n",
    "\n",
    "rmse_torque = plot_variable(titles, varname_dpsim, varname_psat, ts_dpsim_3Order, ts_psat_3Order, nominal_values, ylabels)"
   ]
  },
  {
   "cell_type": "markdown",
   "metadata": {},
   "source": [
    "### $E_q^{'}$"
   ]
  },
  {
   "cell_type": "code",
   "execution_count": null,
   "metadata": {},
   "outputs": [],
   "source": [
    "varname_dpsim = \"Edq0_1\"\n",
    "varname_psat = \"eq_t\"\n",
    "\n",
    "rmse_eq = plot_variable(titles, varname_dpsim, varname_psat, ts_dpsim_3Order, ts_psat_3Order, nominal_values, ylabels)"
   ]
  },
  {
   "cell_type": "markdown",
   "metadata": {},
   "source": [
    "### $V_d$"
   ]
  },
  {
   "cell_type": "code",
   "execution_count": null,
   "metadata": {},
   "outputs": [],
   "source": [
    "varname_dpsim = \"Vdq0_0\"\n",
    "varname_psat = \"vd\"\n",
    "\n",
    "rmse_vd = plot_variable(titles, varname_dpsim, varname_psat, ts_dpsim_3Order, ts_psat_3Order, nominal_values, ylabels)"
   ]
  },
  {
   "cell_type": "markdown",
   "metadata": {},
   "source": [
    "### $V_q$"
   ]
  },
  {
   "cell_type": "code",
   "execution_count": null,
   "metadata": {},
   "outputs": [],
   "source": [
    "varname_dpsim = \"Vdq0_1\"\n",
    "varname_psat = \"vq\"\n",
    "\n",
    "rmse_vq = plot_variable(titles, varname_dpsim, varname_psat, ts_dpsim_3Order, ts_psat_3Order, nominal_values, ylabels)"
   ]
  },
  {
   "cell_type": "markdown",
   "metadata": {},
   "source": [
    "### $I_d$"
   ]
  },
  {
   "cell_type": "code",
   "execution_count": null,
   "metadata": {},
   "outputs": [],
   "source": [
    "varname_dpsim = \"Idq0_0\"\n",
    "varname_psat = \"id\"\n",
    "\n",
    "rmse_id = plot_variable(titles, varname_dpsim, varname_psat, ts_dpsim_3Order, ts_psat_3Order, nominal_values, ylabels)\n",
    "#plt.plot(ts_dpsim_3Order[varname_dpsim].interpolate(timestep_common).time[begin_idx:end_idx], ts_psat_3Order[varname_psat].interpolate(timestep_common).values[begin_idx:end_idx]- ts_dpsim_3Order[varname_dpsim].interpolate(timestep_common).values[begin_idx:end_idx])\n",
    "#plt.ylim([0, 0.02])"
   ]
  },
  {
   "cell_type": "markdown",
   "metadata": {},
   "source": [
    "### $I_q$"
   ]
  },
  {
   "cell_type": "code",
   "execution_count": null,
   "metadata": {},
   "outputs": [],
   "source": [
    "varname_dpsim = \"Idq0_1\"\n",
    "varname_psat = \"iq\"\n",
    "\n",
    "rmse_iq = plot_variable(titles, varname_dpsim, varname_psat, ts_dpsim_3Order, ts_psat_3Order, nominal_values, ylabels)"
   ]
  },
  {
   "cell_type": "markdown",
   "metadata": {},
   "source": [
    "### Delta"
   ]
  },
  {
   "cell_type": "code",
   "execution_count": null,
   "metadata": {},
   "outputs": [],
   "source": [
    "varname_dpsim = \"delta\"\n",
    "varname_psat = \"delta\"\n",
    "\n",
    "rmse_delta = plot_variable(titles, varname_dpsim, varname_psat, ts_dpsim_3Order, ts_psat_3Order, nominal_values, ylabels)"
   ]
  },
  {
   "cell_type": "markdown",
   "metadata": {},
   "source": [
    "### Mechanical Omega"
   ]
  },
  {
   "cell_type": "code",
   "execution_count": null,
   "metadata": {},
   "outputs": [],
   "source": [
    "varname_dpsim = \"w_r\"\n",
    "varname_psat = \"omega\"\n",
    "\n",
    "rmse_omega = plot_variable(titles, varname_dpsim, varname_psat, ts_dpsim_3Order, ts_psat_3Order, nominal_values, ylabels)"
   ]
  },
  {
   "cell_type": "markdown",
   "metadata": {},
   "source": [
    "### Assert"
   ]
  },
  {
   "cell_type": "code",
   "execution_count": null,
   "metadata": {},
   "outputs": [],
   "source": [
    "tol = 1 # %\n",
    "tol_id = 4.3 # %\n",
    "\n",
    "assert(rmse_torque<tol)\n",
    "assert(rmse_eq<tol)\n",
    "assert(rmse_vd<tol)\n",
    "assert(rmse_vq<tol)\n",
    "assert(rmse_id<tol_id)\n",
    "assert(rmse_iq<tol)\n",
    "assert(rmse_delta<tol)\n",
    "assert(rmse_omega<tol)"
   ]
  },
  {
   "cell_type": "markdown",
   "metadata": {},
   "source": [
    "# Validation 4th Order Model"
   ]
  },
  {
   "cell_type": "markdown",
   "metadata": {},
   "source": [
    "### Electrical Torque"
   ]
  },
  {
   "cell_type": "code",
   "execution_count": null,
   "metadata": {},
   "outputs": [],
   "source": [
    "varname_dpsim = \"Etorque\"\n",
    "varname_psat = \"p\"\n",
    "\n",
    "rmse_torque = plot_variable(titles, varname_dpsim, varname_psat, ts_dpsim_4Order, ts_psat_4Order, nominal_values, ylabels)"
   ]
  },
  {
   "cell_type": "markdown",
   "metadata": {},
   "source": [
    "### $E_d^{'}$"
   ]
  },
  {
   "cell_type": "code",
   "execution_count": null,
   "metadata": {},
   "outputs": [],
   "source": [
    "varname_dpsim = \"Edq0_0\"\n",
    "varname_psat = \"ed_t\"\n",
    "\n",
    "rmse_ed = plot_variable(titles, varname_dpsim, varname_psat, ts_dpsim_4Order, ts_psat_4Order, nominal_values, ylabels)"
   ]
  },
  {
   "cell_type": "markdown",
   "metadata": {},
   "source": [
    "### $E_q^{'}$"
   ]
  },
  {
   "cell_type": "code",
   "execution_count": null,
   "metadata": {},
   "outputs": [],
   "source": [
    "varname_dpsim = \"Edq0_1\"\n",
    "varname_psat = \"eq_t\"\n",
    "\n",
    "rmse_eq = plot_variable(titles, varname_dpsim, varname_psat, ts_dpsim_4Order, ts_psat_4Order, nominal_values, ylabels)"
   ]
  },
  {
   "cell_type": "markdown",
   "metadata": {},
   "source": [
    "### $V_d$"
   ]
  },
  {
   "cell_type": "code",
   "execution_count": null,
   "metadata": {},
   "outputs": [],
   "source": [
    "varname_dpsim = \"Vdq0_0\"\n",
    "varname_psat = \"vd\"\n",
    "\n",
    "rmse_vd = plot_variable(titles, varname_dpsim, varname_psat, ts_dpsim_4Order, ts_psat_4Order, nominal_values, ylabels)"
   ]
  },
  {
   "cell_type": "markdown",
   "metadata": {},
   "source": [
    "### $V_q$"
   ]
  },
  {
   "cell_type": "code",
   "execution_count": null,
   "metadata": {},
   "outputs": [],
   "source": [
    "varname_dpsim = \"Vdq0_1\"\n",
    "varname_psat = \"vq\"\n",
    "\n",
    "rmse_vq = plot_variable(titles, varname_dpsim, varname_psat, ts_dpsim_4Order, ts_psat_4Order, nominal_values, ylabels)"
   ]
  },
  {
   "cell_type": "markdown",
   "metadata": {},
   "source": [
    "### $I_d$"
   ]
  },
  {
   "cell_type": "code",
   "execution_count": null,
   "metadata": {},
   "outputs": [],
   "source": [
    "varname_dpsim = \"Idq0_0\"\n",
    "varname_psat = \"id\"\n",
    "\n",
    "rmse_id = plot_variable(titles, varname_dpsim, varname_psat, ts_dpsim_4Order, ts_psat_4Order, nominal_values, ylabels)"
   ]
  },
  {
   "cell_type": "markdown",
   "metadata": {},
   "source": [
    "### $I_q$"
   ]
  },
  {
   "cell_type": "code",
   "execution_count": null,
   "metadata": {},
   "outputs": [],
   "source": [
    "varname_dpsim = \"Vdq0_1\"\n",
    "varname_psat = \"vq\"\n",
    "\n",
    "rmse_iq = plot_variable(titles, varname_dpsim, varname_psat, ts_dpsim_4Order, ts_psat_4Order, nominal_values, ylabels)"
   ]
  },
  {
   "cell_type": "markdown",
   "metadata": {},
   "source": [
    "### Delta"
   ]
  },
  {
   "cell_type": "code",
   "execution_count": null,
   "metadata": {},
   "outputs": [],
   "source": [
    "varname_dpsim = \"delta\"\n",
    "varname_psat = \"delta\"\n",
    "\n",
    "rmse_delta = plot_variable(titles, varname_dpsim, varname_psat, ts_dpsim_4Order, ts_psat_4Order, nominal_values, ylabels)"
   ]
  },
  {
   "cell_type": "markdown",
   "metadata": {},
   "source": [
    "### Mechanical Omega"
   ]
  },
  {
   "cell_type": "code",
   "execution_count": null,
   "metadata": {},
   "outputs": [],
   "source": [
    "varname_dpsim = \"w_r\"\n",
    "varname_psat = \"omega\"\n",
    "\n",
    "rmse_omega = plot_variable(titles, varname_dpsim, varname_psat, ts_dpsim_4Order, ts_psat_4Order, nominal_values, ylabels)"
   ]
  },
  {
   "cell_type": "markdown",
   "metadata": {},
   "source": [
    "### Assert"
   ]
  },
  {
   "cell_type": "code",
   "execution_count": null,
   "metadata": {},
   "outputs": [],
   "source": [
    "tol = 1 # %\n",
    "tol_id = 4.2\n",
    "\n",
    "assert(rmse_torque<tol)\n",
    "assert(rmse_ed<tol)\n",
    "assert(rmse_eq<tol)\n",
    "assert(rmse_vd<tol)\n",
    "assert(rmse_vq<tol)\n",
    "assert(rmse_id<tol_id)\n",
    "assert(rmse_iq<tol)\n",
    "assert(rmse_delta<tol)\n",
    "assert(rmse_omega<tol)"
   ]
  },
  {
   "cell_type": "markdown",
   "metadata": {},
   "source": [
    "# Validation 6th Order Model (Marconato's model)"
   ]
  },
  {
   "cell_type": "markdown",
   "metadata": {},
   "source": [
    "### Electrical Torque"
   ]
  },
  {
   "cell_type": "code",
   "execution_count": null,
   "metadata": {},
   "outputs": [],
   "source": [
    "varname_dpsim = \"Etorque\"\n",
    "varname_psat = \"p\"\n",
    "\n",
    "rmse_torque = plot_variable(titles, varname_dpsim, varname_psat, ts_dpsim_6aOrder, ts_psat_6Order, nominal_values, ylabels)"
   ]
  },
  {
   "cell_type": "markdown",
   "metadata": {},
   "source": [
    "### $E_d^{'}$"
   ]
  },
  {
   "cell_type": "code",
   "execution_count": null,
   "metadata": {},
   "outputs": [],
   "source": [
    "varname_dpsim = \"Edq0_t_0\"\n",
    "varname_psat = \"ed_t\"\n",
    "\n",
    "rmse_ed = plot_variable(titles, varname_dpsim, varname_psat, ts_dpsim_6aOrder, ts_psat_6Order, nominal_values, ylabels)"
   ]
  },
  {
   "cell_type": "markdown",
   "metadata": {},
   "source": [
    "### $E_q^{'}$"
   ]
  },
  {
   "cell_type": "code",
   "execution_count": null,
   "metadata": {},
   "outputs": [],
   "source": [
    "varname_dpsim = \"Edq0_t_1\"\n",
    "varname_psat = \"eq_t\"\n",
    "\n",
    "rmse_eq = plot_variable(titles, varname_dpsim, varname_psat, ts_dpsim_6aOrder, ts_psat_6Order, nominal_values, ylabels)"
   ]
  },
  {
   "cell_type": "markdown",
   "metadata": {},
   "source": [
    "### $E_d^{''}$"
   ]
  },
  {
   "cell_type": "code",
   "execution_count": null,
   "metadata": {},
   "outputs": [],
   "source": [
    "varname_dpsim = \"Edq0_s_0\"\n",
    "varname_psat = \"ed_s\"\n",
    "\n",
    "rmse_ed_s = plot_variable(titles, varname_dpsim, varname_psat, ts_dpsim_6aOrder, ts_psat_6Order, nominal_values, ylabels)"
   ]
  },
  {
   "cell_type": "markdown",
   "metadata": {},
   "source": [
    "### $E_q^{''}$"
   ]
  },
  {
   "cell_type": "code",
   "execution_count": null,
   "metadata": {},
   "outputs": [],
   "source": [
    "varname_dpsim = \"Edq0_s_1\"\n",
    "varname_psat = \"eq_s\"\n",
    "\n",
    "rmse_eq_s = plot_variable(titles, varname_dpsim, varname_psat, ts_dpsim_6aOrder, ts_psat_6Order, nominal_values, ylabels)"
   ]
  },
  {
   "cell_type": "markdown",
   "metadata": {},
   "source": [
    "### $V_d$"
   ]
  },
  {
   "cell_type": "code",
   "execution_count": null,
   "metadata": {},
   "outputs": [],
   "source": [
    "varname_dpsim = \"Vdq0_0\"\n",
    "varname_psat = \"vd\"\n",
    "\n",
    "rmse_vd = plot_variable(titles, varname_dpsim, varname_psat, ts_dpsim_6aOrder, ts_psat_6Order, nominal_values, ylabels)"
   ]
  },
  {
   "cell_type": "markdown",
   "metadata": {},
   "source": [
    "### $V_q$"
   ]
  },
  {
   "cell_type": "code",
   "execution_count": null,
   "metadata": {},
   "outputs": [],
   "source": [
    "varname_dpsim = \"Vdq0_1\"\n",
    "varname_psat = \"vq\"\n",
    "\n",
    "rmse_vq = plot_variable(titles, varname_dpsim, varname_psat, ts_dpsim_6aOrder, ts_psat_6Order, nominal_values, ylabels)"
   ]
  },
  {
   "cell_type": "markdown",
   "metadata": {},
   "source": [
    "### $I_d$"
   ]
  },
  {
   "cell_type": "code",
   "execution_count": null,
   "metadata": {},
   "outputs": [],
   "source": [
    "varname_dpsim = \"Idq0_0\"\n",
    "varname_psat = \"id\"\n",
    "\n",
    "rmse_id = plot_variable(titles, varname_dpsim, varname_psat, ts_dpsim_6aOrder, ts_psat_6Order, nominal_values, ylabels)"
   ]
  },
  {
   "cell_type": "markdown",
   "metadata": {},
   "source": [
    "### $I_q$"
   ]
  },
  {
   "cell_type": "code",
   "execution_count": null,
   "metadata": {},
   "outputs": [],
   "source": [
    "varname_dpsim = \"Idq0_1\"\n",
    "varname_psat = \"iq\"\n",
    "\n",
    "rmse_iq = plot_variable(titles, varname_dpsim, varname_psat, ts_dpsim_6aOrder, ts_psat_6Order, nominal_values, ylabels)"
   ]
  },
  {
   "cell_type": "markdown",
   "metadata": {},
   "source": [
    "### Delta"
   ]
  },
  {
   "cell_type": "code",
   "execution_count": null,
   "metadata": {},
   "outputs": [],
   "source": [
    "varname_dpsim = \"delta\"\n",
    "varname_psat = \"delta\"\n",
    "\n",
    "rmse_delta = plot_variable(titles, varname_dpsim, varname_psat, ts_dpsim_6aOrder, ts_psat_6Order, nominal_values, ylabels)"
   ]
  },
  {
   "cell_type": "markdown",
   "metadata": {},
   "source": [
    "### Mechanical omega"
   ]
  },
  {
   "cell_type": "code",
   "execution_count": null,
   "metadata": {},
   "outputs": [],
   "source": [
    "varname_dpsim = \"w_r\"\n",
    "varname_psat = \"omega\"\n",
    "\n",
    "rmse_omega = plot_variable(titles, varname_dpsim, varname_psat, ts_dpsim_6aOrder, ts_psat_6Order, nominal_values, ylabels)"
   ]
  },
  {
   "cell_type": "markdown",
   "metadata": {},
   "source": [
    "### Assert"
   ]
  },
  {
   "cell_type": "code",
   "execution_count": null,
   "metadata": {},
   "outputs": [],
   "source": [
    "tol = 1 #%\n",
    "tol_i = 5.2\n",
    "\n",
    "assert(rmse_torque<tol)\n",
    "assert(rmse_ed<tol)\n",
    "assert(rmse_eq<tol)\n",
    "assert(rmse_ed_s<tol)\n",
    "assert(rmse_eq_s<tol)\n",
    "assert(rmse_vd<tol)\n",
    "assert(rmse_vq<tol)\n",
    "assert(rmse_id<tol_i)\n",
    "assert(rmse_iq<tol_i)\n",
    "assert(rmse_delta<tol)\n",
    "assert(rmse_omega<tol)"
   ]
  },
  {
   "cell_type": "markdown",
   "metadata": {},
   "source": [
    "# Validation 6th Order Model (Anderson-Fouad's model)"
   ]
  },
  {
   "cell_type": "markdown",
   "metadata": {},
   "source": [
    "### Electrical Torque"
   ]
  },
  {
   "cell_type": "code",
   "execution_count": null,
   "metadata": {},
   "outputs": [],
   "source": [
    "varname_dpsim = \"Etorque\"\n",
    "varname_psat = \"p\"\n",
    "\n",
    "rmse_torque = plot_variable(titles, varname_dpsim, varname_psat, ts_dpsim_6bOrder, ts_psat_6Order, nominal_values, ylabels)"
   ]
  },
  {
   "cell_type": "markdown",
   "metadata": {},
   "source": [
    "### $V_d$"
   ]
  },
  {
   "cell_type": "code",
   "execution_count": null,
   "metadata": {},
   "outputs": [],
   "source": [
    "varname_dpsim = \"Vdq0_0\"\n",
    "varname_psat = \"vd\"\n",
    "\n",
    "rmse_vd = plot_variable(titles, varname_dpsim, varname_psat, ts_dpsim_6bOrder, ts_psat_6Order, nominal_values, ylabels)"
   ]
  },
  {
   "cell_type": "markdown",
   "metadata": {},
   "source": [
    "### $V_q$"
   ]
  },
  {
   "cell_type": "code",
   "execution_count": null,
   "metadata": {},
   "outputs": [],
   "source": [
    "varname_dpsim = \"Vdq0_1\"\n",
    "varname_psat = \"vq\"\n",
    "\n",
    "rmse_vq = plot_variable(titles, varname_dpsim, varname_psat, ts_dpsim_6bOrder, ts_psat_6Order, nominal_values, ylabels)"
   ]
  },
  {
   "cell_type": "markdown",
   "metadata": {},
   "source": [
    "### $I_d$"
   ]
  },
  {
   "cell_type": "code",
   "execution_count": null,
   "metadata": {},
   "outputs": [],
   "source": [
    "varname_dpsim = \"Idq0_0\"\n",
    "varname_psat = \"id\"\n",
    "\n",
    "rmse_id = plot_variable(titles, varname_dpsim, varname_psat, ts_dpsim_6bOrder, ts_psat_6Order, nominal_values, ylabels)"
   ]
  },
  {
   "cell_type": "markdown",
   "metadata": {},
   "source": [
    "### $I_q$"
   ]
  },
  {
   "cell_type": "code",
   "execution_count": null,
   "metadata": {},
   "outputs": [],
   "source": [
    "varname_dpsim = \"Idq0_1\"\n",
    "varname_psat = \"iq\"\n",
    "\n",
    "rmse_iq = plot_variable(titles, varname_dpsim, varname_psat, ts_dpsim_6bOrder, ts_psat_6Order, nominal_values, ylabels)"
   ]
  },
  {
   "cell_type": "markdown",
   "metadata": {},
   "source": [
    "### Delta"
   ]
  },
  {
   "cell_type": "code",
   "execution_count": null,
   "metadata": {},
   "outputs": [],
   "source": [
    "varname_dpsim = \"delta\"\n",
    "varname_psat = \"delta\"\n",
    "\n",
    "rmse_delta = plot_variable(titles, varname_dpsim, varname_psat, ts_dpsim_6bOrder, ts_psat_6Order, nominal_values, ylabels)"
   ]
  },
  {
   "cell_type": "markdown",
   "metadata": {},
   "source": [
    "### Mechanical omega"
   ]
  },
  {
   "cell_type": "code",
   "execution_count": null,
   "metadata": {},
   "outputs": [],
   "source": [
    "varname_dpsim = \"w_r\"\n",
    "varname_psat = \"omega\"\n",
    "\n",
    "rmse_omega = plot_variable(titles, varname_dpsim, varname_psat, ts_dpsim_6bOrder, ts_psat_6Order, nominal_values, ylabels)"
   ]
  },
  {
   "cell_type": "markdown",
   "metadata": {},
   "source": [
    "### Assert"
   ]
  },
  {
   "cell_type": "code",
   "execution_count": null,
   "metadata": {},
   "outputs": [],
   "source": [
    "tol = 1 #%\n",
    "tol_i = 5.4\n",
    "tol_torque = 1.3\n",
    "\n",
    "assert(rmse_torque<tol_torque)\n",
    "assert(rmse_vd<tol)\n",
    "assert(rmse_vq<tol)\n",
    "assert(rmse_id<tol_i)\n",
    "assert(rmse_iq<tol_i)\n",
    "assert(rmse_delta<tol)\n",
    "assert(rmse_omega<tol)"
   ]
  },
  {
   "cell_type": "code",
   "execution_count": null,
   "metadata": {},
   "outputs": [],
   "source": []
  }
 ],
 "metadata": {
  "kernelspec": {
   "display_name": "Python 3",
   "language": "python",
   "name": "python3"
  },
  "language_info": {
   "codemirror_mode": {
    "name": "ipython",
    "version": 3
   },
   "file_extension": ".py",
   "mimetype": "text/x-python",
   "name": "python",
   "nbconvert_exporter": "python",
   "pygments_lexer": "ipython3",
   "version": "3.7.7"
  }
 },
 "nbformat": 4,
 "nbformat_minor": 5
}
