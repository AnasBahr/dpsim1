{
 "cells": [
  {
   "cell_type": "markdown",
   "metadata": {},
   "source": [
    "# Syngen Full Order Parametrization with Json Config"
   ]
  },
  {
   "cell_type": "code",
   "execution_count": null,
   "metadata": {},
   "outputs": [],
   "source": [
    "import villas.dataprocessing.readtools as rt\n",
    "from villas.dataprocessing.timeseries import TimeSeries as ts\n",
    "import matplotlib.pyplot as plt\n",
    "import re\n",
    "import numpy as np\n",
    "import math\n",
    "\n",
    "#%matplotlib widget"
   ]
  },
  {
   "cell_type": "markdown",
   "metadata": {},
   "source": [
    "## Run simulation"
   ]
  },
  {
   "cell_type": "code",
   "execution_count": null,
   "metadata": {},
   "outputs": [],
   "source": [
    "%%bash\n",
    "TOP=${TOP:-$(git rev-parse --show-toplevel)}\n",
    "PATH=${TOP}/build/Examples/Cxx\n",
    "\n",
    "EMT_SynGenDQ7odTrapez_OperationalParams_SMIB_Fault\n",
    "EMT_SynGenDQ7odTrapez_OperationalParams_SMIB_Fault_JsonSyngenParams --params=\"${TOP}/Configs/example_configs_json/EMT_SynGenDQ7odTrapez_OperationalParams_SMIB_Fault_SyngenParams.json\""
   ]
  },
  {
   "cell_type": "markdown",
   "metadata": {},
   "source": [
    "## Results without json config"
   ]
  },
  {
   "cell_type": "code",
   "execution_count": null,
   "metadata": {},
   "outputs": [],
   "source": [
    "work_dir = 'logs/EMT_SynGenDQ7odTrapez_OperationalParams_SMIB_Fault/'\n",
    "log_name = 'EMT_SynGenDQ7odTrapez_OperationalParams_SMIB_Fault'\n",
    "print(work_dir + log_name + '.csv')\n",
    "ts_smib_fault = rt.read_timeseries_dpsim(work_dir + log_name + '.csv')"
   ]
  },
  {
   "cell_type": "markdown",
   "metadata": {},
   "source": [
    "## Results with json config"
   ]
  },
  {
   "cell_type": "code",
   "execution_count": null,
   "metadata": {},
   "outputs": [],
   "source": [
    "work_dir = 'logs/EMT_SynGenDQ7odTrapez_OperationalParams_SMIB_Fault_JsonSyngenParams/'\n",
    "log_name = 'EMT_SynGenDQ7odTrapez_OperationalParams_SMIB_Fault_JsonSyngenParams'\n",
    "print(work_dir + log_name + '.csv')\n",
    "ts_smib_fault_json = rt.read_timeseries_dpsim(work_dir + log_name + '.csv')"
   ]
  },
  {
   "cell_type": "markdown",
   "metadata": {},
   "source": [
    "## Genrerator terminal Current"
   ]
  },
  {
   "cell_type": "code",
   "execution_count": null,
   "metadata": {},
   "outputs": [],
   "source": [
    "plt.figure(figsize=(12,8))\n",
    "plt.ylabel('Generator terminal current (A)', fontsize=18)\n",
    "\n",
    "for name in ['i_gen']:\n",
    "    plt.plot(ts_smib_fault[name + '_0'].time, np.sqrt(3/2)*ts_smib_fault[name + '_0'].values, label=name)\n",
    "    plt.plot(ts_smib_fault_json[name + '_0'].time, np.sqrt(3/2)*ts_smib_fault_json[name + '_0'].values, linestyle='--', label=name)\n",
    "\n",
    "plt.legend()\n",
    "plt.show()"
   ]
  },
  {
   "cell_type": "code",
   "execution_count": null,
   "metadata": {},
   "outputs": [],
   "source": [
    "assert(np.max(ts_smib_fault[name + '_0'].values-ts_smib_fault_json[name + '_0'].values) < 1e-12)"
   ]
  },
  {
   "cell_type": "code",
   "execution_count": null,
   "metadata": {},
   "outputs": [],
   "source": []
  }
 ],
 "metadata": {
  "kernelspec": {
   "display_name": "Python 3",
   "language": "python",
   "name": "python3"
  },
  "language_info": {
   "codemirror_mode": {
    "name": "ipython",
    "version": 3
   },
   "file_extension": ".py",
   "mimetype": "text/x-python",
   "name": "python",
   "nbconvert_exporter": "python",
   "pygments_lexer": "ipython3",
   "version": "3.7.7"
  },
  "tests": {
   "skip": false
  }
 },
 "nbformat": 4,
 "nbformat_minor": 4
}
