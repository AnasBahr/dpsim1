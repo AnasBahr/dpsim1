{
 "cells": [
  {
   "cell_type": "markdown",
   "metadata": {},
   "source": [
    "# EMT Simulation of topology with slack, line and PQ load"
   ]
  },
  {
   "cell_type": "code",
   "execution_count": null,
   "metadata": {},
   "outputs": [],
   "source": [
    " %%bash\n",
    "TOP=${TOP:-$(git rev-parse --show-toplevel)}\n",
    "PATH=${TOP}/build/Examples/Cxx\n",
    "\n",
    "TIMESTEP=0.0001\n",
    "DURATION=10.0\n",
    "\n",
    "ROCOF=-6.25\n",
    "TIMESTART=5.0\n",
    "RAMPDURATION=0.4\n",
    "\n",
    "EMT_Slack_PiLine_PQLoad_Ramp_with_PF_Init --timestep=${TIMESTEP} --duration=${DURATION} -o rocof=${ROCOF} -o timeStart=${TIMESTART} -o rampDuration=${RAMPDURATION}"
   ]
  },
  {
   "cell_type": "code",
   "execution_count": null,
   "metadata": {},
   "outputs": [],
   "source": [
    "from villas.dataprocessing.readtools import *\n",
    "from villas.dataprocessing.timeseries import *\n",
    "import matplotlib.pyplot as plt\n",
    "import re\n",
    "\n",
    "# %matplotlib widget"
   ]
  },
  {
   "cell_type": "markdown",
   "metadata": {},
   "source": [
    "## EMT results PQLoad"
   ]
  },
  {
   "cell_type": "code",
   "execution_count": null,
   "metadata": {},
   "outputs": [],
   "source": [
    "# PQLoad\n",
    "modelName = 'EMT_Slack_PiLine_PQLoad_Ramp_with_PF_Init_EMT'\n",
    "path = 'logs/' + modelName + '/'\n",
    "dpsim_result_file = path + modelName + '.csv'\n",
    "\n",
    "ts_dpsim_pqload = read_timeseries_csv(dpsim_result_file)"
   ]
  },
  {
   "cell_type": "code",
   "execution_count": null,
   "metadata": {},
   "outputs": [],
   "source": [
    "plt.figure(figsize=(12,6))\n",
    "for ts_name, ts_obj  in ts_dpsim_pqload.items():\n",
    "        if ts_name in ['i12_0', 'irx_0']:\n",
    "                plt.plot(ts_obj.time, ts_obj.values, label=ts_name + ' (PQLoad)')\n",
    "plt.xlim(4.9, 5.5)\n",
    "plt.legend()\n",
    "plt.show()"
   ]
  },
  {
   "cell_type": "code",
   "execution_count": null,
   "metadata": {},
   "outputs": [],
   "source": [
    "plt.figure(figsize=(12,6))\n",
    "for ts_name, ts_obj  in ts_dpsim_pqload.items():\n",
    "        if ts_name in ['v1_0', 'v2_0']:\n",
    "                plt.plot(ts_obj.time, ts_obj.values, label=ts_name + ' (PQLoad)')\n",
    "plt.xlim(4.9, 5.5)\n",
    "\n",
    "ts_50Hz = np.arange(4.9, 5.5, 1e-3)\n",
    "plt.plot(ts_50Hz, 16e3*np.cos(2*np.pi*50*ts_50Hz), label='50Hz sine')\n",
    "plt.legend()\n",
    "plt.show()"
   ]
  },
  {
   "cell_type": "code",
   "execution_count": null,
   "metadata": {},
   "outputs": [],
   "source": [
    "plt.figure(figsize=(12,6))\n",
    "for ts_name, ts_obj  in ts_dpsim_pqload.items():\n",
    "        if ts_name in ['f_src']:\n",
    "                plt.plot(ts_obj.time, ts_obj.values, label=ts_name + ' (PQLoad)')\n",
    "plt.xlim(4.9, 5.5)\n",
    "plt.legend()\n",
    "plt.show()"
   ]
  },
  {
   "source": [
    "## Plot Line Current Spectrum (PQLoad)"
   ],
   "cell_type": "markdown",
   "metadata": {}
  },
  {
   "source": [
    "### near 0Hz"
   ],
   "cell_type": "markdown",
   "metadata": {}
  },
  {
   "cell_type": "code",
   "execution_count": null,
   "metadata": {},
   "outputs": [],
   "source": [
    "Fs = int(1 / (ts_dpsim_pqload['i12_0'].time[1] - ts_dpsim_pqload['i12_0'].time[0]))\n",
    "plt.figure(figsize=(12,6))\n",
    "plt.magnitude_spectrum(ts_dpsim_pqload['i12_0'].values, Fs=Fs, pad_to=10000, label='i12_0 (0s-8s) (PQLoad)')\n",
    "plt.magnitude_spectrum(ts_dpsim_pqload['i12_0'].values[int(4.4*Fs):6*Fs], Fs=Fs, pad_to=10000, label='i12_0 (4.4s-6s) (PQLoad)')\n",
    "plt.magnitude_spectrum(ts_dpsim_pqload['i12_0'].values[5*Fs:int(5.5*Fs)], Fs=Fs, pad_to=10000, label='i12_0 (5s-5.4s) (PQLoad)')\n",
    "plt.xlim(0,5)\n",
    "#plt.xlim(40,60)\n",
    "#plt.xlim(-5,5)\n",
    "plt.grid()\n",
    "plt.legend() #['i12 (PQLoad)', 'irx (PQLoad)', 'i12 (VSI)', 'irx (PQLoad)'])\n",
    "plt.show()"
   ]
  },
  {
   "source": [
    "### near 50Hz"
   ],
   "cell_type": "markdown",
   "metadata": {}
  },
  {
   "cell_type": "code",
   "execution_count": null,
   "metadata": {},
   "outputs": [],
   "source": [
    "Fs = int(1 / (ts_dpsim_pqload['i12_0'].time[1] - ts_dpsim_pqload['i12_0'].time[0]))\n",
    "plt.figure(figsize=(12,6))\n",
    "plt.magnitude_spectrum(ts_dpsim_pqload['i12_0'].values[int(0.4*Fs):], Fs=Fs, pad_to=10000, label='i12_0 (0.4s-8s) (PQLoad)')\n",
    "plt.magnitude_spectrum(ts_dpsim_pqload['i12_0'].values[int(4.4*Fs):6*Fs], Fs=Fs, pad_to=10000, label='i12_0 (4.4s-6s) (PQLoad)')\n",
    "plt.magnitude_spectrum(ts_dpsim_pqload['i12_0'].values[5*Fs:int(5.4*Fs)], Fs=Fs, pad_to=10000, label='i12_0 (5s-5.4s) (PQLoad)')\n",
    "plt.xlim(44,55)\n",
    "plt.grid()\n",
    "plt.legend() #['i12 (PQLoad)', 'irx (PQLoad)', 'i12 (VSI)', 'irx (PQLoad)'])\n",
    "plt.show()"
   ]
  },
  {
   "cell_type": "code",
   "execution_count": null,
   "metadata": {},
   "outputs": [],
   "source": []
  }
 ],
 "metadata": {
  "kernelspec": {
   "display_name": "Python 3",
   "language": "python",
   "name": "python3"
  },
  "language_info": {
   "codemirror_mode": {
    "name": "ipython",
    "version": 3
   },
   "file_extension": ".py",
   "mimetype": "text/x-python",
   "name": "python",
   "nbconvert_exporter": "python",
   "pygments_lexer": "ipython3",
   "version": "3.8.3-final"
  }
 },
 "nbformat": 4,
 "nbformat_minor": 4
}