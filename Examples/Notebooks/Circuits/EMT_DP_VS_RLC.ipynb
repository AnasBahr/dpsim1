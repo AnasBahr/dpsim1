{
 "cells": [
  {
   "cell_type": "code",
   "execution_count": null,
   "metadata": {},
   "outputs": [],
   "source": [
    " %%bash\n",
    "TOP=${TOP:-$(git rev-parse --show-toplevel)}\n",
    "PATH=${TOP}/build/Examples/Cxx\n",
    "\n",
    "EMT_DP_VS_RLC_Circuits"
   ]
  },
  {
   "cell_type": "code",
   "execution_count": null,
   "metadata": {},
   "outputs": [],
   "source": [
    "from villas.dataprocessing.readtools import *\n",
    "from villas.dataprocessing.timeseries import *\n",
    "from villas.dataprocessing.timeseries import TimeSeries as ts\n",
    "import matplotlib.pyplot as plt\n",
    "import numpy as np\n",
    "import re\n",
    "\n",
    "#%matplotlib widget"
   ]
  },
  {
   "cell_type": "markdown",
   "metadata": {},
   "source": [
    "## Voltage Source + Resistor"
   ]
  },
  {
   "cell_type": "code",
   "execution_count": null,
   "metadata": {},
   "outputs": [],
   "source": [
    "model_name = 'VoltageSource_Resistor'\n",
    "\n",
    "path_DP = 'logs/' + 'DP_' + model_name + '/'\n",
    "dpsim_result_file_DP = path_DP  + 'DP_' + model_name + '.csv'\n",
    "ts_dpsim_DP = read_timeseries_csv(dpsim_result_file_DP)\n",
    "ts_dpsim_DP_shifted = ts.frequency_shift_list(ts_dpsim_DP, 50)\n",
    "\n",
    "path_EMT = 'logs/' + 'EMT_' + model_name + '/'\n",
    "dpsim_result_file_EMT = path_EMT  + 'EMT_' + model_name + '.csv'\n",
    "ts_dpsim_EMT = read_timeseries_csv(dpsim_result_file_EMT)"
   ]
  },
  {
   "cell_type": "markdown",
   "metadata": {},
   "source": [
    "### Plot voltages"
   ]
  },
  {
   "cell_type": "code",
   "execution_count": null,
   "metadata": {},
   "outputs": [],
   "source": [
    "plt.figure()\n",
    "\n",
    "# EMT\n",
    "var_names = ['v1_0']\n",
    "for var_name in var_names: \n",
    "    plt.plot(ts_dpsim_EMT[var_name].time, np.sqrt(3/2)*ts_dpsim_EMT[var_name].values, label=var_name)\n",
    "    \n",
    "# DP\n",
    "var_names = ['v1_shift']\n",
    "for var_name in var_names: \n",
    "    plt.plot(ts_dpsim_DP_shifted[var_name].time, ts_dpsim_DP_shifted[var_name].values, label=var_name, linestyle=':')\n",
    "    \n",
    "plt.legend()\n",
    "plt.show()"
   ]
  },
  {
   "cell_type": "markdown",
   "metadata": {},
   "source": [
    "### Plot currents"
   ]
  },
  {
   "cell_type": "code",
   "execution_count": null,
   "metadata": {},
   "outputs": [],
   "source": [
    "plt.figure()\n",
    "\n",
    "# EMT\n",
    "var_names = ['iR_0']\n",
    "for var_name in var_names: \n",
    "    plt.plot(ts_dpsim_EMT[var_name].time, np.sqrt(3/2)*ts_dpsim_EMT[var_name].values, label=var_name)\n",
    "    \n",
    "# DP\n",
    "var_names = ['iR_shift']\n",
    "for var_name in var_names: \n",
    "    plt.plot(ts_dpsim_DP_shifted[var_name].time, ts_dpsim_DP_shifted[var_name].values, label=var_name, linestyle=':')\n",
    "    \n",
    "plt.legend()\n",
    "plt.show()"
   ]
  },
  {
   "cell_type": "markdown",
   "metadata": {},
   "source": [
    "### Comparison DP vs. EMT"
   ]
  },
  {
   "cell_type": "code",
   "execution_count": null,
   "metadata": {},
   "outputs": [],
   "source": [
    "plt.figure()\n",
    "for name in [('v1_0', 'v1_shift')]:\n",
    "    plt.plot(ts_dpsim_EMT[name[0]].time, np.sqrt(3/2)*ts_dpsim_EMT[name[0]].values - ts_dpsim_DP_shifted[name[1]].values, label=name[0]+' vs. '+name[1])\n",
    "plt.legend()"
   ]
  },
  {
   "cell_type": "code",
   "execution_count": null,
   "metadata": {},
   "outputs": [],
   "source": [
    "plt.figure()\n",
    "for name in [('iR_0', 'iR_shift')]:\n",
    "    plt.plot(ts_dpsim_EMT[name[0]].time, np.sqrt(3/2)*ts_dpsim_EMT[name[0]].values - ts_dpsim_DP_shifted[name[1]].values, label=name[0]+' vs. '+name[1])\n",
    "plt.legend()"
   ]
  },
  {
   "cell_type": "markdown",
   "metadata": {},
   "source": [
    "### Assertion DP vs. EMT"
   ]
  },
  {
   "cell_type": "code",
   "execution_count": null,
   "metadata": {},
   "outputs": [],
   "source": [
    "compare_errors_abs = []\n",
    "compare_errors_rel = []\n",
    "for name in [('v1_0', 'v1_shift'), ('iR_0', 'iR_shift')]:\n",
    "    compare_errors_abs.append(np.absolute(np.sqrt(3/2)*ts_dpsim_EMT[name[0]].values - ts_dpsim_DP_shifted[name[1]].values).max())\n",
    "    compare_errors_rel.append(np.absolute(np.sqrt(3/2)*ts_dpsim_EMT[name[0]].values - ts_dpsim_DP_shifted[name[1]].values).max()/ts_dpsim_DP_shifted[name[1]].values.max())\n",
    "    print(name[0]+' vs. '+name[1] + ' (abs): ' + str(compare_errors_abs[-1]))\n",
    "    print(name[0]+' vs. '+name[1] + ' (rel): ' + str(compare_errors_rel[-1]))\n",
    "print('Max rel error: '+ '{:.2}'.format(np.max(compare_errors_rel)*100) +'%')\n",
    "assert np.max(compare_errors_rel) < 1e-3"
   ]
  },
  {
   "cell_type": "markdown",
   "metadata": {},
   "source": [
    "## Voltage Source + Resistor + Inductor"
   ]
  },
  {
   "cell_type": "code",
   "execution_count": null,
   "metadata": {},
   "outputs": [],
   "source": [
    "model_name = 'VoltageSource_Inductor'\n",
    "\n",
    "path_DP = 'logs/' + 'DP_' + model_name + '/'\n",
    "dpsim_result_file_DP = path_DP  + 'DP_' + model_name + '.csv'\n",
    "ts_dpsim_DP = read_timeseries_csv(dpsim_result_file_DP)\n",
    "ts_dpsim_DP_shifted = ts.frequency_shift_list(ts_dpsim_DP, 50)\n",
    "\n",
    "path_EMT = 'logs/' + 'EMT_' + model_name + '/'\n",
    "dpsim_result_file_EMT = path_EMT  + 'EMT_' + model_name + '.csv'\n",
    "ts_dpsim_EMT = read_timeseries_csv(dpsim_result_file_EMT)"
   ]
  },
  {
   "cell_type": "markdown",
   "metadata": {},
   "source": [
    "### Plot voltages"
   ]
  },
  {
   "cell_type": "code",
   "execution_count": null,
   "metadata": {},
   "outputs": [],
   "source": [
    "plt.figure()\n",
    "\n",
    "# EMT\n",
    "var_names = ['v1_0', 'v2_0']\n",
    "for var_name in var_names: \n",
    "    plt.plot(ts_dpsim_EMT[var_name].time, np.sqrt(3/2)*ts_dpsim_EMT[var_name].values, label=var_name)\n",
    "    \n",
    "# DP\n",
    "var_names = ['v1_shift', 'v2_shift']\n",
    "for var_name in var_names: \n",
    "    plt.plot(ts_dpsim_DP_shifted[var_name].time, ts_dpsim_DP_shifted[var_name].values, label=var_name, linestyle=':')\n",
    "    \n",
    "plt.legend()\n",
    "plt.show()"
   ]
  },
  {
   "cell_type": "markdown",
   "metadata": {},
   "source": [
    "### Plot currents"
   ]
  },
  {
   "cell_type": "code",
   "execution_count": null,
   "metadata": {},
   "outputs": [],
   "source": [
    "plt.figure()\n",
    "\n",
    "# EMT\n",
    "var_names = ['iR_0', 'iL_0']\n",
    "for var_name in var_names: \n",
    "    plt.plot(ts_dpsim_EMT[var_name].time, np.sqrt(3/2)*ts_dpsim_EMT[var_name].values, label=var_name)\n",
    "    \n",
    "# DP\n",
    "var_names = ['iR_shift', 'iL_shift']\n",
    "for var_name in var_names: \n",
    "    plt.plot(ts_dpsim_DP_shifted[var_name].time, ts_dpsim_DP_shifted[var_name].values, label=var_name, linestyle=':')\n",
    "    \n",
    "plt.legend()\n",
    "plt.show()"
   ]
  },
  {
   "cell_type": "markdown",
   "metadata": {},
   "source": [
    "### Comparison DP vs. EMT"
   ]
  },
  {
   "cell_type": "code",
   "execution_count": null,
   "metadata": {},
   "outputs": [],
   "source": [
    "plt.figure()\n",
    "for name in [('v1_0', 'v1_shift'), ('v2_0', 'v2_shift')]:\n",
    "    plt.plot(ts_dpsim_EMT[name[0]].time, np.sqrt(3/2)*ts_dpsim_EMT[name[0]].values - ts_dpsim_DP_shifted[name[1]].values, label=name[0]+' vs. '+name[1])\n",
    "plt.legend()"
   ]
  },
  {
   "cell_type": "code",
   "execution_count": null,
   "metadata": {},
   "outputs": [],
   "source": [
    "plt.figure()\n",
    "for name in [('iR_0', 'iR_shift'), ('iL_0', 'iL_shift')]:\n",
    "    plt.plot(ts_dpsim_EMT[name[0]].time, np.sqrt(3/2)*ts_dpsim_EMT[name[0]].values - ts_dpsim_DP_shifted[name[1]].values, label=name[0]+' vs. '+name[1])\n",
    "plt.legend()"
   ]
  },
  {
   "cell_type": "markdown",
   "metadata": {},
   "source": [
    "### Assertion DP vs. EMT"
   ]
  },
  {
   "cell_type": "code",
   "execution_count": null,
   "metadata": {},
   "outputs": [],
   "source": [
    "compare_errors_abs = []\n",
    "compare_errors_rel = []\n",
    "for name in [('v1_0', 'v1_shift'), ('v2_0', 'v2_shift'), ('iR_0', 'iR_shift'), ('iL_0', 'iL_shift')]:\n",
    "    compare_errors_abs.append(np.absolute(np.sqrt(3/2)*ts_dpsim_EMT[name[0]].values - ts_dpsim_DP_shifted[name[1]].values).max())\n",
    "    compare_errors_rel.append(np.absolute(np.sqrt(3/2)*ts_dpsim_EMT[name[0]].values - ts_dpsim_DP_shifted[name[1]].values).max()/ts_dpsim_DP_shifted[name[1]].values.max())\n",
    "    print(name[0]+' vs. '+name[1] + ' (abs): ' + str(compare_errors_abs[-1]))\n",
    "    print(name[0]+' vs. '+name[1] + ' (rel): ' + str(compare_errors_rel[-1]))\n",
    "print('Max rel error: '+ '{:.2}'.format(np.max(compare_errors_rel)*100) +'%')\n",
    "assert np.max(compare_errors_rel) < 1e-3"
   ]
  },
  {
   "cell_type": "code",
   "execution_count": null,
   "metadata": {},
   "outputs": [],
   "source": []
  }
 ],
 "metadata": {
  "kernelspec": {
   "display_name": "Python 3",
   "language": "python",
   "name": "python3"
  },
  "language_info": {
   "codemirror_mode": {
    "name": "ipython",
    "version": 3
   },
   "file_extension": ".py",
   "mimetype": "text/x-python",
   "name": "python",
   "nbconvert_exporter": "python",
   "pygments_lexer": "ipython3",
   "version": "3.7.6"
  }
 },
 "nbformat": 4,
 "nbformat_minor": 4
}
