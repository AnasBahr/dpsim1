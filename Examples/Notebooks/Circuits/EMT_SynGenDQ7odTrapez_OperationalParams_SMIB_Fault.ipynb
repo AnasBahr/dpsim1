{
 "cells": [
  {
   "cell_type": "markdown",
   "metadata": {},
   "source": [
    "# Synchronous Generator dq 7th order model - Operational against Fundamental Params Validation"
   ]
  },
  {
   "cell_type": "markdown",
   "metadata": {},
   "source": [
    "## Run C++ examples"
   ]
  },
  {
   "cell_type": "code",
   "execution_count": null,
   "metadata": {},
   "outputs": [],
   "source": [
    "%%bash\n",
    "TOP=${TOP:-$(git rev-parse --show-toplevel)}\n",
    "PATH=${TOP}/build/Examples/Cxx\n",
    "\n",
    "EMT_SynGenDQ7odTrapez_SMIB_Fault\n",
    "EMT_SynGenDQ7odTrapez_OperationalParams_SMIB_Fault"
   ]
  },
  {
   "cell_type": "code",
   "execution_count": null,
   "metadata": {},
   "outputs": [],
   "source": [
    "import villas.dataprocessing.readtools as rt\n",
    "from villas.dataprocessing.timeseries import TimeSeries as ts\n",
    "import matplotlib.pyplot as plt\n",
    "import re\n",
    "import numpy as np\n",
    "import math\n",
    "\n",
    "%matplotlib widget\n",
    "\n",
    "begin_idx=0\n",
    "end_idx=-1"
   ]
  },
  {
   "cell_type": "markdown",
   "metadata": {},
   "source": [
    "## Results model with fundamental params"
   ]
  },
  {
   "cell_type": "code",
   "execution_count": null,
   "metadata": {},
   "outputs": [],
   "source": [
    "work_dir = 'logs/EMT_SynGenDQ7odTrapez_SMIB_Fault/'\n",
    "log_name = 'EMT_SynGenDQ7odTrapez_SMIB_Fault'\n",
    "print(work_dir + log_name + '.csv')\n",
    "ts_emt3ph_DQ7odTrapez = rt.read_timeseries_dpsim(work_dir + log_name + '.csv')"
   ]
  },
  {
   "cell_type": "markdown",
   "metadata": {},
   "source": [
    "## Results model with operational params"
   ]
  },
  {
   "cell_type": "code",
   "execution_count": null,
   "metadata": {},
   "outputs": [],
   "source": [
    "work_dir = 'logs/EMT_SynGenDQ7odTrapez_OperationalParams_SMIB_Fault/'\n",
    "log_name = 'EMT_SynGenDQ7odTrapez_OperationalParams_SMIB_Fault'\n",
    "print(work_dir + log_name + '.csv')\n",
    "ts_emt3ph_DQ7odTrapez_operational = rt.read_timeseries_dpsim(work_dir + log_name + '.csv')"
   ]
  },
  {
   "cell_type": "markdown",
   "metadata": {},
   "source": [
    "## Genrerator terminal Current"
   ]
  },
  {
   "cell_type": "code",
   "execution_count": null,
   "metadata": {},
   "outputs": [],
   "source": [
    "plt.figure(figsize=(12,8))\n",
    "plt.ylabel('Generator terminal current (V)', fontsize=18)\n",
    "\n",
    "for name in ['i_gen']:\n",
    "    plt.plot(ts_emt3ph_DQ7odTrapez[name + '_0'].time[begin_idx:end_idx], np.sqrt(3/2)*ts_emt3ph_DQ7odTrapez[name + '_0'].values[begin_idx:end_idx], label=name)\n",
    "    plt.plot(ts_emt3ph_DQ7odTrapez_operational[name + '_0'].time[begin_idx:end_idx], np.sqrt(3/2)*ts_emt3ph_DQ7odTrapez_operational[name + '_0'].values[begin_idx:end_idx], linestyle='--', label=name)\n",
    "\n",
    "plt.legend()\n",
    "plt.show()"
   ]
  },
  {
   "cell_type": "code",
   "execution_count": null,
   "metadata": {},
   "outputs": [],
   "source": [
    "assert(np.max(ts_emt3ph_DQ7odTrapez[name + '_0'].values[begin_idx:end_idx]-ts_emt3ph_DQ7odTrapez_operational[name + '_0'].values[begin_idx:end_idx])/np.max(ts_emt3ph_DQ7odTrapez[name + '_0'].values[begin_idx:end_idx]) < 1e-3)"
   ]
  },
  {
   "cell_type": "code",
   "execution_count": null,
   "metadata": {},
   "outputs": [],
   "source": []
  }
 ],
 "metadata": {
  "kernelspec": {
   "display_name": "Python 3",
   "language": "python",
   "name": "python3"
  },
  "language_info": {
   "codemirror_mode": {
    "name": "ipython",
    "version": 3
   },
   "file_extension": ".py",
   "mimetype": "text/x-python",
   "name": "python",
   "nbconvert_exporter": "python",
   "pygments_lexer": "ipython3",
   "version": "3.7.7"
  },
  "tests": {
   "skip": false
  }
 },
 "nbformat": 4,
 "nbformat_minor": 4
}
