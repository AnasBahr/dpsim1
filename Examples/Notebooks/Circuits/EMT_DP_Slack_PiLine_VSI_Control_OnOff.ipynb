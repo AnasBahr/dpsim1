{
 "cells": [
  {
   "cell_type": "markdown",
   "metadata": {},
   "source": [
    "# Comparison of Slack-Line-VSI model with control switched on or off"
   ]
  },
  {
   "cell_type": "markdown",
   "metadata": {},
   "source": [
    "## EMT simulations with control on and off"
   ]
  },
  {
   "cell_type": "code",
   "execution_count": null,
   "metadata": {},
   "outputs": [],
   "source": [
    " %%bash\n",
    "TOP=${TOP:-$(git rev-parse --show-toplevel)}\n",
    "PATH=${TOP}/build/Examples/Cxx\n",
    "\n",
    "TIMESTEP=0.1e-3\n",
    "DURATION=1\n",
    "\n",
    "EMT_Slack_PiLine_VSI_with_PF_Init --name=\"EMT_Slack_PiLine_VSI_with_PF_ControlOn\" --option=\"control=true\" --timestep=${TIMESTEP} --duration=${DURATION}\n",
    "EMT_Slack_PiLine_VSI_with_PF_Init --name=\"EMT_Slack_PiLine_VSI_with_PF_ControlOff\" --option=\"control=false\" --timestep=${TIMESTEP} --duration=${DURATION}"
   ]
  },
  {
   "cell_type": "code",
   "execution_count": null,
   "metadata": {},
   "outputs": [],
   "source": [
    "from villas.dataprocessing.readtools import *\n",
    "from villas.dataprocessing.timeseries import *\n",
    "import matplotlib.pyplot as plt\n",
    "import re\n",
    "\n",
    "# %matplotlib widget"
   ]
  },
  {
   "cell_type": "markdown",
   "metadata": {},
   "source": [
    "## PF results"
   ]
  },
  {
   "cell_type": "code",
   "execution_count": null,
   "metadata": {},
   "outputs": [],
   "source": [
    "modelName = 'EMT_Slack_PiLine_VSI_with_PF_ControlOn_PF'\n",
    "path = 'logs/' + modelName + '/'\n",
    "dpsim_result_file = path + modelName + '.csv'\n",
    "\n",
    "ts_dpsim_pf = read_timeseries_csv(dpsim_result_file)"
   ]
  },
  {
   "cell_type": "markdown",
   "metadata": {},
   "source": [
    "## EMT results with control on"
   ]
  },
  {
   "cell_type": "code",
   "execution_count": null,
   "metadata": {},
   "outputs": [],
   "source": [
    "modelName = 'EMT_Slack_PiLine_VSI_with_PF_ControlOn_EMT'\n",
    "path = 'logs/' + modelName + '/'\n",
    "dpsim_result_file = path + modelName + '.csv'\n",
    "\n",
    "ts_dpsim = read_timeseries_csv(dpsim_result_file)"
   ]
  },
  {
   "cell_type": "markdown",
   "metadata": {},
   "source": [
    "## EMT results with control off"
   ]
  },
  {
   "cell_type": "code",
   "execution_count": null,
   "metadata": {},
   "outputs": [],
   "source": [
    "modelName = 'EMT_Slack_PiLine_VSI_with_PF_ControlOff_EMT'\n",
    "path = 'logs/' + modelName + '/'\n",
    "dpsim_result_file = path + modelName + '.csv'\n",
    "PEAK1PH_TO_RMS3PH = np.sqrt(3.0/2.0)\n",
    "ts_dpsim_no_control = read_timeseries_csv(dpsim_result_file)"
   ]
  },
  {
   "cell_type": "markdown",
   "metadata": {},
   "source": [
    "## EMT plot of grid quantities"
   ]
  },
  {
   "cell_type": "markdown",
   "metadata": {},
   "source": [
    "### Voltages"
   ]
  },
  {
   "cell_type": "code",
   "execution_count": null,
   "metadata": {},
   "outputs": [],
   "source": [
    "plt.figure(figsize=(12,6))\n",
    "ts_of_interest = ['v1_0', 'v2_0']\n",
    "for ts_name, ts_obj  in ts_dpsim_pf.items():\n",
    "    if ts_name+'_0' in ts_of_interest:\n",
    "        plt.plot(ts_obj.time, ts_obj.abs().values, label=ts_name+'_pf')\n",
    "for ts_name, ts_obj  in ts_dpsim.items():\n",
    "    if ts_name in ts_of_interest:\n",
    "        plt.plot(ts_obj.time, PEAK1PH_TO_RMS3PH*ts_obj.values, label=ts_name+'_control_on')\n",
    "for ts_name, ts_obj  in ts_dpsim_no_control.items():\n",
    "    if ts_name in ts_of_interest:\n",
    "        plt.plot(ts_obj.time, PEAK1PH_TO_RMS3PH*ts_obj.values, label=ts_name+'_control_off', linestyle=':')\n",
    "plt.legend()\n",
    "plt.show()"
   ]
  },
  {
   "cell_type": "markdown",
   "metadata": {},
   "source": [
    "### Currents"
   ]
  },
  {
   "cell_type": "code",
   "execution_count": null,
   "metadata": {},
   "outputs": [],
   "source": [
    "plt.figure(figsize=(12,6))\n",
    "ts_of_interest = ['i12_0']   # 'i12_1','i12_2'\n",
    "for ts_name, ts_obj  in ts_dpsim.items():\n",
    "    if ts_name in ts_of_interest:\n",
    "        plt.plot(ts_obj.time, PEAK1PH_TO_RMS3PH*ts_obj.values, label=ts_name+'_control_on')\n",
    "for ts_name, ts_obj  in ts_dpsim_no_control.items():\n",
    "    if ts_name in ts_of_interest:\n",
    "        plt.plot(ts_obj.time, PEAK1PH_TO_RMS3PH*ts_obj.values, label=ts_name+'_control_off', linestyle=':')\n",
    "plt.legend()\n",
    "plt.show()"
   ]
  },
  {
   "cell_type": "markdown",
   "metadata": {},
   "source": [
    "## EMT plot of VSI variables"
   ]
  },
  {
   "cell_type": "markdown",
   "metadata": {},
   "source": [
    "### States - Power"
   ]
  },
  {
   "cell_type": "code",
   "execution_count": null,
   "metadata": {},
   "outputs": [],
   "source": [
    "plt.figure(figsize=(12,6))\n",
    "ts_of_interest = ['pv_powerctrl_input_pref', 'pv_powerctrl_input_qref']\n",
    "for ts_name, ts_obj  in ts_dpsim.items():\n",
    "    if ts_name in ts_of_interest:\n",
    "        plt.plot(ts_obj.time, ts_obj.values, label=ts_name)\n",
    "ts_of_interest = ['pv_powerctrl_state_p', 'pv_powerctrl_state_q']\n",
    "for ts_name, ts_obj  in ts_dpsim.items():\n",
    "    if ts_name in ts_of_interest:\n",
    "        plt.plot(ts_obj.time, ts_obj.values, label=ts_name+'_control_on')\n",
    "for ts_name, ts_obj  in ts_dpsim_no_control.items():\n",
    "    if ts_name in ts_of_interest:\n",
    "        plt.plot(ts_obj.time, ts_obj.values, label=ts_name+'_control_off', linestyle=':')\n",
    "plt.legend()\n",
    "plt.show()"
   ]
  },
  {
   "cell_type": "markdown",
   "metadata": {},
   "source": [
    "### Outputs - Voltage"
   ]
  },
  {
   "cell_type": "code",
   "execution_count": null,
   "metadata": {},
   "outputs": [],
   "source": [
    "plt.figure(figsize=(12,6))\n",
    "ts_of_interest = ['pv_vs_0']\n",
    "for ts_name, ts_obj  in ts_dpsim.items():\n",
    "    if ts_name in ts_of_interest:        \n",
    "        plt.plot(ts_obj.time, ts_obj.values, label=ts_name+'_control_on')\n",
    "for ts_name, ts_obj  in ts_dpsim_no_control.items():\n",
    "    if ts_name in ts_of_interest:\n",
    "        plt.plot(ts_obj.time, ts_obj.values, label=ts_name+'_control_off', linestyle=':')\n",
    "plt.legend()\n",
    "plt.show()"
   ]
  },
  {
   "cell_type": "code",
   "execution_count": null,
   "metadata": {},
   "outputs": [],
   "source": []
  }
 ],
 "metadata": {
  "kernelspec": {
   "display_name": "Python 3",
   "language": "python",
   "name": "python3"
  },
  "language_info": {
   "codemirror_mode": {
    "name": "ipython",
    "version": 3
   },
   "file_extension": ".py",
   "mimetype": "text/x-python",
   "name": "python",
   "nbconvert_exporter": "python",
   "pygments_lexer": "ipython3",
   "version": "3.7.6"
  }
 },
 "nbformat": 4,
 "nbformat_minor": 4
}
