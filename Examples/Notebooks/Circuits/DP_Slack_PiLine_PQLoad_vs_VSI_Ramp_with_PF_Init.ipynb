{
 "cells": [
  {
   "cell_type": "markdown",
   "metadata": {},
   "source": [
    "# DP Simulation of topology with slack, line and PQ load"
   ]
  },
  {
   "cell_type": "code",
   "execution_count": null,
   "metadata": {},
   "outputs": [],
   "source": [
    " %%bash\n",
    "TOP=${TOP:-$(git rev-parse --show-toplevel)}\n",
    "PATH=${TOP}/build/Examples/Cxx\n",
    "\n",
    "DP_Slack_PiLine_PQLoad_Ramp_with_PF_Init\n",
    "DP_Slack_PiLine_VSI_Ramp_with_PF_Init"
   ]
  },
  {
   "cell_type": "code",
   "execution_count": null,
   "metadata": {},
   "outputs": [],
   "source": [
    "from villas.dataprocessing.readtools import *\n",
    "from villas.dataprocessing.timeseries import *\n",
    "import matplotlib.pyplot as plt\n",
    "import re\n",
    "\n",
    "# %matplotlib widget"
   ]
  },
  {
   "cell_type": "markdown",
   "metadata": {},
   "source": [
    "## PF results"
   ]
  },
  {
   "cell_type": "code",
   "execution_count": null,
   "metadata": {},
   "outputs": [],
   "source": [
    "# PQLoad\n",
    "modelName = 'DP_Slack_PiLine_PQLoad_with_PF_Init_PF'\n",
    "path = 'logs/' + modelName + '/'\n",
    "dpsim_result_file = path + modelName + '.csv'\n",
    "\n",
    "ts_dpsim_pqload_pf = read_timeseries_csv(dpsim_result_file)\n",
    "\n",
    "# VSI\n",
    "modelName = 'DP_Slack_PiLine_VSI_with_PF_Init_PF'\n",
    "path = 'logs/' + modelName + '/'\n",
    "dpsim_result_file = path + modelName + '.csv'\n",
    "\n",
    "ts_dpsim_vsi_pf = read_timeseries_csv(dpsim_result_file)"
   ]
  },
  {
   "cell_type": "markdown",
   "metadata": {},
   "source": [
    "## DP results PQLoad"
   ]
  },
  {
   "cell_type": "code",
   "execution_count": null,
   "metadata": {},
   "outputs": [],
   "source": [
    "# PQLoad\n",
    "modelName = 'DP_Slack_PiLine_PQLoad_with_PF_Init_DP'\n",
    "path = 'logs/' + modelName + '/'\n",
    "dpsim_result_file = path + modelName + '.csv'\n",
    "\n",
    "ts_dpsim_pqload = read_timeseries_csv(dpsim_result_file)\n",
    "\n",
    "# VSI\n",
    "modelName = 'DP_Slack_PiLine_VSI_with_PF_Init_DP'\n",
    "path = 'logs/' + modelName + '/'\n",
    "dpsim_result_file = path + modelName + '.csv'\n",
    "\n",
    "ts_dpsim_vsi = read_timeseries_csv(dpsim_result_file)"
   ]
  },
  {
   "cell_type": "code",
   "execution_count": null,
   "metadata": {},
   "outputs": [],
   "source": [
    "plt.figure(figsize=(12,6))\n",
    "for ts_name, ts_obj  in ts_dpsim_pqload.items():\n",
    "        if ts_name in ['i12', 'irx']:\n",
    "                plt.plot(ts_obj.time, ts_obj.abs().values, label=ts_name + ' (PQLoad)')\n",
    "for ts_name, ts_obj  in ts_dpsim_vsi.items():\n",
    "        if ts_name in ['i12', 'irx']:\n",
    "                plt.plot(ts_obj.time, ts_obj.abs().values, label=ts_name + ' (VSI)')\n",
    "# for ts_name, ts_obj  in ts_dpsim_pf.items():\n",
    "#         plt.plot(ts_obj.time, ts_obj.abs().values, label=ts_name+'_pf', linestyle=':')\n",
    "plt.xlim(4.0, 6.0)\n",
    "plt.legend()\n",
    "plt.show()"
   ]
  },
  {
   "cell_type": "code",
   "execution_count": null,
   "metadata": {},
   "outputs": [],
   "source": [
    "plt.figure(figsize=(12,6))\n",
    "for ts_name, ts_obj  in ts_dpsim_pqload.items():\n",
    "        if ts_name in ['f_src']:\n",
    "                plt.plot(ts_obj.time, ts_obj.abs().values, label=ts_name + ' (PQLoad)')\n",
    "for ts_name, ts_obj  in ts_dpsim_vsi.items():\n",
    "        if ts_name in ['f_src']:\n",
    "                plt.plot(ts_obj.time, ts_obj.abs().values, label=ts_name + ' (VSI)')\n",
    "# for ts_name, ts_obj  in ts_dpsim_pf.items():\n",
    "#         plt.plot(ts_obj.time, ts_obj.abs().values, label=ts_name+'_pf', linestyle=':')\n",
    "plt.xlim(4.0, 6.0)\n",
    "plt.legend()\n",
    "plt.show()"
   ]
  },
  {
   "cell_type": "code",
   "execution_count": null,
   "metadata": {},
   "outputs": [],
   "source": [
    "plt.figure(figsize=(12,6))\n",
    "plt.magnitude_spectrum(ts_dpsim_pqload['i12'].values[4000:], Fs=10000, pad_to=10000)\n",
    "plt.magnitude_spectrum(ts_dpsim_pqload['irx'].values[4000:], Fs=10000, pad_to=10000)\n",
    "#plt.magnitude_spectrum(ts_dpsim_vsi['i12'].values[4000:], Fs=10000, pad_to=10000)\n",
    "#plt.magnitude_spectrum(ts_dpsim_vsi['irx'].values[:2000], Fs=10000, pad_to=10000)\n",
    "#plt.xlim(0,200)\n",
    "#plt.xlim(40,60)\n",
    "plt.xlim(-10,10)\n",
    "plt.grid()\n",
    "plt.legend(['i12 (PQLoad)', 'irx (PQLoad)', 'i12 (VSI)', 'irx (PQLoad)'])\n",
    "plt.show()"
   ]
  },
  {
   "cell_type": "code",
   "execution_count": null,
   "metadata": {},
   "outputs": [],
   "source": []
  }
 ],
 "metadata": {
  "kernelspec": {
   "display_name": "Python 3",
   "language": "python",
   "name": "python3"
  },
  "language_info": {
   "codemirror_mode": {
    "name": "ipython",
    "version": 3
   },
   "file_extension": ".py",
   "mimetype": "text/x-python",
   "name": "python",
   "nbconvert_exporter": "python",
   "pygments_lexer": "ipython3",
   "version": "3.8.3-final"
  }
 },
 "nbformat": 4,
 "nbformat_minor": 4
}