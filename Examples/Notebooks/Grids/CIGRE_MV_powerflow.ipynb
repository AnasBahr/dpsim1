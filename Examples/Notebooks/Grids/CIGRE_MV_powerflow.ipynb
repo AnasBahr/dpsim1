{
 "cells": [
  {
   "cell_type": "markdown",
   "metadata": {},
   "source": [
    "# CIGRE MV Powerflow Solver Test"
   ]
  },
  {
   "cell_type": "markdown",
   "metadata": {},
   "source": [
    "## Run simulation"
   ]
  },
  {
   "cell_type": "code",
   "execution_count": 6,
   "metadata": {},
   "outputs": [
    {
     "name": "stdout",
     "output_type": "stream",
     "text": [
      "CIMContentHandler: Note: 0 out of 778 tasks remain unresolved!\n"
     ]
    }
   ],
   "source": [
    "%%bash\n",
    "TOP=${TOP:-$(git rev-parse --show-toplevel)}\n",
    "PATH=${TOP}/build/Examples/Cxx\n",
    "\n",
    "CIGRE_MV_PowerFlowTest ${TOP}/Examples/CIM/CIGRE_MV_NoTap/*.xml"
   ]
  },
  {
   "cell_type": "code",
   "execution_count": 7,
   "metadata": {},
   "outputs": [],
   "source": [
    "from villas.dataprocessing.readtools import *\n",
    "from villas.dataprocessing.timeseries import *\n",
    "import villas.dataprocessing.validationtools as validationtools\n",
    "import os\n",
    "import urllib.request"
   ]
  },
  {
   "cell_type": "markdown",
   "metadata": {},
   "source": [
    "## Read DPsim results"
   ]
  },
  {
   "cell_type": "code",
   "execution_count": 8,
   "metadata": {},
   "outputs": [
    {
     "name": "stdout",
     "output_type": "stream",
     "text": [
      "column number: 15\n",
      "results length: 120\n",
      "real column names: []\n",
      "complex column names: ['N0.V', 'N1.V', 'N10.V', 'N11.V', 'N12.V', 'N13.V', 'N14.V', 'N2.V', 'N3.V', 'N4.V', 'N5.V', 'N6.V', 'N7.V', 'N8.V', 'N9.V']\n"
     ]
    }
   ],
   "source": [
    "path = 'logs/'\n",
    "logName = 'CIGRE-MV-NoTap'\n",
    "dpsim_result_file = path + logName + '.csv'\n",
    "\n",
    "ts_dpsim = read_timeseries_csv(dpsim_result_file)\n",
    "\n",
    "# Fix for dpsim naming - TODO: unify dpsim notation in log file and update villas-dataprocessing accordingly\n",
    "for ts,values in ts_dpsim.items():\n",
    "    values.name = values.name[:-2]"
   ]
  },
  {
   "cell_type": "markdown",
   "metadata": {},
   "source": [
    "## Read NEPLAN results as reference"
   ]
  },
  {
   "cell_type": "code",
   "execution_count": 9,
   "metadata": {},
   "outputs": [
    {
     "name": "stdout",
     "output_type": "stream",
     "text": [
      "reference-results/CIGRE_MV.rlf\n"
     ]
    }
   ],
   "source": [
    "if not os.path.exists('reference-results'):\n",
    "    os.mkdir('reference-results')\n",
    "\n",
    "url = 'https://git.rwth-aachen.de/acs/public/simulation/reference-results/raw/master/Neplan/ReferenceGrids/CIGRE_MV.rlf'\n",
    "neplan_result_file = 'reference-results/CIGRE_MV.rlf'\n",
    "urllib.request.urlretrieve(url, neplan_result_file) \n",
    "print(neplan_result_file)\n",
    "\n",
    "ts_NEPLAN = read_timeseries_NEPLAN_loadflow(neplan_result_file)\n",
    "#print([ts_NEPLAN[i].name for i in range(len(ts_NEPLAN))])"
   ]
  },
  {
   "cell_type": "markdown",
   "metadata": {},
   "source": [
    "## Comparison and assertion of results"
   ]
  },
  {
   "cell_type": "code",
   "execution_count": 10,
   "metadata": {},
   "outputs": [
    {
     "name": "stdout",
     "output_type": "stream",
     "text": [
      "N0.V\n",
      "0.0\n",
      "N0.VANGLE\n",
      "0.0\n",
      "N1.V\n",
      "0.06300359551948702\n",
      "N1.VANGLE\n",
      "-0.0012694961243216723\n",
      "N10.V\n",
      "0.07428412292891705\n",
      "N10.VANGLE\n",
      "-0.04194141143223348\n",
      "N11.V\n",
      "0.07430912647323866\n",
      "N11.VANGLE\n",
      "-0.04302873570896224\n",
      "N12.V\n",
      "0.03123342083313643\n",
      "N12.VANGLE\n",
      "-0.006754175950550075\n",
      "N13.V\n",
      "0.031595742878392605\n",
      "N13.VANGLE\n",
      "-0.0011994603355235036\n",
      "N14.V\n",
      "0.03176328011913161\n",
      "N14.VANGLE\n",
      "-0.004045279098843493\n",
      "N2.V\n",
      "0.06678100763349827\n",
      "N2.VANGLE\n",
      "-0.012985889677551989\n",
      "N3.V\n",
      "0.07294404258661458\n",
      "N3.VANGLE\n",
      "-0.03547533321803249\n",
      "N4.V\n",
      "0.07326300316120848\n",
      "N4.VANGLE\n",
      "-0.03625517542820986\n",
      "N5.V\n",
      "0.07352009697457926\n",
      "N5.VANGLE\n",
      "-0.04357076634514172\n",
      "N6.V\n",
      "0.07373436305224995\n",
      "N6.VANGLE\n",
      "-0.042324486702345135\n",
      "N7.V\n",
      "0.07395537135837776\n",
      "N7.VANGLE\n",
      "-0.042092250576904654\n",
      "N8.V\n",
      "0.07393415040058174\n",
      "N8.VANGLE\n",
      "-0.041034305497914855\n",
      "N9.V\n",
      "0.07410648062830545\n",
      "N9.VANGLE\n",
      "-0.03531822973634549\n",
      "Test on N0.V Passed\n",
      "Test on N0.VANGLE Passed\n",
      "Test on N1.V Passed\n",
      "Test on N1.VANGLE Passed\n",
      "Test on N10.V Passed\n",
      "Test on N10.VANGLE Passed\n",
      "Test on N11.V Passed\n",
      "Test on N11.VANGLE Passed\n",
      "Test on N12.V Passed\n",
      "Test on N12.VANGLE Passed\n",
      "Test on N13.V Passed\n",
      "Test on N13.VANGLE Passed\n",
      "Test on N14.V Passed\n",
      "Test on N14.VANGLE Passed\n",
      "Test on N2.V Passed\n",
      "Test on N2.VANGLE Passed\n",
      "Test on N3.V Passed\n",
      "Test on N3.VANGLE Passed\n",
      "Test on N4.V Passed\n",
      "Test on N4.VANGLE Passed\n",
      "Test on N5.V Passed\n",
      "Test on N5.VANGLE Passed\n",
      "Test on N6.V Passed\n",
      "Test on N6.VANGLE Passed\n",
      "Test on N7.V Passed\n",
      "Test on N7.VANGLE Passed\n",
      "Test on N8.V Passed\n",
      "Test on N8.VANGLE Passed\n",
      "Test on N9.V Passed\n",
      "Test on N9.VANGLE Passed\n",
      "\u001b[1;36;40mModel CIGRE_MV_NoTap Passed\u001b[0m\n"
     ]
    }
   ],
   "source": [
    "net_name='CIGRE_MV_NoTap'\n",
    "threshold=0.5\n",
    "\n",
    "ts_NEPLAN_standardized=validationtools.convert_neplan_to_standard_timeseries(ts_NEPLAN)\n",
    "#print([ts_NEPLAN_standardized[i].name for i in range(len(ts_NEPLAN_standardized))])\n",
    "ts_dpsim_standardized=validationtools.convert_dpsim_to_standard_timeseries(ts_dpsim)\n",
    "#print([ts_dpsim_standardized[i].name for i in range(len(ts_dpsim_standardized))])\n",
    "res_err=validationtools.compare_timeseries(ts_NEPLAN_standardized,ts_dpsim_standardized)\n",
    "validationtools.assert_modelica_results(net_name,res_err,threshold)"
   ]
  },
  {
   "cell_type": "code",
   "execution_count": null,
   "metadata": {},
   "outputs": [],
   "source": []
  }
 ],
 "metadata": {
  "kernelspec": {
   "display_name": "Python 3",
   "language": "python",
   "name": "python3"
  },
  "language_info": {
   "codemirror_mode": {
    "name": "ipython",
    "version": 3
   },
   "file_extension": ".py",
   "mimetype": "text/x-python",
   "name": "python",
   "nbconvert_exporter": "python",
   "pygments_lexer": "ipython3",
   "version": "3.7.3"
  }
 },
 "nbformat": 4,
 "nbformat_minor": 4
}
