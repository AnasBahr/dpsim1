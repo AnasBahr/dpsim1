{
 "cells": [
  {
   "cell_type": "markdown",
   "metadata": {},
   "source": [
    "# CIGRE MV Powerflow Solver Test"
   ]
  },
  {
   "cell_type": "markdown",
   "metadata": {},
   "source": [
    "## Run simulation"
   ]
  },
  {
   "cell_type": "code",
   "execution_count": 1,
   "metadata": {},
   "outputs": [
    {
     "name": "stdout",
     "output_type": "stream",
     "text": [
      "CIMContentHandler: Note: 0 out of 778 tasks remain unresolved!\n"
     ]
    }
   ],
   "source": [
    "%%bash\n",
    "TOP=${TOP:-$(git rev-parse --show-toplevel)}\n",
    "PATH=${TOP}/build/Examples/Cxx\n",
    "\n",
    "CIGRE_MV_PowerFlowTest ${TOP}/Examples/CIM/CIGRE_MV_NoTap/*.xml"
   ]
  },
  {
   "cell_type": "code",
   "execution_count": 2,
   "metadata": {},
   "outputs": [],
   "source": [
    "from villas.dataprocessing.readtools import *\n",
    "from villas.dataprocessing.timeseries import *\n",
    "import villas.dataprocessing.validationtools as validationtools\n",
    "import os\n",
    "import urllib.request"
   ]
  },
  {
   "cell_type": "markdown",
   "metadata": {},
   "source": [
    "## Read DPsim results"
   ]
  },
  {
   "cell_type": "code",
   "execution_count": 3,
   "metadata": {},
   "outputs": [
    {
     "name": "stdout",
     "output_type": "stream",
     "text": [
      "column number: 15\n",
      "results length: 120\n",
      "real column names: []\n",
      "complex column names: ['N0.V', 'N1.V', 'N10.V', 'N11.V', 'N12.V', 'N13.V', 'N14.V', 'N2.V', 'N3.V', 'N4.V', 'N5.V', 'N6.V', 'N7.V', 'N8.V', 'N9.V']\n"
     ]
    }
   ],
   "source": [
    "path = 'logs/'\n",
    "logName = 'CIGRE-MV-NoTap'\n",
    "dpsim_result_file = path + logName + '.csv'\n",
    "\n",
    "ts_dpsim = read_timeseries_csv(dpsim_result_file)\n",
    "\n",
    "# Fix for dpsim naming - TODO: update villas-dataprocessing accordingly\n",
    "for ts,values in ts_dpsim.items():\n",
    "    values.name = values.name[:-2]"
   ]
  },
  {
   "cell_type": "markdown",
   "metadata": {},
   "source": [
    "## Read NEPLAN results as reference"
   ]
  },
  {
   "cell_type": "code",
   "execution_count": 4,
   "metadata": {},
   "outputs": [
    {
     "name": "stdout",
     "output_type": "stream",
     "text": [
      "reference-results/CIGRE_MV.rlf\n",
      "['N0.U', 'N0.ANGLEU', 'N1.U', 'N1.ANGLEU', 'N12.U', 'N12.ANGLEU', 'N3.U', 'N3.ANGLEU', 'N5.U', 'N5.ANGLEU', 'N4.U', 'N4.ANGLEU', 'N10.U', 'N10.ANGLEU', 'N9.U', 'N9.ANGLEU', 'N8.U', 'N8.ANGLEU', 'N7.U', 'N7.ANGLEU', 'N6.U', 'N6.ANGLEU', 'N14.U', 'N14.ANGLEU', 'N13.U', 'N13.ANGLEU', 'N11.U', 'N11.ANGLEU', 'N2.U', 'N2.ANGLEU', 'LOAD-I-1.U', 'LOAD-I-1.ANGLEU', 'LOAD-I-1.P', 'LOAD-I-1.Q', 'LOAD-I-1.I', 'LOAD-I-1.ANGLEI', 'LOAD-H-3.U', 'LOAD-H-3.ANGLEU', 'LOAD-H-3.P', 'LOAD-H-3.Q', 'LOAD-H-3.I', 'LOAD-H-3.ANGLEI', 'SL.U', 'SL.ANGLEU', 'SL.P', 'SL.Q', 'SL.I', 'SL.ANGLEI', 'LOAD-H-12.U', 'LOAD-H-12.ANGLEU', 'LOAD-H-12.P', 'LOAD-H-12.Q', 'LOAD-H-12.I', 'LOAD-H-12.ANGLEI', 'LOAD-I-3.U', 'LOAD-I-3.ANGLEU', 'LOAD-I-3.P', 'LOAD-I-3.Q', 'LOAD-I-3.I', 'LOAD-I-3.ANGLEI', 'LOAD-H-10.U', 'LOAD-H-10.ANGLEU', 'LOAD-H-10.P', 'LOAD-H-10.Q', 'LOAD-H-10.I', 'LOAD-H-10.ANGLEI', 'LOAD-I-13.U', 'LOAD-I-13.ANGLEU', 'LOAD-I-13.P', 'LOAD-I-13.Q', 'LOAD-I-13.I', 'LOAD-I-13.ANGLEI', 'LOAD-H-1.U', 'LOAD-H-1.ANGLEU', 'LOAD-H-1.P', 'LOAD-H-1.Q', 'LOAD-H-1.I', 'LOAD-H-1.ANGLEI', 'LOAD-H-4.U', 'LOAD-H-4.ANGLEU', 'LOAD-H-4.P', 'LOAD-H-4.Q', 'LOAD-H-4.I', 'LOAD-H-4.ANGLEI', 'LOAD-I-12.U', 'LOAD-I-12.ANGLEU', 'LOAD-I-12.P', 'LOAD-I-12.Q', 'LOAD-I-12.I', 'LOAD-I-12.ANGLEI', 'LOAD-H-14.U', 'LOAD-H-14.ANGLEU', 'LOAD-H-14.P', 'LOAD-H-14.Q', 'LOAD-H-14.I', 'LOAD-H-14.ANGLEI', 'LOAD-H-5.U', 'LOAD-H-5.ANGLEU', 'LOAD-H-5.P', 'LOAD-H-5.Q', 'LOAD-H-5.I', 'LOAD-H-5.ANGLEI', 'LOAD-H-11.U', 'LOAD-H-11.ANGLEU', 'LOAD-H-11.P', 'LOAD-H-11.Q', 'LOAD-H-11.I', 'LOAD-H-11.ANGLEI', 'LOAD-I-10.U', 'LOAD-I-10.ANGLEU', 'LOAD-I-10.P', 'LOAD-I-10.Q', 'LOAD-I-10.I', 'LOAD-I-10.ANGLEI', 'LOAD-I-9.U', 'LOAD-I-9.ANGLEU', 'LOAD-I-9.P', 'LOAD-I-9.Q', 'LOAD-I-9.I', 'LOAD-I-9.ANGLEI', 'LOAD-H-6.U', 'LOAD-H-6.ANGLEU', 'LOAD-H-6.P', 'LOAD-H-6.Q', 'LOAD-H-6.I', 'LOAD-H-6.ANGLEI', 'LOAD-I-14.U', 'LOAD-I-14.ANGLEU', 'LOAD-I-14.P', 'LOAD-I-14.Q', 'LOAD-I-14.I', 'LOAD-I-14.ANGLEI', 'TR0.U', 'TR0.ANGLEU', 'TR0.P', 'TR0.Q', 'TR0.I', 'TR0.ANGLEI', 'TR1.U', 'TR1.ANGLEU', 'TR1.P', 'TR1.Q', 'TR1.I', 'TR1.ANGLEI', 'LOAD-I-7.U', 'LOAD-I-7.ANGLEU', 'LOAD-I-7.P', 'LOAD-I-7.Q', 'LOAD-I-7.I', 'LOAD-I-7.ANGLEI', 'LOAD-H-8.U', 'LOAD-H-8.ANGLEU', 'LOAD-H-8.P', 'LOAD-H-8.Q', 'LOAD-H-8.I', 'LOAD-H-8.ANGLEI', 'L4-5.U', 'L4-5.ANGLEU', 'L4-5.P', 'L4-5.Q', 'L4-5.I', 'L4-5.ANGLEI', 'L4-5.U', 'L4-5.ANGLEU', 'L4-5.P', 'L4-5.Q', 'L4-5.I', 'L4-5.ANGLEI', 'L3-4.U', 'L3-4.ANGLEU', 'L3-4.P', 'L3-4.Q', 'L3-4.I', 'L3-4.ANGLEI', 'L3-4.U', 'L3-4.ANGLEU', 'L3-4.P', 'L3-4.Q', 'L3-4.I', 'L3-4.ANGLEI', 'L11-10.U', 'L11-10.ANGLEU', 'L11-10.P', 'L11-10.Q', 'L11-10.I', 'L11-10.ANGLEI', 'L11-10.U', 'L11-10.ANGLEU', 'L11-10.P', 'L11-10.Q', 'L11-10.I', 'L11-10.ANGLEI', 'L10-9.U', 'L10-9.ANGLEU', 'L10-9.P', 'L10-9.Q', 'L10-9.I', 'L10-9.ANGLEI', 'L10-9.U', 'L10-9.ANGLEU', 'L10-9.P', 'L10-9.Q', 'L10-9.I', 'L10-9.ANGLEI', 'L3-8.U', 'L3-8.ANGLEU', 'L3-8.P', 'L3-8.Q', 'L3-8.I', 'L3-8.ANGLEI', 'L3-8.U', 'L3-8.ANGLEU', 'L3-8.P', 'L3-8.Q', 'L3-8.I', 'L3-8.ANGLEI', 'L8-9.U', 'L8-9.ANGLEU', 'L8-9.P', 'L8-9.Q', 'L8-9.I', 'L8-9.ANGLEI', 'L8-9.U', 'L8-9.ANGLEU', 'L8-9.P', 'L8-9.Q', 'L8-9.I', 'L8-9.ANGLEI', 'L7-8.U', 'L7-8.ANGLEU', 'L7-8.P', 'L7-8.Q', 'L7-8.I', 'L7-8.ANGLEI', 'L7-8.U', 'L7-8.ANGLEU', 'L7-8.P', 'L7-8.Q', 'L7-8.I', 'L7-8.ANGLEI', 'L5-6.U', 'L5-6.ANGLEU', 'L5-6.P', 'L5-6.Q', 'L5-6.I', 'L5-6.ANGLEI', 'L5-6.U', 'L5-6.ANGLEU', 'L5-6.P', 'L5-6.Q', 'L5-6.I', 'L5-6.ANGLEI', 'L12-13.U', 'L12-13.ANGLEU', 'L12-13.P', 'L12-13.Q', 'L12-13.I', 'L12-13.ANGLEI', 'L12-13.U', 'L12-13.ANGLEU', 'L12-13.P', 'L12-13.Q', 'L12-13.I', 'L12-13.ANGLEI', 'L13-14.U', 'L13-14.ANGLEU', 'L13-14.P', 'L13-14.Q', 'L13-14.I', 'L13-14.ANGLEI', 'L13-14.U', 'L13-14.ANGLEU', 'L13-14.P', 'L13-14.Q', 'L13-14.I', 'L13-14.ANGLEI', 'TR0.U', 'TR0.ANGLEU', 'TR0.P', 'TR0.Q', 'TR0.I', 'TR0.ANGLEI', 'TR1.U', 'TR1.ANGLEU', 'TR1.P', 'TR1.Q', 'TR1.I', 'TR1.ANGLEI', 'L1-2.U', 'L1-2.ANGLEU', 'L1-2.P', 'L1-2.Q', 'L1-2.I', 'L1-2.ANGLEI', 'L1-2.U', 'L1-2.ANGLEU', 'L1-2.P', 'L1-2.Q', 'L1-2.I', 'L1-2.ANGLEI', 'L2-3.U', 'L2-3.ANGLEU', 'L2-3.P', 'L2-3.Q', 'L2-3.I', 'L2-3.ANGLEI', 'L2-3.U', 'L2-3.ANGLEU', 'L2-3.P', 'L2-3.Q', 'L2-3.I', 'L2-3.ANGLEI']\n"
     ]
    }
   ],
   "source": [
    "if not os.path.exists('reference-results'):\n",
    "    os.mkdir('reference-results')\n",
    "\n",
    "url = 'https://git.rwth-aachen.de/acs/public/simulation/reference-results/raw/master/Neplan/ReferenceGrids/CIGRE_MV.rlf'\n",
    "neplan_result_file = 'reference-results/CIGRE_MV.rlf'\n",
    "urllib.request.urlretrieve(url, neplan_result_file) \n",
    "print(neplan_result_file)\n",
    "\n",
    "ts_NEPLAN = read_timeseries_NEPLAN_loadflow(neplan_result_file)\n",
    "print([ts_NEPLAN[i].name for i in range(len(ts_NEPLAN))])"
   ]
  },
  {
   "cell_type": "markdown",
   "metadata": {},
   "source": [
    "## Comparison and assertion of results"
   ]
  },
  {
   "cell_type": "code",
   "execution_count": 5,
   "metadata": {},
   "outputs": [
    {
     "name": "stdout",
     "output_type": "stream",
     "text": [
      "N0.V\n",
      "0.0\n",
      "N0.VANGLE\n",
      "0.0\n",
      "N1.V\n",
      "0.06300359551948702\n",
      "N1.VANGLE\n",
      "-0.0012694961243216723\n",
      "N10.V\n",
      "0.07428412292891705\n",
      "N10.VANGLE\n",
      "-0.04194141143223348\n",
      "N11.V\n",
      "0.07430912647323866\n",
      "N11.VANGLE\n",
      "-0.04302873570896224\n",
      "N12.V\n",
      "0.03123342083313643\n",
      "N12.VANGLE\n",
      "-0.006754175950550075\n",
      "N13.V\n",
      "0.031595742878392605\n",
      "N13.VANGLE\n",
      "-0.0011994603355235036\n",
      "N14.V\n",
      "0.03176328011913161\n",
      "N14.VANGLE\n",
      "-0.004045279098843493\n",
      "N2.V\n",
      "0.06678100763349827\n",
      "N2.VANGLE\n",
      "-0.012985889677551989\n",
      "N3.V\n",
      "0.07294404258661458\n",
      "N3.VANGLE\n",
      "-0.03547533321803249\n",
      "N4.V\n",
      "0.07326300316120848\n",
      "N4.VANGLE\n",
      "-0.03625517542820986\n",
      "N5.V\n",
      "0.07352009697457926\n",
      "N5.VANGLE\n",
      "-0.04357076634514172\n",
      "N6.V\n",
      "0.07373436305224995\n",
      "N6.VANGLE\n",
      "-0.042324486702345135\n",
      "N7.V\n",
      "0.07395537135837776\n",
      "N7.VANGLE\n",
      "-0.042092250576904654\n",
      "N8.V\n",
      "0.07393415040058174\n",
      "N8.VANGLE\n",
      "-0.041034305497914855\n",
      "N9.V\n",
      "0.07410648062830545\n",
      "N9.VANGLE\n",
      "-0.03531822973634549\n",
      "Test on N0.V Passed\n",
      "Test on N0.VANGLE Passed\n",
      "Test on N1.V Passed\n",
      "Test on N1.VANGLE Passed\n",
      "Test on N10.V Passed\n",
      "Test on N10.VANGLE Passed\n",
      "Test on N11.V Passed\n",
      "Test on N11.VANGLE Passed\n",
      "Test on N12.V Passed\n",
      "Test on N12.VANGLE Passed\n",
      "Test on N13.V Passed\n",
      "Test on N13.VANGLE Passed\n",
      "Test on N14.V Passed\n",
      "Test on N14.VANGLE Passed\n",
      "Test on N2.V Passed\n",
      "Test on N2.VANGLE Passed\n",
      "Test on N3.V Passed\n",
      "Test on N3.VANGLE Passed\n",
      "Test on N4.V Passed\n",
      "Test on N4.VANGLE Passed\n",
      "Test on N5.V Passed\n",
      "Test on N5.VANGLE Passed\n",
      "Test on N6.V Passed\n",
      "Test on N6.VANGLE Passed\n",
      "Test on N7.V Passed\n",
      "Test on N7.VANGLE Passed\n",
      "Test on N8.V Passed\n",
      "Test on N8.VANGLE Passed\n",
      "Test on N9.V Passed\n",
      "Test on N9.VANGLE Passed\n",
      "\u001b[1;36;40mModel CIGRE_MV_NoTap Passed\u001b[0m\n"
     ]
    }
   ],
   "source": [
    "net_name='CIGRE_MV_NoTap'\n",
    "threshold=0.5\n",
    "\n",
    "ts_NEPLAN_standardized=validationtools.convert_neplan_to_standard_timeseries(ts_NEPLAN)\n",
    "#print([ts_NEPLAN_standardized[i].name for i in range(len(ts_NEPLAN_standardized))])\n",
    "ts_dpsim_standardized=validationtools.convert_dpsim_to_standard_timeseries(ts_dpsim)\n",
    "#print([ts_dpsim_standardized[i].name for i in range(len(ts_dpsim_standardized))])\n",
    "res_err=validationtools.compare_timeseries(ts_NEPLAN_standardized,ts_dpsim_standardized)\n",
    "validationtools.assert_modelica_results(net_name,res_err,threshold)"
   ]
  }
 ],
 "metadata": {
  "kernelspec": {
   "display_name": "Python 3",
   "language": "python",
   "name": "python3"
  },
  "language_info": {
   "codemirror_mode": {
    "name": "ipython",
    "version": 3
   },
   "file_extension": ".py",
   "mimetype": "text/x-python",
   "name": "python",
   "nbconvert_exporter": "python",
   "pygments_lexer": "ipython3",
   "version": "3.7.3"
  }
 },
 "nbformat": 4,
 "nbformat_minor": 4
}
