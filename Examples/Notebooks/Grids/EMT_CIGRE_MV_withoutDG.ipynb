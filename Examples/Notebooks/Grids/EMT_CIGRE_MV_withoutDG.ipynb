{
 "cells": [
  {
   "cell_type": "markdown",
   "metadata": {},
   "source": [
    "# EMT Simulation of CIGRE MV without PV Inverters"
   ]
  },
  {
   "cell_type": "markdown",
   "metadata": {},
   "source": [
    "### Run simulation"
   ]
  },
  {
   "cell_type": "code",
   "execution_count": null,
   "metadata": {},
   "outputs": [],
   "source": [
    "%%bash\n",
    "TOP=${TOP:-$(git rev-parse --show-toplevel)}\n",
    "PATH=${TOP}/build/Examples/Cxx\n",
    "\n",
    "EMT_CIGRE_MV_withoutDG --timestep=1e-3 --duration=1 ${TOP}/build/_deps/cim-data-src/CIGRE_MV/NEPLAN/CIGRE_MV_no_tapchanger_noLoad1_LeftFeeder_With_LoadFlow_Results/*.xml"
   ]
  },
  {
   "cell_type": "markdown",
   "metadata": {},
   "source": [
    "## Powerflow"
   ]
  },
  {
   "cell_type": "markdown",
   "metadata": {},
   "source": [
    "### Read results"
   ]
  },
  {
   "cell_type": "code",
   "execution_count": null,
   "metadata": {},
   "outputs": [],
   "source": [
    "from villas.dataprocessing.readtools import *\n",
    "from villas.dataprocessing.timeseries import *\n",
    "import matplotlib.pyplot as plt\n",
    "import re\n",
    "\n",
    "# %matplotlib widget\n",
    "\n",
    "modelName = 'EMT_CIGRE_MV_withoutDG_Powerflow'\n",
    "path = 'logs/' + modelName + '/'\n",
    "dpsim_result_file = path + modelName + '.csv'\n",
    "\n",
    "ts_dpsim_powerflow = read_timeseries_csv(dpsim_result_file)"
   ]
  },
  {
   "cell_type": "markdown",
   "metadata": {},
   "source": [
    "### Plot results"
   ]
  },
  {
   "cell_type": "code",
   "execution_count": null,
   "metadata": {},
   "outputs": [],
   "source": [
    "plt.figure(figsize=(12,6))\n",
    "for ts_name, ts_obj  in ts_dpsim_powerflow.items():\n",
    "    if ts_name != 'N0.V':\n",
    "        plt.plot(ts_obj.time, ts_obj.abs().values, label=ts_name)\n",
    "plt.legend()\n",
    "plt.show()"
   ]
  },
  {
   "cell_type": "markdown",
   "metadata": {},
   "source": [
    "## EMT"
   ]
  },
  {
   "cell_type": "markdown",
   "metadata": {},
   "source": [
    "### Read results"
   ]
  },
  {
   "cell_type": "code",
   "execution_count": null,
   "metadata": {},
   "outputs": [],
   "source": [
    "modelName = 'EMT_CIGRE_MV_withoutDG'\n",
    "path = 'logs/' + modelName + '/'\n",
    "dpsim_result_file = path + modelName + '.csv'\n",
    "\n",
    "ts_dpsim = read_timeseries_csv(dpsim_result_file)"
   ]
  },
  {
   "cell_type": "markdown",
   "metadata": {},
   "source": [
    "### Plot Node voltages"
   ]
  },
  {
   "cell_type": "code",
   "execution_count": null,
   "metadata": {},
   "outputs": [],
   "source": [
    "plt.figure(figsize=(12,6))\n",
    "for ts_name, ts_obj  in ts_dpsim.items():\n",
    "    if ts_name[-3:] == 'V_0' and ts_name[:-2] != 'N0.V':\n",
    "        plt.plot(ts_obj.time, ts_obj.values, label=ts_name)\n",
    "        plt.plot(ts_dpsim_powerflow[ts_name[:-2]].time, np.sqrt(2/3)*ts_dpsim_powerflow[ts_name[:-2]].abs().values, label=ts_name[:-2])\n",
    "plt.xlim([0,0.1])\n",
    "plt.legend()\n",
    "plt.show()"
   ]
  },
  {
   "cell_type": "markdown",
   "metadata": {},
   "source": [
    "### At first timestep"
   ]
  },
  {
   "cell_type": "code",
   "execution_count": null,
   "metadata": {},
   "outputs": [],
   "source": [
    "for ts_name, ts_obj  in ts_dpsim.items():\n",
    "    if ts_name[-4:] == '.V_0':\n",
    "        print(ts_name + ': ' + str(ts_obj.values[0]))"
   ]
  },
  {
   "cell_type": "markdown",
   "metadata": {},
   "source": [
    "### At last timestep"
   ]
  },
  {
   "cell_type": "code",
   "execution_count": null,
   "metadata": {},
   "outputs": [],
   "source": [
    "for ts_name, ts_obj  in ts_dpsim.items():\n",
    "    if ts_name[-4:] == '.V_0':\n",
    "        print(ts_name + ': ' + str(ts_obj.values[-1:]))"
   ]
  },
  {
   "cell_type": "markdown",
   "metadata": {},
   "source": [
    "## Load currents"
   ]
  },
  {
   "cell_type": "code",
   "execution_count": null,
   "metadata": {},
   "outputs": [],
   "source": [
    "plt.figure(figsize=(12,6))\n",
    "for ts_name, ts_obj  in ts_dpsim.items():\n",
    "    if ts_name[-4:] == '.I_0' and ts_name[:4]=='LOAD':\n",
    "        plt.plot(ts_obj.time, ts_obj.values, label=ts_name)\n",
    "#plt.xlim([0,0.1])\n",
    "plt.legend(loc='upper right')\n",
    "plt.show()"
   ]
  },
  {
   "cell_type": "markdown",
   "metadata": {},
   "source": [
    "### At first timestep"
   ]
  },
  {
   "cell_type": "code",
   "execution_count": null,
   "metadata": {},
   "outputs": [],
   "source": [
    "for ts_name, ts_obj  in ts_dpsim.items():\n",
    "    if ts_name[-4:] == '.I_0' and ts_name[:4]=='LOAD':\n",
    "        print(ts_name + ': ' + str(ts_obj.values[0]))"
   ]
  },
  {
   "cell_type": "markdown",
   "metadata": {},
   "source": [
    "### At last timestep"
   ]
  },
  {
   "cell_type": "code",
   "execution_count": null,
   "metadata": {},
   "outputs": [],
   "source": [
    "for ts_name, ts_obj  in ts_dpsim.items():\n",
    "    if ts_name[-4:] == '.I_0' and ts_name[:4]=='LOAD':\n",
    "        print(ts_name + ': ' + str(ts_obj.values[-1]))"
   ]
  },
  {
   "cell_type": "markdown",
   "metadata": {},
   "source": [
    "### Load Power Calculations"
   ]
  },
  {
   "cell_type": "code",
   "execution_count": null,
   "metadata": {},
   "outputs": [],
   "source": [
    "# load_I_3_p ref from CIM: P=225250, Q=139597\n",
    "# load_H_11_p ref from CIM: P=329800, Q=82656\n",
    "\n",
    "load_I_3_p = ts_dpsim['N3.V_0'].values*ts_dpsim['LOAD-I-3.I_0'].values+ts_dpsim['N3.V_1'].values*ts_dpsim['LOAD-I-3.I_1'].values+ts_dpsim['N3.V_2'].values*ts_dpsim['LOAD-I-3.I_2'].values\n",
    "load_H_11_p = ts_dpsim['N11.V_0'].values*ts_dpsim['LOAD-H-11.I_0'].values+ts_dpsim['N11.V_1'].values*ts_dpsim['LOAD-H-11.I_1'].values+ts_dpsim['N11.V_2'].values*ts_dpsim['LOAD-H-11.I_2'].values"
   ]
  },
  {
   "cell_type": "code",
   "execution_count": null,
   "metadata": {},
   "outputs": [],
   "source": [
    "plt.figure(figsize=(12,6))\n",
    "plt.plot(ts_dpsim['N3.V_0'].time, load_I_3_p, label='load_I_3_p')\n",
    "plt.plot(ts_dpsim['N11.V_0'].time, load_H_11_p, label='load_H_11_p')\n",
    "#plt.xlim([0,0.01])\n",
    "plt.legend(loc='upper right')\n",
    "plt.show()"
   ]
  },
  {
   "cell_type": "markdown",
   "metadata": {},
   "source": [
    "### At first timestep"
   ]
  },
  {
   "cell_type": "code",
   "execution_count": null,
   "metadata": {},
   "outputs": [],
   "source": [
    "print('Load-I-3.p' + ': ' + str(load_I_3_p[0]))\n",
    "print('Load-H-11.p' + ': ' + str(load_H_11_p[0]))"
   ]
  },
  {
   "cell_type": "markdown",
   "metadata": {},
   "source": [
    "### At last timestep"
   ]
  },
  {
   "cell_type": "code",
   "execution_count": null,
   "metadata": {},
   "outputs": [],
   "source": [
    "print('Load-I-3.p' + ': ' + str(load_I_3_p[-1]))\n",
    "print('Load-H-11.p' + ': ' + str(load_H_11_p[-1]))"
   ]
  },
  {
   "cell_type": "markdown",
   "metadata": {},
   "source": [
    "## Line currents"
   ]
  },
  {
   "cell_type": "code",
   "execution_count": null,
   "metadata": {},
   "outputs": [],
   "source": [
    "plt.figure(figsize=(12,6))\n",
    "for ts_name, ts_obj  in ts_dpsim.items():\n",
    "    if ts_name[-4:] == '.I_0' and ts_name[:4]!='LOAD':\n",
    "        plt.plot(ts_obj.time, ts_obj.values, label=ts_name)\n",
    "#plt.xlim([0,0.1])\n",
    "plt.legend(loc='upper right')\n",
    "plt.show()"
   ]
  },
  {
   "cell_type": "markdown",
   "metadata": {},
   "source": [
    "### At first timestep"
   ]
  },
  {
   "cell_type": "code",
   "execution_count": null,
   "metadata": {},
   "outputs": [],
   "source": [
    "for ts_name, ts_obj  in ts_dpsim.items():\n",
    "    if ts_name[-4:] == '.I_0' and ts_name[:4]!='LOAD':\n",
    "        print(ts_name + ': ' + str(ts_obj.values[0]))"
   ]
  },
  {
   "cell_type": "markdown",
   "metadata": {},
   "source": [
    "### At last timestep"
   ]
  },
  {
   "cell_type": "code",
   "execution_count": null,
   "metadata": {},
   "outputs": [],
   "source": [
    "for ts_name, ts_obj  in ts_dpsim.items():\n",
    "    if ts_name[-4:] == '.I_0' and ts_name[:4]!='LOAD':\n",
    "        print(ts_name + ': ' + str(ts_obj.values[-1]))"
   ]
  }
 ],
 "metadata": {
  "kernelspec": {
   "display_name": "Python 3",
   "language": "python",
   "name": "python3"
  },
  "language_info": {
   "codemirror_mode": {
    "name": "ipython",
    "version": 3
   },
   "file_extension": ".py",
   "mimetype": "text/x-python",
   "name": "python",
   "nbconvert_exporter": "python",
   "pygments_lexer": "ipython3",
   "version": "3.7.6"
  },
  "tests": {
   "skip": true
  }
 },
 "nbformat": 4,
 "nbformat_minor": 4
}
