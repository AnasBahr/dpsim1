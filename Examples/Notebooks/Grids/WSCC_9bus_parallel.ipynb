{
 "cells": [
  {
   "cell_type": "markdown",
   "metadata": {},
   "source": [
    "## Run"
   ]
  },
  {
   "cell_type": "code",
   "execution_count": null,
   "metadata": {},
   "outputs": [],
   "source": [
    "%%bash\n",
    "TOP=${TOP:-$(git rev-parse --show-toplevel)}\n",
    "PATH=${TOP}/build/Examples/Cxx\n",
    "\n",
    "WSCC_9bus_mult_coupled ${TOP}/Examples/CIM/WSCC-09_RX/*.xml"
   ]
  },
  {
   "cell_type": "code",
   "execution_count": null,
   "metadata": {},
   "outputs": [],
   "source": [
    "%%bash\n",
    "TOP=${TOP:-$(git rev-parse --show-toplevel)}\n",
    "PATH=${TOP}/build/Examples/Cxx\n",
    "\n",
    "WSCC_9bus_mult_decoupled ${TOP}/Examples/CIM/WSCC-09_RX/*.xml"
   ]
  },
  {
   "cell_type": "code",
   "execution_count": null,
   "metadata": {},
   "outputs": [],
   "source": [
    "%%bash\n",
    "TOP=${TOP:-$(git rev-parse --show-toplevel)}\n",
    "PATH=${TOP}/build/Examples/Cxx\n",
    "\n",
    "WSCC_9bus_mult_diakoptics ${TOP}/Examples/CIM/WSCC-09_RX/*.xml"
   ]
  },
  {
   "cell_type": "markdown",
   "metadata": {},
   "source": [
    "## Validate Results"
   ]
  },
  {
   "cell_type": "code",
   "execution_count": 6,
   "metadata": {},
   "outputs": [],
   "source": [
    "import villas.dataprocessing.readtools as rt\n",
    "from villas.dataprocessing.timeseries import TimeSeries as ts\n",
    "import matplotlib.pyplot as plt"
   ]
  },
  {
   "cell_type": "code",
   "execution_count": null,
   "metadata": {},
   "outputs": [],
   "source": [
    "path = 'logs/WSCC_9bus_coupled/'\n",
    "logName = 'WSCC_9bus_coupled'\n",
    "logFilename = path + logName + '.csv'\n",
    "print(logFilename)\n",
    "\n",
    "ts_coupled = rt.read_timeseries_dpsim(logFilename)\n",
    "phasors_coupled = ts.phasors(ts_coupled)"
   ]
  },
  {
   "cell_type": "code",
   "execution_count": null,
   "metadata": {},
   "outputs": [],
   "source": [
    "path = 'logs/WSCC_9bus_decoupled/'\n",
    "logName = 'WSCC_9bus_decoupled'\n",
    "logFilename = path + logName + '.csv'\n",
    "print(logFilename)\n",
    "\n",
    "ts_decoupled = rt.read_timeseries_dpsim(logFilename)\n",
    "phasors_decoupled = ts.phasors(ts_decoupled)"
   ]
  },
  {
   "cell_type": "code",
   "execution_count": null,
   "metadata": {},
   "outputs": [],
   "source": [
    "path = 'logs/WSCC_9bus_diakoptics/'\n",
    "logName = 'WSCC_9bus_diakoptics'\n",
    "logFilename = path + logName + '.csv'\n",
    "print(logFilename)\n",
    "\n",
    "ts_diakpotics = rt.read_timeseries_dpsim(logFilename)\n",
    "phasors_diakoptics= ts.phasors(ts_diakpotics)"
   ]
  },
  {
   "cell_type": "code",
   "execution_count": 17,
   "metadata": {},
   "outputs": [
    {
     "name": "stdout",
     "output_type": "stream",
     "text": [
      "v1: 17160.0<-0.0\n",
      "v1_2: 17160.0<-0.0\n",
      "v2: 18450.00000020238<9.692642999536206\n",
      "v2_2: 18450.00000020238<9.692642999536206\n",
      "v3: 14144.999999714519<4.881185998748725\n",
      "v3_2: 14144.999999714519<4.881185998748725\n",
      "v4: 231872.29538918336<-2.4323441364447786\n",
      "v4_2: 231872.29538918336<-2.4323441364447786\n",
      "v5: 223583.80167088698<-4.4029644932457135\n",
      "v5_2: 223583.80167088698<-4.4029644932457135\n",
      "v6: 227341.62674886087<-4.025617486619795\n",
      "v6_2: 227341.62674886087<-4.025617486619795\n",
      "v7: 231825.81946746152<3.846873246556736\n",
      "v7_2: 231825.81946746152<3.846873246556736\n",
      "v8: 229343.620883909<0.6492086371155127\n",
      "v8_2: 229343.620883909<0.6492086371155127\n",
      "v9: 233118.09369485534<2.0180766087280024\n",
      "v9_2: 233118.09369485534<2.0180766087280024\n"
     ]
    }
   ],
   "source": [
    "for node, phasor in phasors_coupled.items():\n",
    "    print(node + ': ' + str(phasor['abs'].values[-1]) + '<' + str(phasor['phase'].values[-1]))"
   ]
  },
  {
   "cell_type": "code",
   "execution_count": 18,
   "metadata": {},
   "outputs": [
    {
     "name": "stdout",
     "output_type": "stream",
     "text": [
      "v1: 17160.0<-0.0\n",
      "v1_2: 17160.0<-0.0\n",
      "v2: 18450.00000020238<9.692642999536206\n",
      "v2_2: 18450.00000020238<9.692642999536206\n",
      "v3: 14144.999999714519<4.881185998748725\n",
      "v3_2: 14144.999999714519<4.881185998748725\n",
      "v4: 229018.78377153096<-2.309580255397238\n",
      "v4_2: 229018.78377153096<-2.309580255397238\n",
      "v5: 218652.71971283667<-4.1434203993249525\n",
      "v5_2: 218652.71971283667<-4.1434203993249525\n",
      "v6: 222225.34431764085<-3.7423657166540507\n",
      "v6_2: 222225.34431764085<-3.7423657166540507\n",
      "v7: 229399.21921023313<3.970273612219297\n",
      "v7_2: 229399.21921023313<3.970273612219297\n",
      "v8: 225202.64884930322<0.8318256705433104\n",
      "v8_2: 225202.64884930322<0.8318256705433104\n",
      "v9: 230949.67776061504<2.1041264421051755\n",
      "v9_2: 230949.67776061504<2.1041264421051755\n"
     ]
    }
   ],
   "source": [
    "for node, phasor in phasors_decoupled.items():\n",
    "    print(node + ': ' + str(phasor['abs'].values[-1]) + '<' + str(phasor['phase'].values[-1]))"
   ]
  },
  {
   "cell_type": "code",
   "execution_count": 21,
   "metadata": {},
   "outputs": [
    {
     "name": "stdout",
     "output_type": "stream",
     "text": [
      "v1: 17160.0<-0.0\n",
      "v1_2: 17160.0<-0.0\n",
      "v2: 18450.00000020238<9.692642999536206\n",
      "v2_2: 18450.00000020238<9.692642999536206\n",
      "v3: 14144.999999714519<4.881185998748725\n",
      "v3_2: 14144.999999714519<4.881185998748725\n",
      "v4: 231872.58344912325<-2.432343754536617\n",
      "v4_2: 231872.58344912325<-2.432343754536617\n",
      "v5: 223583.80214337716<-4.402969650783565\n",
      "v5_2: 223583.80214337716<-4.402969650783565\n",
      "v6: 227341.62756164634<-4.025625803789108\n",
      "v6_2: 227341.62756164634<-4.025625803789108\n",
      "v7: 231825.96935871892<3.8468733995832887\n",
      "v7_2: 231825.96935871892<3.8468733995832887\n",
      "v8: 229343.62112875315<0.6492062079671101\n",
      "v8_2: 229343.62112875315<0.6492062079671101\n",
      "v9: 233118.17102684017<2.018076685648239\n",
      "v9_2: 233118.17102684017<2.018076685648239\n"
     ]
    }
   ],
   "source": [
    "for node, phasor in phasors_diakoptics.items():\n",
    "    print(node + ': ' + str(phasor['abs'].values[-1]) + '<' + str(phasor['phase'].values[-1]))"
   ]
  },
  {
   "cell_type": "markdown",
   "metadata": {},
   "source": [
    "### Reference single"
   ]
  },
  {
   "cell_type": "code",
   "execution_count": 30,
   "metadata": {},
   "outputs": [
    {
     "name": "stdout",
     "output_type": "stream",
     "text": [
      "logs/WSCC-9bus/WSCC-9bus.csv\n",
      "column number: 9\n",
      "results length: 1000\n",
      "real column names: []\n",
      "complex column names: ['v1', 'v2', 'v3', 'v4', 'v5', 'v6', 'v7', 'v8', 'v9']\n"
     ]
    }
   ],
   "source": [
    "path = 'logs/WSCC-9bus/'\n",
    "logName = 'WSCC-9bus'\n",
    "logFilename = path + logName + '.csv'\n",
    "print(logFilename)\n",
    "\n",
    "ts_single = rt.read_timeseries_dpsim(logFilename)\n",
    "phasors_single = ts.phasors(ts_single)"
   ]
  },
  {
   "cell_type": "code",
   "execution_count": 31,
   "metadata": {},
   "outputs": [
    {
     "name": "stdout",
     "output_type": "stream",
     "text": [
      "v1: 17160.0<-0.0\n",
      "v2: 18450.00000020238<9.692642999536206\n",
      "v3: 14144.999999714519<4.881185998748725\n",
      "v4: 229021.86392612522<-2.3095873542215606\n",
      "v5: 218652.71916748452<-4.143415173532572\n",
      "v6: 222225.34353668705<-3.742357293771446\n",
      "v7: 229401.4089380985<3.9702699535755133\n",
      "v8: 225202.64803920424<0.8318280887332061\n",
      "v9: 230951.23227094577<2.1041242272117873\n"
     ]
    }
   ],
   "source": [
    "for node, phasor in phasors_single.items():\n",
    "    print(node + ': ' + str(phasor['abs'].values[-1]) + '<' + str(phasor['phase'].values[-1]))"
   ]
  },
  {
   "cell_type": "markdown",
   "metadata": {},
   "source": [
    "### Compare"
   ]
  },
  {
   "cell_type": "code",
   "execution_count": 33,
   "metadata": {},
   "outputs": [
    {
     "name": "stdout",
     "output_type": "stream",
     "text": [
      "v1: 0.0<0.0\n",
      "v2: 0.0<0.0\n",
      "v3: 0.0<0.0\n",
      "v4: 3.080154594266787<-7.0988243225933445e-06\n",
      "v5: -0.0005453521443996578<5.225792380159078e-06\n",
      "v6: -0.0007809537928551435<8.422882604719462e-06\n",
      "v7: 2.1897278653632384<-3.658643783932547e-06\n",
      "v8: -0.0008100989798549563<2.4181898957698067e-06\n",
      "v9: 1.554510330723133<-2.214893388252648e-06\n"
     ]
    }
   ],
   "source": [
    "for node, phasor in phasors_single.items():\n",
    "    print(node + ': ' + str(phasor['abs'].values[-1] - phasors_decoupled[node]['abs'].values[-1]) + '<' + str(phasor['phase'].values[-1] - phasors_decoupled[node]['phase'].values[-1]))"
   ]
  },
  {
   "cell_type": "code",
   "execution_count": 34,
   "metadata": {},
   "outputs": [
    {
     "name": "stdout",
     "output_type": "stream",
     "text": [
      "v1: 0.0<0.0\n",
      "v1_2: 0.0<0.0\n",
      "v2: 0.0<0.0\n",
      "v2_2: 0.0<0.0\n",
      "v3: 0.0<0.0\n",
      "v3_2: 0.0<0.0\n",
      "v4: -0.2880599398922641<-3.819081615397124e-07\n",
      "v4_2: -0.2880599398922641<-3.819081615397124e-07\n",
      "v5: -0.0004724901809822768<5.157537851907534e-06\n",
      "v5_2: -0.0004724901809822768<5.157537851907534e-06\n",
      "v6: -0.000812785467132926<8.317169313265538e-06\n",
      "v6_2: -0.000812785467132926<8.317169313265538e-06\n",
      "v7: -0.1498912574024871<-1.5302655276272503e-07\n",
      "v7_2: -0.1498912574024871<-1.5302655276272503e-07\n",
      "v8: -0.0002448441518936306<2.4291484025384946e-06\n",
      "v8_2: -0.0002448441518936306<2.4291484025384946e-06\n",
      "v9: -0.077331984823104<-7.692023640260004e-08\n",
      "v9_2: -0.077331984823104<-7.692023640260004e-08\n"
     ]
    }
   ],
   "source": [
    "for node, phasor in phasors_coupled.items():\n",
    "    print(node + ': ' + str(phasor['abs'].values[-1] - phasors_diakoptics[node]['abs'].values[-1]) + '<' + str(phasor['phase'].values[-1] - phasors_diakoptics[node]['phase'].values[-1]))"
   ]
  },
  {
   "cell_type": "markdown",
   "metadata": {},
   "source": [
    "## Performance"
   ]
  },
  {
   "cell_type": "code",
   "execution_count": 84,
   "metadata": {},
   "outputs": [],
   "source": [
    "#%%capture\n",
    "from dpsim.MeasurementUtils import Measurement \n",
    "ts_dpsim_coupled_list = []\n",
    "ts_dpsim_coupled_list_mean = []\n",
    "ts_dpsim_coupled_list_max = []\n",
    "ts_dpsim_coupled_list_std = []\n",
    "\n",
    "for copies in range(0,20):\n",
    "    ts_dpsim_coupled_list.append([])\n",
    "    ts_dpsim_coupled_list_mean.append([])\n",
    "    ts_dpsim_coupled_list_max.append([])\n",
    "    ts_dpsim_coupled_list_std.append([])\n",
    "    \n",
    "    for threads in range(0,13):\n",
    "        work_dir = '../../../logs/WSCC_9bus_coupled_' + str(copies) + '_' + str(threads) + '/'\n",
    "        log_name = 'WSCC_9bus_coupled_' + str(copies) + '_' + str(threads) + '_step_times.log'\n",
    "        #print(work_dir + log_name)\n",
    "        meas = Measurement.read_timestep_csv(work_dir + log_name)\n",
    "        ts_dpsim_coupled_list[copies].append(meas) \n",
    "        ts_dpsim_coupled_list_mean[copies].append(meas['step_time'].data.mean())\n",
    "        ts_dpsim_coupled_list_max[copies].append(meas['step_time'].data.max())\n",
    "        ts_dpsim_coupled_list_std[copies].append(meas['step_time'].data.std())       \n",
    "        \n",
    "pd_mean = pd.MultiIndex.from_arrays(ts_dpsim_coupled_list_mean)\n",
    "pd_max = pd.MultiIndex.from_arrays(ts_dpsim_coupled_list_max)\n",
    "pd_std = pd.MultiIndex.from_arrays(ts_dpsim_coupled_list_std)"
   ]
  },
  {
   "cell_type": "code",
   "execution_count": 109,
   "metadata": {},
   "outputs": [
    {
     "data": {
      "text/plain": [
       "<matplotlib.legend.Legend at 0x7fa1d3835290>"
      ]
     },
     "execution_count": 109,
     "metadata": {},
     "output_type": "execute_result"
    },
    {
     "data": {
      "image/png": "[encoded data removed]",
      "text/plain": [
       "<Figure size 432x288 with 1 Axes>"
      ]
     },
     "metadata": {
      "needs_background": "light"
     },
     "output_type": "display_data"
    }
   ],
   "source": [
    "from matplotlib.ticker import MaxNLocator\n",
    "import matplotlib.pyplot as plt\n",
    "import numpy as np\n",
    "\n",
    "ax = plt.figure().gca()\n",
    "ax.xaxis.set_major_locator(MaxNLocator(integer=True))\n",
    "\n",
    "for threads in range(0,13):\n",
    "    plt.plot(pd_mean[:][threads], label= str(threads) + ' threads')\n",
    "\n",
    "plt.legend()"
   ]
  },
  {
   "cell_type": "code",
   "execution_count": 112,
   "metadata": {},
   "outputs": [
    {
     "ename": "IndexError",
     "evalue": "list index out of range",
     "output_type": "error",
     "traceback": [
      "\u001b[0;31m---------------------------------------------------------------------------\u001b[0m",
      "\u001b[0;31mIndexError\u001b[0m                                Traceback (most recent call last)",
      "\u001b[0;32m<ipython-input-112-a0a423fc0215>\u001b[0m in \u001b[0;36m<module>\u001b[0;34m\u001b[0m\n\u001b[1;32m     17\u001b[0m         \u001b[0;31m#print(work_dir + log_name)\u001b[0m\u001b[0;34m\u001b[0m\u001b[0;34m\u001b[0m\u001b[0;34m\u001b[0m\u001b[0m\n\u001b[1;32m     18\u001b[0m         \u001b[0mmeas\u001b[0m \u001b[0;34m=\u001b[0m \u001b[0mMeasurement\u001b[0m\u001b[0;34m.\u001b[0m\u001b[0mread_timestep_csv\u001b[0m\u001b[0;34m(\u001b[0m\u001b[0mwork_dir\u001b[0m \u001b[0;34m+\u001b[0m \u001b[0mlog_name\u001b[0m\u001b[0;34m)\u001b[0m\u001b[0;34m\u001b[0m\u001b[0;34m\u001b[0m\u001b[0m\n\u001b[0;32m---> 19\u001b[0;31m         \u001b[0mts_dpsim_coupled_list\u001b[0m\u001b[0;34m[\u001b[0m\u001b[0mcopies\u001b[0m\u001b[0;34m]\u001b[0m\u001b[0;34m.\u001b[0m\u001b[0mappend\u001b[0m\u001b[0;34m(\u001b[0m\u001b[0mmeas\u001b[0m\u001b[0;34m)\u001b[0m\u001b[0;34m\u001b[0m\u001b[0;34m\u001b[0m\u001b[0m\n\u001b[0m\u001b[1;32m     20\u001b[0m         \u001b[0mts_dpsim_coupled_list_mean\u001b[0m\u001b[0;34m[\u001b[0m\u001b[0mcopies\u001b[0m\u001b[0;34m]\u001b[0m\u001b[0;34m.\u001b[0m\u001b[0mappend\u001b[0m\u001b[0;34m(\u001b[0m\u001b[0mmeas\u001b[0m\u001b[0;34m[\u001b[0m\u001b[0;34m'step_time'\u001b[0m\u001b[0;34m]\u001b[0m\u001b[0;34m.\u001b[0m\u001b[0mdata\u001b[0m\u001b[0;34m.\u001b[0m\u001b[0mmean\u001b[0m\u001b[0;34m(\u001b[0m\u001b[0;34m)\u001b[0m\u001b[0;34m)\u001b[0m\u001b[0;34m\u001b[0m\u001b[0;34m\u001b[0m\u001b[0m\n\u001b[1;32m     21\u001b[0m         \u001b[0mts_dpsim_coupled_list_max\u001b[0m\u001b[0;34m[\u001b[0m\u001b[0mcopies\u001b[0m\u001b[0;34m]\u001b[0m\u001b[0;34m.\u001b[0m\u001b[0mappend\u001b[0m\u001b[0;34m(\u001b[0m\u001b[0mmeas\u001b[0m\u001b[0;34m[\u001b[0m\u001b[0;34m'step_time'\u001b[0m\u001b[0;34m]\u001b[0m\u001b[0;34m.\u001b[0m\u001b[0mdata\u001b[0m\u001b[0;34m.\u001b[0m\u001b[0mmax\u001b[0m\u001b[0;34m(\u001b[0m\u001b[0;34m)\u001b[0m\u001b[0;34m)\u001b[0m\u001b[0;34m\u001b[0m\u001b[0;34m\u001b[0m\u001b[0m\n",
      "\u001b[0;31mIndexError\u001b[0m: list index out of range"
     ]
    }
   ],
   "source": [
    "#%%capture\n",
    "from dpsim.MeasurementUtils import Measurement \n",
    "ts_dpsim_decoupled_list = []\n",
    "ts_dpsim_decoupled_list_mean = []\n",
    "ts_dpsim_decoupled_list_max = []\n",
    "ts_dpsim_decoupled_list_std = []\n",
    "\n",
    "for copies in range(0,20):\n",
    "    ts_dpsim_decoupled_list.append([])\n",
    "    ts_dpsim_decoupled_list_mean.append([])\n",
    "    ts_dpsim_decoupled_list_max.append([])\n",
    "    ts_dpsim_decoupled_list_std.append([])\n",
    "    \n",
    "    for threads in range(1,13):\n",
    "        work_dir = '../../../logs/WSCC_9bus_decoupled_' + str(copies) + '_' + str(threads) + '/'\n",
    "        log_name = 'WSCC_9bus_decoupled_' + str(copies) + '_' + str(threads) + '_step_times.log'\n",
    "        #print(work_dir + log_name)\n",
    "        meas = Measurement.read_timestep_csv(work_dir + log_name)\n",
    "        ts_dpsim_decoupled_list[copies].append(meas) \n",
    "        ts_dpsim_decoupled_list_mean[copies].append(meas['step_time'].data.mean())\n",
    "        ts_dpsim_decoupled_list_max[copies].append(meas['step_time'].data.max())\n",
    "        ts_dpsim_decoupled_list_std[copies].append(meas['step_time'].data.std())       \n",
    "        \n",
    "pd_decoupled_mean = pd.MultiIndex.from_arrays(ts_dpsim_decoupled_list_mean)\n",
    "pd_decoupled_max = pd.MultiIndex.from_arrays(ts_dpsim_decoupled_list_max)\n",
    "pd_decoupled_std = pd.MultiIndex.from_arrays(ts_dpsim_decoupled_list_std)"
   ]
  },
  {
   "cell_type": "code",
   "execution_count": 66,
   "metadata": {},
   "outputs": [
    {
     "data": {
      "text/plain": [
       "20"
      ]
     },
     "execution_count": 66,
     "metadata": {},
     "output_type": "execute_result"
    }
   ],
   "source": [
    "len(ts_dpsim_coupled_list_mean)"
   ]
  },
  {
   "cell_type": "code",
   "execution_count": 95,
   "metadata": {},
   "outputs": [
    {
     "data": {
      "text/plain": [
       "array([ 0,  1,  2,  3,  4,  5,  6,  7,  8,  9, 10, 11, 12, 13, 14, 15, 16,\n",
       "       17, 18, 19])"
      ]
     },
     "execution_count": 95,
     "metadata": {},
     "output_type": "execute_result"
    }
   ],
   "source": [
    "np.arange(0,20)"
   ]
  },
  {
   "cell_type": "code",
   "execution_count": 82,
   "metadata": {},
   "outputs": [
    {
     "data": {
      "text/plain": [
       "(5.144371125774845e-06,\n",
       " 1.765526894621076e-05,\n",
       " 4.162327534493102e-05,\n",
       " 6.748030393921217e-05,\n",
       " 9.810497900419917e-05,\n",
       " 0.00013744031193761247,\n",
       " 0.00018199440111977606,\n",
       " 0.00023190921815636873,\n",
       " 0.00028866726654669064,\n",
       " 0.0003524837032593481,\n",
       " 0.0004262287542491502,\n",
       " 0.0004988030393921216,\n",
       " 0.0005856596680663867,\n",
       " 0.0006689756048790243,\n",
       " 0.000768116576684663,\n",
       " 0.000869876624675065,\n",
       " 0.0009810013997200559,\n",
       " 0.0011641829634073187,\n",
       " 0.001469110777844431,\n",
       " 0.0017113795240951812)"
      ]
     },
     "execution_count": 82,
     "metadata": {},
     "output_type": "execute_result"
    }
   ],
   "source": [
    "test[:][0]"
   ]
  },
  {
   "cell_type": "code",
   "execution_count": null,
   "metadata": {},
   "outputs": [],
   "source": []
  }
 ],
 "metadata": {
  "kernelspec": {
   "display_name": "Python 3",
   "language": "python",
   "name": "python3"
  },
  "language_info": {
   "codemirror_mode": {
    "name": "ipython",
    "version": 3
   },
   "file_extension": ".py",
   "mimetype": "text/x-python",
   "name": "python",
   "nbconvert_exporter": "python",
   "pygments_lexer": "ipython3",
   "version": "3.7.4"
  },
  "tests": {
   "skip": true
  }
 },
 "nbformat": 4,
 "nbformat_minor": 4
}
