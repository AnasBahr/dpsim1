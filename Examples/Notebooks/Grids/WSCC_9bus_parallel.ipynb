{
 "cells": [
  {
   "cell_type": "markdown",
   "metadata": {},
   "source": [
    "## Runtime "
   ]
  },
  {
   "cell_type": "code",
   "execution_count": 52,
   "metadata": {},
   "outputs": [
    {
     "name": "stdout",
     "output_type": "stream",
     "text": [
      "CIMContentHandler: Note: 0 out of 489 tasks remain unresolved!\n",
      "Average step time: 0.000146222\n",
      "CIMContentHandler: Note: 0 out of 489 tasks remain unresolved!\n",
      "Average step time: 0.000164669\n",
      "CIMContentHandler: Note: 0 out of 489 tasks remain unresolved!\n",
      "Average step time: 0.000147209\n",
      "CIMContentHandler: Note: 0 out of 489 tasks remain unresolved!\n",
      "Average step time: 0.00014063\n",
      "CIMContentHandler: Note: 0 out of 489 tasks remain unresolved!\n",
      "Average step time: 0.000497925\n",
      "CIMContentHandler: Note: 0 out of 489 tasks remain unresolved!\n",
      "Average step time: 0.000584947\n",
      "CIMContentHandler: Note: 0 out of 489 tasks remain unresolved!\n",
      "Average step time: 0.000525739\n",
      "CIMContentHandler: Note: 0 out of 489 tasks remain unresolved!\n",
      "Average step time: 0.00049968\n",
      "CIMContentHandler: Note: 0 out of 489 tasks remain unresolved!\n",
      "Average step time: 0.00102766\n",
      "CIMContentHandler: Note: 0 out of 489 tasks remain unresolved!\n",
      "Average step time: 0.00125598\n",
      "CIMContentHandler: Note: 0 out of 489 tasks remain unresolved!\n",
      "Average step time: 0.00113989\n",
      "CIMContentHandler: Note: 0 out of 489 tasks remain unresolved!\n",
      "Average step time: 0.00108334\n",
      "CIMContentHandler: Note: 0 out of 489 tasks remain unresolved!\n",
      "Average step time: 0.00175319\n",
      "CIMContentHandler: Note: 0 out of 489 tasks remain unresolved!\n",
      "Average step time: 0.00208786\n",
      "CIMContentHandler: Note: 0 out of 489 tasks remain unresolved!\n",
      "Average step time: 0.00191444\n",
      "CIMContentHandler: Note: 0 out of 489 tasks remain unresolved!\n",
      "Average step time: 0.00183943\n"
     ]
    }
   ],
   "source": [
    "%%bash\n",
    "TOP=${TOP:-$(git rev-parse --show-toplevel)}\n",
    "PATH=${TOP}/build/Examples/Cxx\n",
    "\n",
    "WSCC_9bus_mult_coupled ${TOP}/Examples/CIM/WSCC-09_RX/*.xml"
   ]
  },
  {
   "cell_type": "code",
   "execution_count": 53,
   "metadata": {},
   "outputs": [
    {
     "name": "stdout",
     "output_type": "stream",
     "text": [
      "CIMContentHandler: Note: 0 out of 489 tasks remain unresolved!\n",
      "Average step time: 0.000162817\n",
      "CIMContentHandler: Note: 0 out of 489 tasks remain unresolved!\n",
      "Average step time: 0.00014446\n",
      "CIMContentHandler: Note: 0 out of 489 tasks remain unresolved!\n",
      "Average step time: 0.000138158\n",
      "CIMContentHandler: Note: 0 out of 489 tasks remain unresolved!\n",
      "Average step time: 0.000346972\n",
      "CIMContentHandler: Note: 0 out of 489 tasks remain unresolved!\n",
      "Average step time: 0.000177838\n",
      "CIMContentHandler: Note: 0 out of 489 tasks remain unresolved!\n",
      "Average step time: 0.00016923\n",
      "CIMContentHandler: Note: 0 out of 489 tasks remain unresolved!\n",
      "Average step time: 0.000547437\n",
      "CIMContentHandler: Note: 0 out of 489 tasks remain unresolved!\n",
      "Average step time: 0.000361872\n",
      "CIMContentHandler: Note: 0 out of 489 tasks remain unresolved!\n",
      "Average step time: 0.000199627\n",
      "CIMContentHandler: Note: 0 out of 489 tasks remain unresolved!\n",
      "Average step time: 0.000731571\n",
      "CIMContentHandler: Note: 0 out of 489 tasks remain unresolved!\n",
      "Average step time: 0.000402474\n",
      "CIMContentHandler: Note: 0 out of 489 tasks remain unresolved!\n",
      "Average step time: 0.000353578\n"
     ]
    }
   ],
   "source": [
    "%%bash\n",
    "TOP=${TOP:-$(git rev-parse --show-toplevel)}\n",
    "PATH=${TOP}/build/Examples/Cxx\n",
    "\n",
    "WSCC_9bus_mult_decoupled ${TOP}/Examples/CIM/WSCC-09_RX/*.xml"
   ]
  },
  {
   "cell_type": "code",
   "execution_count": 54,
   "metadata": {},
   "outputs": [
    {
     "name": "stdout",
     "output_type": "stream",
     "text": [
      "CIMContentHandler: Note: 0 out of 489 tasks remain unresolved!\n",
      "Average step time: 0.000163883\n",
      "CIMContentHandler: Note: 0 out of 489 tasks remain unresolved!\n",
      "Average step time: 0.000147486\n",
      "CIMContentHandler: Note: 0 out of 489 tasks remain unresolved!\n",
      "Average step time: 0.000139468\n",
      "CIMContentHandler: Note: 0 out of 489 tasks remain unresolved!\n",
      "Average step time: 0.000166706\n",
      "CIMContentHandler: Note: 0 out of 489 tasks remain unresolved!\n",
      "Average step time: 0.000148174\n",
      "CIMContentHandler: Note: 0 out of 489 tasks remain unresolved!\n",
      "Average step time: 0.00014011\n",
      "CIMContentHandler: Note: 0 out of 489 tasks remain unresolved!\n",
      "Average step time: 0.000166897\n",
      "CIMContentHandler: Note: 0 out of 489 tasks remain unresolved!\n",
      "Average step time: 0.00014894\n",
      "CIMContentHandler: Note: 0 out of 489 tasks remain unresolved!\n",
      "Average step time: 0.00014138\n",
      "CIMContentHandler: Note: 0 out of 489 tasks remain unresolved!\n",
      "Average step time: 0.000166817\n",
      "CIMContentHandler: Note: 0 out of 489 tasks remain unresolved!\n",
      "Average step time: 0.000148375\n",
      "CIMContentHandler: Note: 0 out of 489 tasks remain unresolved!\n",
      "Average step time: 0.000141026\n",
      "CIMContentHandler: Note: 0 out of 489 tasks remain unresolved!\n",
      "Average step time: 0.000644725\n",
      "CIMContentHandler: Note: 0 out of 489 tasks remain unresolved!\n",
      "Average step time: 0.000374531\n",
      "CIMContentHandler: Note: 0 out of 489 tasks remain unresolved!\n",
      "Average step time: 0.000353022\n",
      "CIMContentHandler: Note: 0 out of 489 tasks remain unresolved!\n",
      "Average step time: 0.000645307\n",
      "CIMContentHandler: Note: 0 out of 489 tasks remain unresolved!\n",
      "Average step time: 0.000373268\n",
      "CIMContentHandler: Note: 0 out of 489 tasks remain unresolved!\n",
      "Average step time: 0.000352816\n",
      "CIMContentHandler: Note: 0 out of 489 tasks remain unresolved!\n",
      "Average step time: 0.000644803\n",
      "CIMContentHandler: Note: 0 out of 489 tasks remain unresolved!\n",
      "Average step time: 0.00037438\n",
      "CIMContentHandler: Note: 0 out of 489 tasks remain unresolved!\n",
      "Average step time: 0.00035325\n",
      "CIMContentHandler: Note: 0 out of 489 tasks remain unresolved!\n",
      "Average step time: 0.000645116\n",
      "CIMContentHandler: Note: 0 out of 489 tasks remain unresolved!\n",
      "Average step time: 0.000373796\n",
      "CIMContentHandler: Note: 0 out of 489 tasks remain unresolved!\n",
      "Average step time: 0.000353023\n",
      "CIMContentHandler: Note: 0 out of 489 tasks remain unresolved!\n",
      "Average step time: 0.00114507\n",
      "CIMContentHandler: Note: 0 out of 489 tasks remain unresolved!\n",
      "Average step time: 0.00082831\n",
      "CIMContentHandler: Note: 0 out of 489 tasks remain unresolved!\n",
      "Average step time: 0.000571506\n",
      "CIMContentHandler: Note: 0 out of 489 tasks remain unresolved!\n",
      "Average step time: 0.00212362\n",
      "CIMContentHandler: Note: 0 out of 489 tasks remain unresolved!\n",
      "Average step time: 0.00198075\n",
      "CIMContentHandler: Note: 0 out of 489 tasks remain unresolved!\n",
      "Average step time: 0.00190959\n",
      "CIMContentHandler: Note: 0 out of 489 tasks remain unresolved!\n",
      "Average step time: 0.00149838\n",
      "CIMContentHandler: Note: 0 out of 489 tasks remain unresolved!\n",
      "Average step time: 0.00115966\n",
      "CIMContentHandler: Note: 0 out of 489 tasks remain unresolved!\n",
      "Average step time: 0.00112071\n",
      "CIMContentHandler: Note: 0 out of 489 tasks remain unresolved!\n",
      "Average step time: 0.00149864\n",
      "CIMContentHandler: Note: 0 out of 489 tasks remain unresolved!\n",
      "Average step time: 0.00115375\n",
      "CIMContentHandler: Note: 0 out of 489 tasks remain unresolved!\n",
      "Average step time: 0.00112146\n",
      "CIMContentHandler: Note: 0 out of 489 tasks remain unresolved!\n",
      "Average step time: 0.0016014\n",
      "CIMContentHandler: Note: 0 out of 489 tasks remain unresolved!\n",
      "Average step time: 0.00102904\n",
      "CIMContentHandler: Note: 0 out of 489 tasks remain unresolved!\n",
      "Average step time: 0.000977727\n",
      "CIMContentHandler: Note: 0 out of 489 tasks remain unresolved!\n",
      "Average step time: 0.00360896\n",
      "CIMContentHandler: Note: 0 out of 489 tasks remain unresolved!\n",
      "Average step time: 0.0033884\n",
      "CIMContentHandler: Note: 0 out of 489 tasks remain unresolved!\n",
      "Average step time: 0.00329785\n",
      "CIMContentHandler: Note: 0 out of 489 tasks remain unresolved!\n",
      "Average step time: 0.00254321\n",
      "CIMContentHandler: Note: 0 out of 489 tasks remain unresolved!\n",
      "Average step time: 0.00214007\n",
      "CIMContentHandler: Note: 0 out of 489 tasks remain unresolved!\n",
      "Average step time: 0.00208773\n",
      "CIMContentHandler: Note: 0 out of 489 tasks remain unresolved!\n",
      "Average step time: 0.00254261\n",
      "CIMContentHandler: Note: 0 out of 489 tasks remain unresolved!\n",
      "Average step time: 0.00214586\n",
      "CIMContentHandler: Note: 0 out of 489 tasks remain unresolved!\n",
      "Average step time: 0.00208899\n"
     ]
    }
   ],
   "source": [
    "%%bash\n",
    "TOP=${TOP:-$(git rev-parse --show-toplevel)}\n",
    "PATH=${TOP}/build/Examples/Cxx\n",
    "\n",
    "WSCC_9bus_mult_diakoptics ${TOP}/Examples/CIM/WSCC-09_RX/*.xml"
   ]
  },
  {
   "cell_type": "markdown",
   "metadata": {},
   "source": [
    "## Validate Results"
   ]
  },
  {
   "cell_type": "code",
   "execution_count": 50,
   "metadata": {},
   "outputs": [],
   "source": [
    "import villas.dataprocessing.readtools as rt\n",
    "from villas.dataprocessing.timeseries import TimeSeries as ts\n",
    "import matplotlib.pyplot as plt"
   ]
  },
  {
   "cell_type": "code",
   "execution_count": null,
   "metadata": {},
   "outputs": [],
   "source": [
    "path = 'logs/WSCC_9bus_coupled/'\n",
    "logName = 'WSCC_9bus_coupled'\n",
    "logFilename = path + logName + '.csv'\n",
    "print(logFilename)\n",
    "\n",
    "ts_coupled = rt.read_timeseries_dpsim(logFilename)\n",
    "phasors_coupled = ts.phasors(ts_coupled)"
   ]
  },
  {
   "cell_type": "code",
   "execution_count": null,
   "metadata": {},
   "outputs": [],
   "source": [
    "path = 'logs/WSCC_9bus_decoupled/'\n",
    "logName = 'WSCC_9bus_decoupled'\n",
    "logFilename = path + logName + '.csv'\n",
    "print(logFilename)\n",
    "\n",
    "ts_decoupled = rt.read_timeseries_dpsim(logFilename)\n",
    "phasors_decoupled = ts.phasors(ts_decoupled)"
   ]
  },
  {
   "cell_type": "code",
   "execution_count": null,
   "metadata": {},
   "outputs": [],
   "source": [
    "path = 'logs/WSCC_9bus_diakoptics/'\n",
    "logName = 'WSCC_9bus_diakoptics'\n",
    "logFilename = path + logName + '.csv'\n",
    "print(logFilename)\n",
    "\n",
    "ts_diakpotics = rt.read_timeseries_dpsim(logFilename)\n",
    "phasors_diakoptics= ts.phasors(ts_diakpotics)"
   ]
  },
  {
   "cell_type": "code",
   "execution_count": 17,
   "metadata": {},
   "outputs": [
    {
     "name": "stdout",
     "output_type": "stream",
     "text": [
      "v1: 17160.0<-0.0\n",
      "v1_2: 17160.0<-0.0\n",
      "v2: 18450.00000020238<9.692642999536206\n",
      "v2_2: 18450.00000020238<9.692642999536206\n",
      "v3: 14144.999999714519<4.881185998748725\n",
      "v3_2: 14144.999999714519<4.881185998748725\n",
      "v4: 231872.29538918336<-2.4323441364447786\n",
      "v4_2: 231872.29538918336<-2.4323441364447786\n",
      "v5: 223583.80167088698<-4.4029644932457135\n",
      "v5_2: 223583.80167088698<-4.4029644932457135\n",
      "v6: 227341.62674886087<-4.025617486619795\n",
      "v6_2: 227341.62674886087<-4.025617486619795\n",
      "v7: 231825.81946746152<3.846873246556736\n",
      "v7_2: 231825.81946746152<3.846873246556736\n",
      "v8: 229343.620883909<0.6492086371155127\n",
      "v8_2: 229343.620883909<0.6492086371155127\n",
      "v9: 233118.09369485534<2.0180766087280024\n",
      "v9_2: 233118.09369485534<2.0180766087280024\n"
     ]
    }
   ],
   "source": [
    "for node, phasor in phasors_coupled.items():\n",
    "    print(node + ': ' + str(phasor['abs'].values[-1]) + '<' + str(phasor['phase'].values[-1]))"
   ]
  },
  {
   "cell_type": "code",
   "execution_count": 18,
   "metadata": {},
   "outputs": [
    {
     "name": "stdout",
     "output_type": "stream",
     "text": [
      "v1: 17160.0<-0.0\n",
      "v1_2: 17160.0<-0.0\n",
      "v2: 18450.00000020238<9.692642999536206\n",
      "v2_2: 18450.00000020238<9.692642999536206\n",
      "v3: 14144.999999714519<4.881185998748725\n",
      "v3_2: 14144.999999714519<4.881185998748725\n",
      "v4: 229018.78377153096<-2.309580255397238\n",
      "v4_2: 229018.78377153096<-2.309580255397238\n",
      "v5: 218652.71971283667<-4.1434203993249525\n",
      "v5_2: 218652.71971283667<-4.1434203993249525\n",
      "v6: 222225.34431764085<-3.7423657166540507\n",
      "v6_2: 222225.34431764085<-3.7423657166540507\n",
      "v7: 229399.21921023313<3.970273612219297\n",
      "v7_2: 229399.21921023313<3.970273612219297\n",
      "v8: 225202.64884930322<0.8318256705433104\n",
      "v8_2: 225202.64884930322<0.8318256705433104\n",
      "v9: 230949.67776061504<2.1041264421051755\n",
      "v9_2: 230949.67776061504<2.1041264421051755\n"
     ]
    }
   ],
   "source": [
    "for node, phasor in phasors_decoupled.items():\n",
    "    print(node + ': ' + str(phasor['abs'].values[-1]) + '<' + str(phasor['phase'].values[-1]))"
   ]
  },
  {
   "cell_type": "code",
   "execution_count": 21,
   "metadata": {},
   "outputs": [
    {
     "name": "stdout",
     "output_type": "stream",
     "text": [
      "v1: 17160.0<-0.0\n",
      "v1_2: 17160.0<-0.0\n",
      "v2: 18450.00000020238<9.692642999536206\n",
      "v2_2: 18450.00000020238<9.692642999536206\n",
      "v3: 14144.999999714519<4.881185998748725\n",
      "v3_2: 14144.999999714519<4.881185998748725\n",
      "v4: 231872.58344912325<-2.432343754536617\n",
      "v4_2: 231872.58344912325<-2.432343754536617\n",
      "v5: 223583.80214337716<-4.402969650783565\n",
      "v5_2: 223583.80214337716<-4.402969650783565\n",
      "v6: 227341.62756164634<-4.025625803789108\n",
      "v6_2: 227341.62756164634<-4.025625803789108\n",
      "v7: 231825.96935871892<3.8468733995832887\n",
      "v7_2: 231825.96935871892<3.8468733995832887\n",
      "v8: 229343.62112875315<0.6492062079671101\n",
      "v8_2: 229343.62112875315<0.6492062079671101\n",
      "v9: 233118.17102684017<2.018076685648239\n",
      "v9_2: 233118.17102684017<2.018076685648239\n"
     ]
    }
   ],
   "source": [
    "for node, phasor in phasors_diakoptics.items():\n",
    "    print(node + ': ' + str(phasor['abs'].values[-1]) + '<' + str(phasor['phase'].values[-1]))"
   ]
  },
  {
   "cell_type": "markdown",
   "metadata": {},
   "source": [
    "### Reference single"
   ]
  },
  {
   "cell_type": "code",
   "execution_count": 30,
   "metadata": {},
   "outputs": [
    {
     "name": "stdout",
     "output_type": "stream",
     "text": [
      "logs/WSCC-9bus/WSCC-9bus.csv\n",
      "column number: 9\n",
      "results length: 1000\n",
      "real column names: []\n",
      "complex column names: ['v1', 'v2', 'v3', 'v4', 'v5', 'v6', 'v7', 'v8', 'v9']\n"
     ]
    }
   ],
   "source": [
    "path = 'logs/WSCC-9bus/'\n",
    "logName = 'WSCC-9bus'\n",
    "logFilename = path + logName + '.csv'\n",
    "print(logFilename)\n",
    "\n",
    "ts_single = rt.read_timeseries_dpsim(logFilename)\n",
    "phasors_single = ts.phasors(ts_single)"
   ]
  },
  {
   "cell_type": "code",
   "execution_count": 31,
   "metadata": {},
   "outputs": [
    {
     "name": "stdout",
     "output_type": "stream",
     "text": [
      "v1: 17160.0<-0.0\n",
      "v2: 18450.00000020238<9.692642999536206\n",
      "v3: 14144.999999714519<4.881185998748725\n",
      "v4: 229021.86392612522<-2.3095873542215606\n",
      "v5: 218652.71916748452<-4.143415173532572\n",
      "v6: 222225.34353668705<-3.742357293771446\n",
      "v7: 229401.4089380985<3.9702699535755133\n",
      "v8: 225202.64803920424<0.8318280887332061\n",
      "v9: 230951.23227094577<2.1041242272117873\n"
     ]
    }
   ],
   "source": [
    "for node, phasor in phasors_single.items():\n",
    "    print(node + ': ' + str(phasor['abs'].values[-1]) + '<' + str(phasor['phase'].values[-1]))"
   ]
  },
  {
   "cell_type": "markdown",
   "metadata": {},
   "source": [
    "### compare"
   ]
  },
  {
   "cell_type": "code",
   "execution_count": 33,
   "metadata": {},
   "outputs": [
    {
     "name": "stdout",
     "output_type": "stream",
     "text": [
      "v1: 0.0<0.0\n",
      "v2: 0.0<0.0\n",
      "v3: 0.0<0.0\n",
      "v4: 3.080154594266787<-7.0988243225933445e-06\n",
      "v5: -0.0005453521443996578<5.225792380159078e-06\n",
      "v6: -0.0007809537928551435<8.422882604719462e-06\n",
      "v7: 2.1897278653632384<-3.658643783932547e-06\n",
      "v8: -0.0008100989798549563<2.4181898957698067e-06\n",
      "v9: 1.554510330723133<-2.214893388252648e-06\n"
     ]
    }
   ],
   "source": [
    "for node, phasor in phasors_single.items():\n",
    "    print(node + ': ' + str(phasor['abs'].values[-1] - phasors_decoupled[node]['abs'].values[-1]) + '<' + str(phasor['phase'].values[-1] - phasors_decoupled[node]['phase'].values[-1]))"
   ]
  },
  {
   "cell_type": "code",
   "execution_count": 34,
   "metadata": {},
   "outputs": [
    {
     "name": "stdout",
     "output_type": "stream",
     "text": [
      "v1: 0.0<0.0\n",
      "v1_2: 0.0<0.0\n",
      "v2: 0.0<0.0\n",
      "v2_2: 0.0<0.0\n",
      "v3: 0.0<0.0\n",
      "v3_2: 0.0<0.0\n",
      "v4: -0.2880599398922641<-3.819081615397124e-07\n",
      "v4_2: -0.2880599398922641<-3.819081615397124e-07\n",
      "v5: -0.0004724901809822768<5.157537851907534e-06\n",
      "v5_2: -0.0004724901809822768<5.157537851907534e-06\n",
      "v6: -0.000812785467132926<8.317169313265538e-06\n",
      "v6_2: -0.000812785467132926<8.317169313265538e-06\n",
      "v7: -0.1498912574024871<-1.5302655276272503e-07\n",
      "v7_2: -0.1498912574024871<-1.5302655276272503e-07\n",
      "v8: -0.0002448441518936306<2.4291484025384946e-06\n",
      "v8_2: -0.0002448441518936306<2.4291484025384946e-06\n",
      "v9: -0.077331984823104<-7.692023640260004e-08\n",
      "v9_2: -0.077331984823104<-7.692023640260004e-08\n"
     ]
    }
   ],
   "source": [
    "for node, phasor in phasors_coupled.items():\n",
    "    print(node + ': ' + str(phasor['abs'].values[-1] - phasors_diakoptics[node]['abs'].values[-1]) + '<' + str(phasor['phase'].values[-1] - phasors_diakoptics[node]['phase'].values[-1]))"
   ]
  },
  {
   "cell_type": "code",
   "execution_count": null,
   "metadata": {},
   "outputs": [],
   "source": []
  }
 ],
 "metadata": {
  "kernelspec": {
   "display_name": "Python 3",
   "language": "python",
   "name": "python3"
  },
  "language_info": {
   "codemirror_mode": {
    "name": "ipython",
    "version": 3
   },
   "file_extension": ".py",
   "mimetype": "text/x-python",
   "name": "python",
   "nbconvert_exporter": "python",
   "pygments_lexer": "ipython3",
   "version": "3.7.4"
  },
  "tests": {
   "skip": true
  }
 },
 "nbformat": 4,
 "nbformat_minor": 4
}
