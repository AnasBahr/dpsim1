{
 "cells": [
  {
   "cell_type": "markdown",
   "metadata": {},
   "source": [
    "# CIGRE MV Powerflow with Profiles Test"
   ]
  },
  {
   "cell_type": "markdown",
   "metadata": {},
   "source": [
    "## Run simulation"
   ]
  },
  {
   "cell_type": "code",
   "execution_count": null,
   "metadata": {},
   "outputs": [],
   "source": [
    "import os\n",
    "import urllib.request\n",
    "import glob\n",
    "\n",
    "from villas.dataprocessing.readtools import *\n",
    "from villas.dataprocessing.timeseries import *\n",
    "import villas.dataprocessing.validationtools as validationtools\n",
    "import dpsimpy"
   ]
  },
  {
   "cell_type": "code",
   "execution_count": null,
   "metadata": {},
   "outputs": [],
   "source": [
    "name = 'CIGRE-MV-Profiles'\n",
    "files = glob.glob('../../../build/_deps/cim-data-src/CIGRE_MV/NEPLAN/CIGRE_MV_no_tapchanger_With_LoadFlow_Results/*.xml')\n",
    "print(files)"
   ]
  },
  {
   "cell_type": "code",
   "execution_count": null,
   "metadata": {},
   "outputs": [],
   "source": [
    "reader = dpsimpy.CIMReader(name)\n",
    "system = reader.loadCIM(50, files, dpsimpy.Domain.SP, dpsimpy.PhaseType.Single, dpsimpy.GeneratorType.PVNode)"
   ]
  },
  {
   "cell_type": "code",
   "execution_count": null,
   "metadata": {},
   "outputs": [],
   "source": [
    "csv_files = glob.glob('../../../build/_deps/profile-data-src/CIGRE_MV_NoTap/load_profiles/')[0]\n",
    "print(csv_files)"
   ]
  },
  {
   "cell_type": "code",
   "execution_count": null,
   "metadata": {},
   "outputs": [],
   "source": [
    "assignList = { }\n",
    "assignList['LOAD-H-1'] = 'Load_H_1'\n",
    "assignList['LOAD-H-3'] = 'Load_H_3'\n",
    "assignList['LOAD-H-4'] = 'Load_H_4'\n",
    "assignList['LOAD-H-5'] = 'Load_H_5'\n",
    "assignList['LOAD-H-6'] = 'Load_H_6'\n",
    "assignList['LOAD-H-8'] = 'Load_H_8'\n",
    "assignList['LOAD-H-10'] = 'Load_H_10'\n",
    "assignList['LOAD-H-11'] = 'Load_H_11'\n",
    "assignList['LOAD-H-12'] = 'Load_H_12'\n",
    "assignList['LOAD-H-14'] = 'Load_H_14'\n",
    "assignList['LOAD-I-1'] = 'Load_I_1'\n",
    "assignList['LOAD-I-3'] = 'Load_I_3'\n",
    "assignList['LOAD-I-7'] = 'Load_I_7'\n",
    "assignList['LOAD-I-9'] = 'Load_I_9'\n",
    "assignList['LOAD-I-10'] = 'Load_I_10'\n",
    "assignList['LOAD-I-12'] = 'Load_I_12'\n",
    "assignList['LOAD-I-13'] = 'Load_I_13'\n",
    "assignList['LOAD-I-14'] = 'Load_I_14'"
   ]
  },
  {
   "cell_type": "code",
   "execution_count": null,
   "metadata": {},
   "outputs": [],
   "source": [
    "csvreader = dpsimpy.CSVReader(name, csv_files, assignList, dpsimpy.LogLevel.info)\n",
    "csvreader.assignLoadProfile(system, 0, 1, 300, dpsimpy.CSVReaderMode.MANUAL, dpsimpy.CSVReaderFormat.SECONDS)"
   ]
  },
  {
   "cell_type": "code",
   "execution_count": null,
   "metadata": {},
   "outputs": [],
   "source": [
    "system"
   ]
  },
  {
   "cell_type": "code",
   "execution_count": null,
   "metadata": {},
   "outputs": [],
   "source": [
    "sim = dpsimpy.Simulation(name)\n",
    "sim.set_system(system)\n",
    "sim.set_domain(dpsimpy.Domain.SP)\n",
    "sim.set_solver(dpsimpy.Solver.NRP)\n",
    "sim.set_time_step(1)\n",
    "sim.set_final_time(300)\n",
    "\n",
    "logger = dpsimpy.Logger(name)\n",
    "for node in system.nodes:\n",
    "    logger.log_attribute(node.name()+'.V', 'v', node);\n",
    "sim.add_logger(logger)"
   ]
  },
  {
   "cell_type": "code",
   "execution_count": null,
   "metadata": {},
   "outputs": [],
   "source": [
    "sim.run()"
   ]
  }
 ],
 "metadata": {
  "kernelspec": {
   "display_name": "Python 3",
   "language": "python",
   "name": "python3"
  },
  "language_info": {
   "codemirror_mode": {
    "name": "ipython",
    "version": 3
   },
   "file_extension": ".py",
   "mimetype": "text/x-python",
   "name": "python",
   "nbconvert_exporter": "python",
   "pygments_lexer": "ipython3",
   "version": "3.8.7"
  },
  "tests": {
   "skip": true
  }
 },
 "nbformat": 4,
 "nbformat_minor": 4
}
