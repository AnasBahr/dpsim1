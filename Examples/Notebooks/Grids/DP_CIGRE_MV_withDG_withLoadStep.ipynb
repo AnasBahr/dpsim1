{
 "cells": [
  {
   "cell_type": "markdown",
   "metadata": {},
   "source": [
    "# DP Simulation of CIGRE MV with PV Inverters and Load Step"
   ]
  },
  {
   "cell_type": "markdown",
   "metadata": {},
   "source": [
    "### Run simulation"
   ]
  },
  {
   "cell_type": "code",
   "execution_count": null,
   "metadata": {},
   "outputs": [],
   "source": [
    "%%bash\n",
    "TOP=${TOP:-$(git rev-parse --show-toplevel)}\n",
    "PATH=${TOP}/build/Examples/Cxx\n",
    "\n",
    "DP_CIGRE_MV_withDG_withLoadStep --timestep=1e-3 --duration=3 ${TOP}/build/_deps/cim-data-src/CIGRE_MV/NEPLAN/CIGRE_MV_no_tapchanger_noLoad1_LeftFeeder_With_LoadFlow_Results/*.xml"
   ]
  },
  {
   "cell_type": "markdown",
   "metadata": {},
   "source": [
    "## Powerflow"
   ]
  },
  {
   "cell_type": "markdown",
   "metadata": {},
   "source": [
    "### Read results"
   ]
  },
  {
   "cell_type": "code",
   "execution_count": null,
   "metadata": {},
   "outputs": [],
   "source": [
    "from villas.dataprocessing.readtools import *\n",
    "from villas.dataprocessing.timeseries import *\n",
    "import matplotlib.pyplot as plt\n",
    "import re\n",
    "\n",
    "# %matplotlib widget\n",
    "\n",
    "modelName = 'DP_CIGRE_MV_withDG_withLoadStep_Powerflow'\n",
    "path = 'logs/' + modelName + '/'\n",
    "dpsim_result_file = path + modelName + '.csv'\n",
    "\n",
    "ts_dpsim = read_timeseries_csv(dpsim_result_file)"
   ]
  },
  {
   "cell_type": "markdown",
   "metadata": {},
   "source": [
    "### Plot results"
   ]
  },
  {
   "cell_type": "code",
   "execution_count": null,
   "metadata": {},
   "outputs": [],
   "source": [
    "plt.figure(figsize=(12,6))\n",
    "for ts_name, ts_obj  in ts_dpsim.items():\n",
    "    if ts_name != 'N0.V':\n",
    "        plt.plot(ts_obj.time, ts_obj.abs().values, label=ts_name)\n",
    "plt.legend()\n",
    "plt.show()"
   ]
  },
  {
   "cell_type": "markdown",
   "metadata": {},
   "source": [
    "## Dynamic Phasor"
   ]
  },
  {
   "cell_type": "code",
   "execution_count": null,
   "metadata": {},
   "outputs": [],
   "source": [
    "modelName = 'DP_CIGRE_MV_withDG_withLoadStep'\n",
    "path = 'logs/' + modelName + '/'\n",
    "dpsim_result_file = path + modelName + '.csv'\n",
    "\n",
    "ts_dpsim = read_timeseries_csv(dpsim_result_file)"
   ]
  },
  {
   "cell_type": "markdown",
   "metadata": {},
   "source": [
    "### Plot results"
   ]
  },
  {
   "cell_type": "code",
   "execution_count": null,
   "metadata": {},
   "outputs": [],
   "source": [
    "plt.figure(figsize=(12,6))\n",
    "for ts_name, ts_obj  in ts_dpsim.items():\n",
    "    if ts_name != 'N0.V' and ts_name[-2:] == '.V':\n",
    "        plt.plot(ts_obj.time, ts_obj.abs().values, label=ts_name)\n",
    "plt.legend()\n",
    "plt.show()"
   ]
  },
  {
   "cell_type": "markdown",
   "metadata": {},
   "source": [
    "## Voltages at first timestep"
   ]
  },
  {
   "cell_type": "code",
   "execution_count": null,
   "metadata": {},
   "outputs": [],
   "source": [
    "for ts_name, ts_obj  in ts_dpsim.items():\n",
    "    if ts_name[-2:] == '.V':\n",
    "        print(ts_name + ': ' + str(ts_obj.abs().values[0]) + ', ' + str(ts_obj.phase().values[0]))"
   ]
  },
  {
   "cell_type": "markdown",
   "metadata": {},
   "source": [
    "### Plot zoomed to Load Step"
   ]
  },
  {
   "cell_type": "code",
   "execution_count": null,
   "metadata": {},
   "outputs": [],
   "source": [
    "plt.figure(figsize=(12,6))\n",
    "for ts_name, ts_obj  in ts_dpsim.items():\n",
    "    if ts_name != 'N0.V' and ts_name[-2:] == '.V':\n",
    "        plt.plot(ts_obj.time, ts_obj.abs().values, label=ts_name)\n",
    "#plt.ylim([19000,21000])\n",
    "plt.xlim([1.9,3])\n",
    "plt.legend()\n",
    "plt.show()"
   ]
  },
  {
   "cell_type": "markdown",
   "metadata": {},
   "source": [
    "### DP backshift"
   ]
  },
  {
   "cell_type": "code",
   "execution_count": null,
   "metadata": {},
   "outputs": [],
   "source": [
    "plt.figure(figsize=(12,12))\n",
    "subplot_number = 1\n",
    "for ts_name, ts_obj  in ts_dpsim.items():\n",
    "    if ts_name[-2:] == '.V' and ts_name[:-2] != 'N0.V':\n",
    "        plt.subplot(4,3,subplot_number)\n",
    "        subplot_number += 1\n",
    "        plt.plot(ts_dpsim[ts_name].interpolate(50e-6).time, ts_dpsim[ts_name].interpolate(50e-6).frequency_shift(50).values, label=ts_name)\n",
    "        plt.legend(loc='upper right')\n",
    "        plt.xlim([1.8,3])\n",
    "        plt.ylim([18500,20000])\n",
    "plt.show()"
   ]
  },
  {
   "cell_type": "markdown",
   "metadata": {},
   "source": [
    "## Load currents"
   ]
  },
  {
   "cell_type": "code",
   "execution_count": null,
   "metadata": {},
   "outputs": [],
   "source": [
    "plt.figure(figsize=(12,6))\n",
    "for ts_name, ts_obj  in ts_dpsim.items():\n",
    "    if ts_name[:4]=='LOAD':        \n",
    "        plt.plot(ts_obj.time, ts_obj.abs().values, label=ts_name)\n",
    "#plt.xlim([0,0.1])\n",
    "plt.legend(loc='upper right')\n",
    "plt.show()"
   ]
  },
  {
   "cell_type": "markdown",
   "metadata": {},
   "source": [
    "## Line currents"
   ]
  },
  {
   "cell_type": "code",
   "execution_count": null,
   "metadata": {},
   "outputs": [],
   "source": [
    "plt.figure(figsize=(12,6))\n",
    "subplot_number = 1\n",
    "for ts_name, ts_obj  in ts_dpsim.items():\n",
    "    if ts_name[-2:] == '.I' and ts_name[:4] != 'LOAD':\n",
    "        plt.subplot(4,3,subplot_number)\n",
    "        plt.plot(ts_obj.time, ts_obj.abs().values, label=ts_name)\n",
    "        subplot_number += 1\n",
    "        plt.legend(loc='upper right')\n",
    "#plt.xlim([0,0.1])\n",
    "plt.show()"
   ]
  },
  {
   "cell_type": "markdown",
   "metadata": {},
   "source": [
    "## PV inverter at N11"
   ]
  },
  {
   "cell_type": "markdown",
   "metadata": {},
   "source": [
    "### States - Powers"
   ]
  },
  {
   "cell_type": "code",
   "execution_count": null,
   "metadata": {},
   "outputs": [],
   "source": [
    "plt.figure(figsize=(12,6))\n",
    "for ts_name, ts_obj  in ts_dpsim.items():\n",
    "    if ts_name[-7:]=='state_p' or ts_name[-7:]=='state_q':\n",
    "        plt.plot(ts_obj.time, ts_obj.abs().values, label=ts_name)\n",
    "plt.legend()\n",
    "plt.show()"
   ]
  },
  {
   "cell_type": "markdown",
   "metadata": {},
   "source": [
    "### States - Others"
   ]
  },
  {
   "cell_type": "code",
   "execution_count": null,
   "metadata": {},
   "outputs": [],
   "source": [
    "plt.figure(figsize=(12,6))\n",
    "for ts_name, ts_obj  in ts_dpsim.items():\n",
    "    if ts_name[-7:]!='state_p' and ts_name[-7:]!='state_q' and  'state' in ts_name:\n",
    "        plt.plot(ts_obj.time, ts_obj.abs().values, label=ts_name)\n",
    "plt.legend()\n",
    "plt.show()"
   ]
  },
  {
   "cell_type": "markdown",
   "metadata": {},
   "source": [
    "### States at first timestep"
   ]
  },
  {
   "cell_type": "code",
   "execution_count": null,
   "metadata": {},
   "outputs": [],
   "source": [
    "for ts_name, ts_obj  in ts_dpsim.items():\n",
    "    if 'state' in ts_name:\n",
    "        print(ts_name + ': ' + str(ts_obj.abs().values[0]) + ', ' + str(ts_obj.phase().values[0]))"
   ]
  },
  {
   "cell_type": "markdown",
   "metadata": {},
   "source": [
    "### States at last timestep"
   ]
  },
  {
   "cell_type": "code",
   "execution_count": null,
   "metadata": {},
   "outputs": [],
   "source": [
    "for ts_name, ts_obj  in ts_dpsim.items():\n",
    "    if 'state' in ts_name:\n",
    "        print(ts_name + ': ' + str(ts_obj.abs().values[-1]) + ', ' + str(ts_obj.phase().values[-1]))"
   ]
  },
  {
   "cell_type": "markdown",
   "metadata": {},
   "source": [
    "### Plot inputs"
   ]
  },
  {
   "cell_type": "code",
   "execution_count": null,
   "metadata": {},
   "outputs": [],
   "source": [
    "plt.figure(figsize=(12,6))\n",
    "for ts_name, ts_obj  in ts_dpsim.items():\n",
    "    if 'input' in ts_name:\n",
    "        plt.plot(ts_obj.time, ts_obj.abs().values, label=ts_name)\n",
    "plt.legend()\n",
    "plt.show()"
   ]
  },
  {
   "cell_type": "markdown",
   "metadata": {},
   "source": [
    "### Inputs at first timestep"
   ]
  },
  {
   "cell_type": "code",
   "execution_count": null,
   "metadata": {},
   "outputs": [],
   "source": [
    "for ts_name, ts_obj  in ts_dpsim.items():\n",
    "    if 'input' in ts_name:\n",
    "        print(ts_name + ': ' + str(ts_obj.abs().values[0]) + ', ' + str(ts_obj.phase().values[0]))"
   ]
  },
  {
   "cell_type": "markdown",
   "metadata": {},
   "source": [
    "### Inputs at last timestep"
   ]
  },
  {
   "cell_type": "code",
   "execution_count": null,
   "metadata": {},
   "outputs": [],
   "source": [
    "for ts_name, ts_obj  in ts_dpsim.items():\n",
    "    if 'input' in ts_name:\n",
    "        print(ts_name + ': ' + str(ts_obj.abs().values[-1]) + ', ' + str(ts_obj.phase().values[-1]))"
   ]
  },
  {
   "cell_type": "markdown",
   "metadata": {},
   "source": [
    "### Plot outputs"
   ]
  },
  {
   "cell_type": "code",
   "execution_count": null,
   "metadata": {},
   "outputs": [],
   "source": [
    "plt.figure(figsize=(12,6))\n",
    "for ts_name, ts_obj  in ts_dpsim.items():\n",
    "    if 'output' in ts_name:\n",
    "        plt.plot(ts_obj.time, ts_obj.abs().values, label=ts_name)\n",
    "plt.legend()\n",
    "plt.show()"
   ]
  },
  {
   "cell_type": "markdown",
   "metadata": {},
   "source": [
    "### Outputs at first timestep"
   ]
  },
  {
   "cell_type": "code",
   "execution_count": null,
   "metadata": {},
   "outputs": [],
   "source": [
    "for ts_name, ts_obj  in ts_dpsim.items():\n",
    "    if 'output' in ts_name:\n",
    "        print(ts_name + ': ' + str(ts_obj.abs().values[0]) + ', ' + str(ts_obj.phase().values[0]))"
   ]
  },
  {
   "cell_type": "markdown",
   "metadata": {},
   "source": [
    "### Outputs at last timestep"
   ]
  },
  {
   "cell_type": "code",
   "execution_count": null,
   "metadata": {},
   "outputs": [],
   "source": [
    "for ts_name, ts_obj  in ts_dpsim.items():\n",
    "    if 'output' in ts_name:\n",
    "        print(ts_name + ': ' + str(ts_obj.abs().values[-1]) + ', ' + str(ts_obj.phase().values[-1]))"
   ]
  },
  {
   "cell_type": "markdown",
   "metadata": {},
   "source": [
    "### Plot interface vars"
   ]
  },
  {
   "cell_type": "code",
   "execution_count": null,
   "metadata": {},
   "outputs": [],
   "source": [
    "plt.figure(figsize=(12,6))\n",
    "for ts_name, ts_obj  in ts_dpsim.items():\n",
    "    if 'intf' in ts_name:\n",
    "        plt.plot(ts_obj.time, ts_obj.abs().values, label=ts_name)\n",
    "plt.legend()\n",
    "plt.show()"
   ]
  },
  {
   "cell_type": "markdown",
   "metadata": {},
   "source": [
    "## Plot derived power"
   ]
  },
  {
   "cell_type": "code",
   "execution_count": null,
   "metadata": {},
   "outputs": [],
   "source": [
    "pv_N11_s_intf = ts_dpsim['pv_N11_v_intf'].values*np.conj(ts_dpsim['pv_N11_i_intf'].values)\n",
    "plt.figure(figsize=(12,6))\n",
    "plt.plot(ts_dpsim['pv_N11_v_intf'].time, np.real(pv_N11_s_intf), label='pv_N11_P_intf')\n",
    "plt.plot(ts_dpsim['pv_N11_v_intf'].time, np.imag(pv_N11_s_intf), label='pv_N11_Q_intf')\n",
    "plt.legend()\n",
    "plt.show()\n"
   ]
  },
  {
   "cell_type": "markdown",
   "metadata": {},
   "source": [
    "### Interface vars at first timestep"
   ]
  },
  {
   "cell_type": "code",
   "execution_count": null,
   "metadata": {},
   "outputs": [],
   "source": [
    "for ts_name, ts_obj  in ts_dpsim.items():\n",
    "    if 'intf' in ts_name:\n",
    "        print(ts_name + ': ' + str(ts_obj.abs().values[0]) + ', ' + str(ts_obj.phase().values[0]))\n",
    "print('pv_N11_s_intf' + ': ' + str(np.real(pv_N11_s_intf[0])) + ', ' + str(np.imag(pv_N11_s_intf[0])))"
   ]
  },
  {
   "cell_type": "markdown",
   "metadata": {},
   "source": [
    "### Interface vars at last timestep"
   ]
  },
  {
   "cell_type": "code",
   "execution_count": null,
   "metadata": {},
   "outputs": [],
   "source": [
    "for ts_name, ts_obj  in ts_dpsim.items():\n",
    "    if 'intf' in ts_name:\n",
    "        print(ts_name + ': ' + str(ts_obj.abs().values[-1]) + ', ' + str(ts_obj.phase().values[-1]))\n",
    "print('pv_N11_s_intf' + ': ' + str(np.real(pv_N11_s_intf[-1])) + ', ' + str(np.imag(pv_N11_s_intf[-1])))"
   ]
  },
  {
   "cell_type": "code",
   "execution_count": null,
   "metadata": {},
   "outputs": [],
   "source": []
  }
 ],
 "metadata": {
  "kernelspec": {
   "display_name": "Python 3",
   "language": "python",
   "name": "python3"
  },
  "language_info": {
   "codemirror_mode": {
    "name": "ipython",
    "version": 3
   },
   "file_extension": ".py",
   "mimetype": "text/x-python",
   "name": "python",
   "nbconvert_exporter": "python",
   "pygments_lexer": "ipython3",
   "version": "3.7.6"
  },
  "tests": {
   "skip": false
  }
 },
 "nbformat": 4,
 "nbformat_minor": 4
}
