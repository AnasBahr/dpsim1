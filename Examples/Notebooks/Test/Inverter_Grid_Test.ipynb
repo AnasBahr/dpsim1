{
 "cells": [
  {
   "cell_type": "markdown",
   "metadata": {},
   "source": [
    "# Inverter Grid Test"
   ]
  },
  {
   "cell_type": "code",
   "execution_count": 44,
   "metadata": {},
   "outputs": [],
   "source": [
    "import villas.dataprocessing.readtools as rt\n",
    "import villas.dataprocessing.plottools as pt\n",
    "from villas.dataprocessing.timeseries import TimeSeries\n",
    "import matplotlib.pyplot as plt"
   ]
  },
  {
   "cell_type": "code",
   "execution_count": 45,
   "metadata": {},
   "outputs": [
    {
     "name": "stdout",
     "output_type": "stream",
     "text": [
      "../../../logs/DP_Inverter_Grid_Test/DP_Inverter_Grid_Test.csv\n",
      "column number: 31\n",
      "results length: 10001\n",
      "real column names: []\n",
      "complex column names: ['i12', 'i34', 'v1', 'v1_1', 'v1_10', 'v1_11', 'v1_12', 'v1_2', 'v1_3', 'v1_4', 'v1_5', 'v1_6', 'v1_7', 'v1_8', 'v1_9', 'v2', 'v3', 'v3_1', 'v3_10', 'v3_11', 'v3_12', 'v3_2', 'v3_3', 'v3_4', 'v3_5', 'v3_6', 'v3_7', 'v3_8', 'v3_9', 'v4', 'v5']\n"
     ]
    }
   ],
   "source": [
    "# read results\n",
    "work_dir = '../../../logs/DP_Inverter_Grid_Test/'\n",
    "log_name = 'DP_Inverter_Grid_Test'\n",
    "print(work_dir + log_name + '.csv')\n",
    "\n",
    "ts_dpsim = rt.read_timeseries_dpsim(work_dir + log_name + '.csv')"
   ]
  },
  {
   "cell_type": "code",
   "execution_count": 46,
   "metadata": {},
   "outputs": [
    {
     "data": {
      "text/plain": [
       "array([0.-313.2j, 0.-313.2j, 0.-313.2j, ..., 0.-313.2j, 0.-313.2j,\n",
       "       0.-313.2j])"
      ]
     },
     "execution_count": 46,
     "metadata": {},
     "output_type": "execute_result"
    }
   ],
   "source": [
    "ts_dpsim['v1'].values"
   ]
  },
  {
   "cell_type": "code",
   "execution_count": 47,
   "metadata": {},
   "outputs": [],
   "source": [
    "ts_list_v1 = [\n",
    "    ts_dpsim['v1'], \n",
    "    ts_dpsim['v1_1'],\n",
    "    ts_dpsim['v1_2'],\n",
    "    ts_dpsim['v1_3'],\n",
    "    ts_dpsim['v1_4'],\n",
    "    ts_dpsim['v1_5'],\n",
    "    ts_dpsim['v1_6'],\n",
    "    ts_dpsim['v1_7'],\n",
    "    ts_dpsim['v1_8'],\n",
    "    ts_dpsim['v1_9'],\n",
    "    ts_dpsim['v1_10'],\n",
    "    ts_dpsim['v1_11'],\n",
    "    ts_dpsim['v1_12']]\n",
    "\n",
    "ts_list_v3 = [\n",
    "    ts_dpsim['v3'], \n",
    "    ts_dpsim['v3_1'],\n",
    "    ts_dpsim['v3_2'],\n",
    "    ts_dpsim['v3_3'],\n",
    "    ts_dpsim['v3_4'],\n",
    "    ts_dpsim['v3_5'],\n",
    "    ts_dpsim['v3_6'],\n",
    "    ts_dpsim['v3_7'],\n",
    "    ts_dpsim['v3_8'],\n",
    "    ts_dpsim['v3_9'],\n",
    "    ts_dpsim['v3_10'],\n",
    "    ts_dpsim['v3_11'],\n",
    "    ts_dpsim['v3_12']]\n",
    "\n",
    "freq_list = [\n",
    "    50,\n",
    "    19750,\n",
    "    19850,\n",
    "    19950,\n",
    "    20050,\n",
    "    20150,\n",
    "    20250,\n",
    "    39750,\n",
    "    39850,\n",
    "    39950,\n",
    "    40050,\n",
    "    40150,\n",
    "    40250]"
   ]
  },
  {
   "cell_type": "code",
   "execution_count": 48,
   "metadata": {},
   "outputs": [
    {
     "data": {
      "text/plain": [
       "array([ 0.00000000e+00, -8.06564629e-01,  6.03489020e+00, ...,\n",
       "       -6.03489020e+00,  8.06564629e-01, -7.99766086e-11])"
      ]
     },
     "execution_count": 48,
     "metadata": {},
     "output_type": "execute_result"
    }
   ],
   "source": [
    "ts_dpsim_emt_v1 = TimeSeries.create_emt_from_dp(ts_list_v1, freq_list)\n",
    "ts_dpsim_emt_v1.values"
   ]
  },
  {
   "cell_type": "code",
   "execution_count": 25,
   "metadata": {},
   "outputs": [
    {
     "data": {
      "text/plain": [
       "(0, 0.05)"
      ]
     },
     "execution_count": 25,
     "metadata": {},
     "output_type": "execute_result"
    }
   ],
   "source": [
    "%matplotlib qt\n",
    "pt.plot_timeseries(1, ts_dpsim_emt_v1)\n",
    "plt.xlim(0, 0.05)"
   ]
  },
  {
   "cell_type": "code",
   "execution_count": 49,
   "metadata": {},
   "outputs": [
    {
     "data": {
      "text/plain": [
       "array([-1.66810000e-02, -1.46754790e-02,  1.95348710e-02, ...,\n",
       "       -2.22675535e+01, -2.14527875e+01, -2.06349310e+01])"
      ]
     },
     "execution_count": 49,
     "metadata": {},
     "output_type": "execute_result"
    }
   ],
   "source": [
    "ts_dpsim_emt_v3 = TimeSeries.create_emt_from_dp(ts_list_v3, freq_list)\n",
    "ts_dpsim_emt_v3.values"
   ]
  },
  {
   "cell_type": "code",
   "execution_count": null,
   "metadata": {},
   "outputs": [],
   "source": [
    "%matplotlib qt\n",
    "pt.plot_timeseries(1, ts_dpsim_emt_v3)\n",
    "plt.xlim(0, 0.05)"
   ]
  },
  {
   "cell_type": "code",
   "execution_count": 50,
   "metadata": {},
   "outputs": [],
   "source": [
    "ts_dpsim_emt_v5 = ts_dpsim['v5'].frequency_shift(50)"
   ]
  },
  {
   "cell_type": "code",
   "execution_count": 51,
   "metadata": {},
   "outputs": [
    {
     "data": {
      "text/plain": [
       "(0, 0.05)"
      ]
     },
     "execution_count": 51,
     "metadata": {},
     "output_type": "execute_result"
    }
   ],
   "source": [
    "%matplotlib qt\n",
    "pt.plot_timeseries(1, ts_dpsim_emt_v1)\n",
    "pt.plot_timeseries(1, ts_dpsim_emt_v3)\n",
    "pt.plot_timeseries(1, ts_dpsim_emt_v5)\n",
    "plt.xlim(0, 0.05)"
   ]
  },
  {
   "cell_type": "code",
   "execution_count": 52,
   "metadata": {},
   "outputs": [
    {
     "data": {
      "text/plain": [
       "(0, 0.05)"
      ]
     },
     "execution_count": 52,
     "metadata": {},
     "output_type": "execute_result"
    }
   ],
   "source": [
    "ts_dpsim_emt_v1 = ts_dpsim['v1'].frequency_shift(50)\n",
    "pt.plot_timeseries(1, ts_dpsim_emt_v1)\n",
    "plt.xlim(0, 0.05)"
   ]
  },
  {
   "cell_type": "code",
   "execution_count": 43,
   "metadata": {},
   "outputs": [],
   "source": [
    "import numpy as np\n",
    "from villas.dataprocessing.timeseries import TimeSeries\n",
    "timeseries_list = ts_list\n",
    "freqs_list = freq_list\n",
    "\n",
    "new_timeseries_list = []\n",
    "#new_timeseries_list.append(timeseries_list[0])\n",
    "for i in range(0, len(timeseries_list)):\n",
    "    tmp = timeseries_list[i].scale(ts.name, -1j)\n",
    "    new_timeseries_list.append(tmp)"
   ]
  },
  {
   "cell_type": "code",
   "execution_count": 44,
   "metadata": {},
   "outputs": [
    {
     "data": {
      "text/plain": [
       "array([0.-313.2j, 0.-313.2j, 0.-313.2j, ..., 0.-313.2j, 0.-313.2j,\n",
       "       0.-313.2j])"
      ]
     },
     "execution_count": 44,
     "metadata": {},
     "output_type": "execute_result"
    }
   ],
   "source": [
    "new_timeseries_list[0].values"
   ]
  },
  {
   "cell_type": "code",
   "execution_count": 45,
   "metadata": {},
   "outputs": [
    {
     "data": {
      "text/plain": [
       "array([0.-6.619798j, 0.-6.619798j, 0.-6.619798j, ..., 0.-6.619798j,\n",
       "       0.-6.619798j, 0.-6.619798j])"
      ]
     },
     "execution_count": 45,
     "metadata": {},
     "output_type": "execute_result"
    }
   ],
   "source": [
    "new_timeseries_list[1].values"
   ]
  },
  {
   "cell_type": "code",
   "execution_count": 51,
   "metadata": {},
   "outputs": [],
   "source": [
    "result = np.zeros_like(new_timeseries_list[0].values)\n",
    "for ts, freq in zip(new_timeseries_list, freqs_list):\n",
    "    ts_emt = ts.frequency_shift(freq)\n",
    "    result = result + ts_emt.values\n",
    "ts_result = TimeSeries('emt', new_timeseries_list[0].time, result)"
   ]
  },
  {
   "cell_type": "code",
   "execution_count": 52,
   "metadata": {},
   "outputs": [
    {
     "data": {
      "text/plain": [
       "(0, 0.05)"
      ]
     },
     "execution_count": 52,
     "metadata": {},
     "output_type": "execute_result"
    }
   ],
   "source": [
    "%matplotlib qt\n",
    "pt.plot_timeseries(1, ts_result)\n",
    "plt.xlim(0, 0.05)"
   ]
  },
  {
   "cell_type": "code",
   "execution_count": 41,
   "metadata": {},
   "outputs": [],
   "source": [
    "result = np.zeros_like(timeseries_list[0].values)\n",
    "for ts, freq in zip(timeseries_list, freqs_list):\n",
    "    ts_emt = ts_shift = TimeSeries(ts.name, ts.time, ts.values.real*np.sin(2*np.pi*freq*ts.time))\n",
    "    result = result + ts_emt.values\n",
    "ts_result = TimeSeries('emt', timeseries_list[0].time, result)"
   ]
  },
  {
   "cell_type": "code",
   "execution_count": 42,
   "metadata": {},
   "outputs": [
    {
     "data": {
      "text/plain": [
       "(0, 0.05)"
      ]
     },
     "execution_count": 42,
     "metadata": {},
     "output_type": "execute_result"
    }
   ],
   "source": [
    "%matplotlib qt\n",
    "pt.plot_timeseries(1, ts_result)\n",
    "plt.xlim(0, 0.05)"
   ]
  },
  {
   "cell_type": "code",
   "execution_count": null,
   "metadata": {},
   "outputs": [],
   "source": []
  }
 ],
 "metadata": {
  "kernelspec": {
   "display_name": "Python 3",
   "language": "python",
   "name": "python3"
  },
  "language_info": {
   "codemirror_mode": {
    "name": "ipython",
    "version": 3
   },
   "file_extension": ".py",
   "mimetype": "text/x-python",
   "name": "python",
   "nbconvert_exporter": "python",
   "pygments_lexer": "ipython3",
   "version": "3.6.6"
  }
 },
 "nbformat": 4,
 "nbformat_minor": 2
}
