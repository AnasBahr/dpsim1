{
 "cells": [
  {
   "cell_type": "markdown",
   "metadata": {},
   "source": [
    "# Diakoptics Tests"
   ]
  },
  {
   "cell_type": "code",
   "execution_count": 15,
   "metadata": {},
   "outputs": [],
   "source": [
    "import villas.dataprocessing.readtools as rt\n",
    "from villas.dataprocessing.timeseries import TimeSeries as ts\n",
    "import matplotlib.pyplot as plt"
   ]
  },
  {
   "cell_type": "markdown",
   "metadata": {},
   "source": [
    "## R-decoupling"
   ]
  },
  {
   "cell_type": "code",
   "execution_count": 16,
   "metadata": {},
   "outputs": [
    {
     "name": "stdout",
     "output_type": "stream",
     "text": [
      "Start simulation: DP_VS_CS_R4\n",
      "Simulation finished.\n",
      "Start simulation: DP_VS_CS_R4_Diakoptics\n",
      "Simulation finished.\n"
     ]
    }
   ],
   "source": [
    "%%bash\n",
    "TOP=${TOP:-$(git rev-parse --show-toplevel)}\n",
    "PATH=${TOP}/build/Examples/Cxx\n",
    "\n",
    "DP_Diakoptics"
   ]
  },
  {
   "cell_type": "code",
   "execution_count": 17,
   "metadata": {},
   "outputs": [
    {
     "name": "stdout",
     "output_type": "stream",
     "text": [
      "logs/DP_VS_CS_R4_Diakoptics/DP_VS_CS_R4_Diakoptics.csv\n",
      "column number: 5\n",
      "results length: 1000\n",
      "real column names: []\n",
      "complex column names: ['i12', 'i23', 'v1', 'v2', 'v3']\n"
     ]
    }
   ],
   "source": [
    "work_dir = 'logs/DP_VS_CS_R4_Diakoptics/'\n",
    "log_name = 'DP_VS_CS_R4_Diakoptics'\n",
    "print(work_dir + log_name + '.csv')\n",
    "diakoptic_r_decoup = rt.read_timeseries_dpsim(work_dir + log_name + '.csv')\n",
    "diakoptic_r_decoup_emt = ts.frequency_shift_list(diakoptic_r_decoup, 50)"
   ]
  },
  {
   "cell_type": "code",
   "execution_count": 18,
   "metadata": {},
   "outputs": [
    {
     "data": {
      "text/plain": [
       "[<matplotlib.lines.Line2D at 0x7f57f9f5ea50>]"
      ]
     },
     "execution_count": 18,
     "metadata": {},
     "output_type": "execute_result"
    },
    {
     "data": {
      "image/png": "[encoded data removed]",
      "text/plain": [
       "<Figure size 432x288 with 1 Axes>"
      ]
     },
     "metadata": {
      "needs_background": "light"
     },
     "output_type": "display_data"
    }
   ],
   "source": [
    "plt.plot(diakoptic_r_decoup_emt['v1_shift'].time, diakoptic_r_decoup_emt['v1_shift'].values)\n",
    "plt.plot(diakoptic_r_decoup_emt['v2_shift'].time, diakoptic_r_decoup_emt['v2_shift'].values)\n",
    "#plt.xlim([0,0.02])"
   ]
  },
  {
   "cell_type": "code",
   "execution_count": null,
   "metadata": {},
   "outputs": [],
   "source": []
  }
 ],
 "metadata": {
  "kernelspec": {
   "display_name": "Python 3",
   "language": "python",
   "name": "python3"
  },
  "language_info": {
   "codemirror_mode": {
    "name": "ipython",
    "version": 3
   },
   "file_extension": ".py",
   "mimetype": "text/x-python",
   "name": "python",
   "nbconvert_exporter": "python",
   "pygments_lexer": "ipython3",
   "version": "3.7.4"
  }
 },
 "nbformat": 4,
 "nbformat_minor": 4
}
