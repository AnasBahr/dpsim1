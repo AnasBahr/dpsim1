{
 "cells": [
  {
   "cell_type": "markdown",
   "metadata": {},
   "source": [
    "# Line Tests"
   ]
  },
  {
   "cell_type": "code",
   "execution_count": null,
   "metadata": {},
   "outputs": [],
   "source": [
    "import villas.dataprocessing.readtools as rt\n",
    "from villas.dataprocessing.timeseries import TimeSeries as ts\n",
    "import matplotlib.pyplot as plt\n",
    "import numpy as np\n",
    "\n",
    "#%matplotlib widget"
   ]
  },
  {
   "cell_type": "markdown",
   "metadata": {},
   "source": [
    "## DP PiLine with RLC elements"
   ]
  },
  {
   "cell_type": "code",
   "execution_count": null,
   "metadata": {},
   "outputs": [],
   "source": [
    "%%bash\n",
    "TOP=${TOP:-$(git rev-parse --show-toplevel)}\n",
    "PATH=${TOP}/build/Examples/Cxx\n",
    "\n",
    "DP_PiLine"
   ]
  },
  {
   "cell_type": "code",
   "execution_count": null,
   "metadata": {},
   "outputs": [],
   "source": [
    "work_dir = 'logs/DP_PiLine_Elements/'\n",
    "log_name = 'DP_PiLine_Elements'\n",
    "print(work_dir + log_name + '.csv')\n",
    "piline_elements = rt.read_timeseries_dpsim(work_dir + log_name + '.csv')\n",
    "piline_elements_dp_shifted = ts.frequency_shift_list(piline_elements, 50)"
   ]
  },
  {
   "cell_type": "code",
   "execution_count": null,
   "metadata": {},
   "outputs": [],
   "source": [
    "plt.figure()\n",
    "plt.plot(piline_elements_dp_shifted['v1_shift'].time, piline_elements_dp_shifted['v1_shift'].values)\n",
    "plt.plot(piline_elements_dp_shifted['v2_shift'].time, piline_elements_dp_shifted['v2_shift'].values)\n",
    "#plt.xlim([0,0.02])"
   ]
  },
  {
   "cell_type": "code",
   "execution_count": null,
   "metadata": {},
   "outputs": [],
   "source": [
    "plt.figure()\n",
    "plt.plot(piline_elements_dp_shifted['iline_shift'].time, piline_elements_dp_shifted['iline_shift'].values)"
   ]
  },
  {
   "cell_type": "markdown",
   "metadata": {},
   "source": [
    "## DP PiLine composite model"
   ]
  },
  {
   "cell_type": "code",
   "execution_count": null,
   "metadata": {},
   "outputs": [],
   "source": [
    "work_dir = 'logs/DP_PiLine_Component/'\n",
    "log_name = 'DP_PiLine_Component'\n",
    "print(work_dir + log_name + '.csv')\n",
    "piline_component = rt.read_timeseries_dpsim(work_dir + log_name + '.csv')\n",
    "piline_component_dp_shifted = ts.frequency_shift_list(piline_component, 50)"
   ]
  },
  {
   "cell_type": "code",
   "execution_count": null,
   "metadata": {},
   "outputs": [],
   "source": [
    "plt.figure()\n",
    "plt.plot(piline_component_dp_shifted['v1_shift'].time, piline_component_dp_shifted['v1_shift'].values)\n",
    "plt.plot(piline_component_dp_shifted['v2_shift'].time, piline_component_dp_shifted['v2_shift'].values)\n",
    "#plt.xlim([0,0.02])"
   ]
  },
  {
   "cell_type": "code",
   "execution_count": null,
   "metadata": {},
   "outputs": [],
   "source": [
    "plt.figure()\n",
    "plt.plot(piline_component_dp_shifted['iline_shift'].time, piline_component_dp_shifted['iline_shift'].values)"
   ]
  },
  {
   "cell_type": "markdown",
   "metadata": {},
   "source": [
    "## Error for DP PiLine"
   ]
  },
  {
   "cell_type": "code",
   "execution_count": null,
   "metadata": {},
   "outputs": [],
   "source": [
    "plt.figure()\n",
    "for name in ['v1_shift', 'v2_shift', 'iline_shift']:\n",
    "    plt.plot(piline_elements_dp_shifted[name].time, piline_elements_dp_shifted[name].values - piline_component_dp_shifted[name].values, label=name+'_error')\n",
    "plt.legend()"
   ]
  },
  {
   "cell_type": "markdown",
   "metadata": {},
   "source": [
    "## Assertion for DP PiLine"
   ]
  },
  {
   "cell_type": "code",
   "execution_count": null,
   "metadata": {},
   "outputs": [],
   "source": [
    "errors_dp_shifted = []\n",
    "for name in ['v1_shift', 'v2_shift', 'iline_shift']:\n",
    "    errors_dp_shifted.append(np.absolute(piline_elements_dp_shifted[name].values - piline_component_dp_shifted[name].values).max())\n",
    "    print(name + ': ' + str(errors_dp_shifted[-1]))\n",
    "assert np.max(errors_dp_shifted) < 1e-3"
   ]
  },
  {
   "cell_type": "markdown",
   "metadata": {},
   "source": [
    "## EMT PiLine with RLC elements"
   ]
  },
  {
   "cell_type": "code",
   "execution_count": null,
   "metadata": {},
   "outputs": [],
   "source": [
    "%%bash\n",
    "TOP=${TOP:-$(git rev-parse --show-toplevel)}\n",
    "PATH=${TOP}/build/Examples/Cxx\n",
    "\n",
    "EMT_PiLine"
   ]
  },
  {
   "cell_type": "code",
   "execution_count": null,
   "metadata": {},
   "outputs": [],
   "source": [
    "work_dir = 'logs/EMT_PiLine_Elements/'\n",
    "log_name = 'EMT_PiLine_Elements'\n",
    "print(work_dir + log_name + '.csv')\n",
    "piline_elements_emt = rt.read_timeseries_dpsim(work_dir + log_name + '.csv')"
   ]
  },
  {
   "cell_type": "code",
   "execution_count": null,
   "metadata": {},
   "outputs": [],
   "source": [
    "plt.figure()\n",
    "plt.plot(piline_elements_emt['v1_0'].time, piline_elements_emt['v1_0'].values)\n",
    "plt.plot(piline_elements_emt['v2_0'].time, piline_elements_emt['v2_0'].values)\n",
    "#plt.xlim([0,0.02])"
   ]
  },
  {
   "cell_type": "code",
   "execution_count": null,
   "metadata": {},
   "outputs": [],
   "source": [
    "plt.figure()\n",
    "plt.plot(piline_elements_emt['iline_0'].time, piline_elements_emt['iline_0'].values)"
   ]
  },
  {
   "cell_type": "markdown",
   "metadata": {},
   "source": [
    "## EMT PiLine composite model"
   ]
  },
  {
   "cell_type": "code",
   "execution_count": null,
   "metadata": {},
   "outputs": [],
   "source": [
    "work_dir = 'logs/EMT_PiLine_Component/'\n",
    "log_name = 'EMT_PiLine_Component'\n",
    "print(work_dir + log_name + '.csv')\n",
    "piline_component_emt = rt.read_timeseries_dpsim(work_dir + log_name + '.csv')"
   ]
  },
  {
   "cell_type": "code",
   "execution_count": null,
   "metadata": {},
   "outputs": [],
   "source": [
    "plt.figure()\n",
    "plt.plot(piline_component_emt['v1_0'].time, piline_component_emt['v1_0'].values)\n",
    "plt.plot(piline_component_emt['v2_0'].time, piline_component_emt['v2_0'].values)\n",
    "#plt.xlim([0,0.02])"
   ]
  },
  {
   "cell_type": "code",
   "execution_count": null,
   "metadata": {},
   "outputs": [],
   "source": [
    "plt.figure()\n",
    "plt.plot(piline_component_emt['iline_0'].time, piline_component_emt['iline_0'].values)"
   ]
  },
  {
   "cell_type": "markdown",
   "metadata": {},
   "source": [
    "## Error for DP PiLine"
   ]
  },
  {
   "cell_type": "code",
   "execution_count": null,
   "metadata": {},
   "outputs": [],
   "source": [
    "plt.figure()\n",
    "for name in ['v1_0', 'v2_0', 'iline_0']:\n",
    "    plt.plot(piline_elements_emt[name].time, piline_elements_emt[name].values - piline_component_emt[name].values, label=name+'_error')\n",
    "plt.legend()"
   ]
  },
  {
   "cell_type": "markdown",
   "metadata": {},
   "source": [
    "## Assertion for EMT PiLine"
   ]
  },
  {
   "cell_type": "code",
   "execution_count": null,
   "metadata": {},
   "outputs": [],
   "source": [
    "errors_emt = []\n",
    "for name in ['v1_0', 'v2_0', 'iline_0']:\n",
    "    errors_emt.append(np.absolute(piline_elements_emt[name].values - piline_component_emt[name].values).max())\n",
    "    print(name + ': ' + str(errors_emt[-1]))\n",
    "assert np.max(errors_emt) < 1e-3"
   ]
  },
  {
   "cell_type": "markdown",
   "metadata": {},
   "source": [
    "## Compare PiLine Component DP vs. EMT"
   ]
  },
  {
   "cell_type": "code",
   "execution_count": null,
   "metadata": {},
   "outputs": [],
   "source": [
    "plt.figure()\n",
    "for name in [('v1_0', 'v1_shift'), ('v2_0', 'v2_shift')]:\n",
    "    plt.plot(piline_component_emt[name[0]].time, np.sqrt(3/2)*piline_component_emt[name[0]].values - piline_component_dp_shifted[name[1]].values, label=name[0]+' vs. '+name[1])\n",
    "plt.legend()"
   ]
  },
  {
   "cell_type": "code",
   "execution_count": null,
   "metadata": {},
   "outputs": [],
   "source": [
    "plt.figure()\n",
    "plt.plot(piline_component_emt['iline_0'].time, np.sqrt(3/2)*piline_component_emt['iline_0'].values - piline_component_dp_shifted['iline_shift'].values, label='iline_0'+' vs. '+'iline_shift')\n",
    "plt.legend()"
   ]
  },
  {
   "cell_type": "markdown",
   "metadata": {},
   "source": [
    "## Assertion DP vs. EMT for PiLine Component"
   ]
  },
  {
   "cell_type": "code",
   "execution_count": null,
   "metadata": {},
   "outputs": [],
   "source": [
    "compare_errors = []\n",
    "for name in [('v1_0', 'v1_shift'), ('v2_0', 'v2_shift'), ('iline_0', 'iline_shift')]:\n",
    "    compare_errors.append(np.absolute(np.sqrt(3/2)*piline_component_emt[name[0]].values - piline_component_dp_shifted[name[1]].values).max())\n",
    "    print(name[0]+' vs. '+name[1] + ': ' + str(compare_errors[-1]))\n",
    "assert np.max(compare_errors) < 1e-3"
   ]
  },
  {
   "cell_type": "markdown",
   "metadata": {},
   "source": [
    "## Diakoptics PI-Line"
   ]
  },
  {
   "cell_type": "code",
   "execution_count": null,
   "metadata": {},
   "outputs": [],
   "source": [
    "work_dir = 'logs/DP_PiLine_Diakoptics/'\n",
    "log_name = 'DP_PiLine_Diakoptics'\n",
    "print(work_dir + log_name + '.csv')\n",
    "piline_diakoptics = rt.read_timeseries_dpsim(work_dir + log_name + '.csv')\n",
    "piline_diakoptics_emt = ts.frequency_shift_list(piline_diakoptics, 50)"
   ]
  },
  {
   "cell_type": "code",
   "execution_count": null,
   "metadata": {},
   "outputs": [],
   "source": [
    "plt.plot(piline_diakoptics_emt['v1_shift'].time, piline_diakoptics_emt['v1_shift'].values)\n",
    "plt.plot(piline_diakoptics_emt['v2_shift'].time, piline_diakoptics_emt['v2_shift'].values)\n",
    "#plt.xlim([0,0.02])"
   ]
  },
  {
   "cell_type": "markdown",
   "metadata": {},
   "source": [
    "## Decoupling Line"
   ]
  },
  {
   "cell_type": "code",
   "execution_count": null,
   "metadata": {},
   "outputs": [],
   "source": [
    "%%bash\n",
    "TOP=${TOP:-$(git rev-parse --show-toplevel)}\n",
    "PATH=${TOP}/build/Examples/Cxx\n",
    "\n",
    "DP_DecouplingLine"
   ]
  },
  {
   "cell_type": "code",
   "execution_count": null,
   "metadata": {},
   "outputs": [],
   "source": [
    "work_dir = 'logs/DP_Decoupling_Wave/'\n",
    "log_name = 'DP_Decoupling_Wave'\n",
    "print(work_dir + log_name + '.csv')\n",
    "decoupling_wave = rt.read_timeseries_dpsim(work_dir + log_name + '.csv')\n",
    "decoupling_wave_emt = ts.frequency_shift_list(decoupling_wave, 50)"
   ]
  },
  {
   "cell_type": "code",
   "execution_count": null,
   "metadata": {},
   "outputs": [],
   "source": [
    "plt.plot(decoupling_wave_emt['v1_shift'].time, decoupling_wave_emt['v1_shift'].values)\n",
    "plt.plot(decoupling_wave_emt['v2_shift'].time, decoupling_wave_emt['v2_shift'].values)\n",
    "#plt.xlim([0,0.02])"
   ]
  },
  {
   "cell_type": "code",
   "execution_count": null,
   "metadata": {},
   "outputs": [],
   "source": [
    "plt.plot(decoupling_wave_emt['i1_shift'].time, decoupling_wave_emt['i1_shift'].values)\n",
    "plt.plot(decoupling_wave_emt['i2_shift'].time, decoupling_wave_emt['i2_shift'].values)\n",
    "#plt.xlim([0.02,0.1])\n",
    "#plt.ylim([-20,20])"
   ]
  },
  {
   "cell_type": "code",
   "execution_count": null,
   "metadata": {},
   "outputs": [],
   "source": [
    "plt.plot(decoupling_wave_emt['i_src1_shift'].time, decoupling_wave_emt['i_src1_shift'].values)\n",
    "plt.plot(decoupling_wave_emt['i_src2_shift'].time, decoupling_wave_emt['i_src2_shift'].values)\n",
    "#plt.xlim([0.02,0.1])\n",
    "#plt.ylim([-20,20])"
   ]
  },
  {
   "cell_type": "code",
   "execution_count": null,
   "metadata": {},
   "outputs": [],
   "source": [
    "i_src1_phasor = decoupling_wave['i_src1'].phasor()\n",
    "i_src2_phasor = decoupling_wave['i_src2'].phasor()\n",
    "plt.plot(i_src1_phasor['abs'].time, i_src1_phasor['abs'].values)\n",
    "plt.plot(i_src2_phasor['abs'].time, i_src2_phasor['abs'].values)\n",
    "#plt.xlim([0.04,0.06])\n",
    "#plt.ylim([220,280])"
   ]
  },
  {
   "cell_type": "code",
   "execution_count": null,
   "metadata": {},
   "outputs": [],
   "source": [
    "work_dir = 'logs/EMT_Decoupling_Wave/'\n",
    "log_name = 'EMT_Decoupling_Wave'\n",
    "print(work_dir + log_name + '.csv')\n",
    "emt_decoupling_wave = rt.read_timeseries_dpsim(work_dir + log_name + '.csv')"
   ]
  },
  {
   "cell_type": "code",
   "execution_count": null,
   "metadata": {},
   "outputs": [],
   "source": [
    "plt.plot(emt_decoupling_wave['v1'].time, emt_decoupling_wave['v1'].values)\n",
    "plt.plot(emt_decoupling_wave['v2'].time, emt_decoupling_wave['v2'].values)\n",
    "#plt.xlim([0,0.02])"
   ]
  },
  {
   "cell_type": "code",
   "execution_count": null,
   "metadata": {},
   "outputs": [],
   "source": [
    "plt.plot(emt_decoupling_wave['i_src1'].time, emt_decoupling_wave['i_src1'].values)\n",
    "plt.plot(emt_decoupling_wave['i_src2'].time, emt_decoupling_wave['i_src2'].values)\n",
    "#plt.xlim([0,0.02])"
   ]
  },
  {
   "cell_type": "code",
   "execution_count": null,
   "metadata": {},
   "outputs": [],
   "source": [
    "plt.plot(emt_decoupling_wave['i1'].time, emt_decoupling_wave['i1'].values)\n",
    "plt.plot(emt_decoupling_wave['i2'].time, emt_decoupling_wave['i2'].values)\n",
    "#plt.xlim([0,0.02])"
   ]
  },
  {
   "cell_type": "code",
   "execution_count": null,
   "metadata": {},
   "outputs": [],
   "source": [
    "plt.plot(emt_decoupling_wave['i1'].time, emt_decoupling_wave['i1'].values, color = '#939393ff', label = 'i1_emt')\n",
    "plt.plot(emt_decoupling_wave['i2'].time, emt_decoupling_wave['i2'].values, color = '#939393ff', label = 'i2_emt')\n",
    "plt.plot(decoupling_wave_emt['i1_shift'].time, decoupling_wave_emt['i1_shift'].values, linestyle=':', color = '#0055ffff', label = 'i1_dp')\n",
    "plt.plot(decoupling_wave_emt['i2_shift'].time, decoupling_wave_emt['i2_shift'].values, linestyle=':', color = '#d62728ff', label = 'i2_dp')\n",
    "plt.legend()\n",
    "plt.xlabel('time (s)')\n",
    "plt.ylabel('current (A)')\n",
    "#plt.xlim([0.02,0.1])\n",
    "#plt.ylim([-20,20])\n",
    "plt.savefig('tlm_dp_emt_current.pdf')"
   ]
  },
  {
   "cell_type": "code",
   "execution_count": null,
   "metadata": {},
   "outputs": [],
   "source": [
    "plt.plot(emt_decoupling_wave['v1'].time, emt_decoupling_wave['v1'].values, color = '#939393ff', label = 'v1_emt')\n",
    "plt.plot(emt_decoupling_wave['v2'].time, emt_decoupling_wave['v2'].values, color = '#939393ff', label = 'v2_emt')\n",
    "plt.plot(decoupling_wave_emt['v1_shift'].time, decoupling_wave_emt['v1_shift'].values, linestyle=':', color = '#0055ffff', label = 'v1_dp')\n",
    "plt.plot(decoupling_wave_emt['v2_shift'].time, decoupling_wave_emt['v2_shift'].values, linestyle=':', color = '#d62728ff', label = 'v1_dp')\n",
    "plt.legend()\n",
    "plt.xlabel('time (s)')\n",
    "plt.ylabel('voltage (V)')\n",
    "#plt.xlim([0.02,0.1])\n",
    "#plt.ylim([-20,20])\n",
    "plt.savefig('tlm_dp_emt_voltage.pdf')"
   ]
  },
  {
   "cell_type": "code",
   "execution_count": null,
   "metadata": {},
   "outputs": [],
   "source": []
  }
 ],
 "metadata": {
  "kernelspec": {
   "display_name": "Python 3",
   "language": "python",
   "name": "python3"
  },
  "language_info": {
   "codemirror_mode": {
    "name": "ipython",
    "version": 3
   },
   "file_extension": ".py",
   "mimetype": "text/x-python",
   "name": "python",
   "nbconvert_exporter": "python",
   "pygments_lexer": "ipython3",
   "version": "3.7.6"
  }
 },
 "nbformat": 4,
 "nbformat_minor": 4
}
