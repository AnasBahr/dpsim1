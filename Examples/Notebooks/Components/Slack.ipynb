{
 "cells": [
  {
   "cell_type": "markdown",
   "metadata": {},
   "source": [
    "# Slack Tests"
   ]
  },
  {
   "cell_type": "code",
   "execution_count": null,
   "metadata": {},
   "outputs": [],
   "source": [
    "import villas.dataprocessing.readtools as rt\n",
    "from villas.dataprocessing.timeseries import TimeSeries as ts\n",
    "import matplotlib.pyplot as plt\n",
    "import numpy as np\n",
    "\n",
    "#%matplotlib widget"
   ]
  },
  {
   "cell_type": "markdown",
   "metadata": {},
   "source": [
    "## DP Slack with voltage source element"
   ]
  },
  {
   "cell_type": "code",
   "execution_count": null,
   "metadata": {},
   "outputs": [],
   "source": [
    "%%bash\n",
    "TOP=${TOP:-$(git rev-parse --show-toplevel)}\n",
    "PATH=${TOP}/build/Examples/Cxx\n",
    "\n",
    "EMT_DP_Slack"
   ]
  },
  {
   "cell_type": "code",
   "execution_count": null,
   "metadata": {},
   "outputs": [],
   "source": [
    "work_dir = 'logs/DP_Slack_Elements/'\n",
    "log_name = 'DP_Slack_Elements'\n",
    "print(work_dir + log_name + '.csv')\n",
    "slack_elements = rt.read_timeseries_dpsim(work_dir + log_name + '.csv')\n",
    "slack_elements_dp_shifted = ts.frequency_shift_list(slack_elements, 50)"
   ]
  },
  {
   "cell_type": "code",
   "execution_count": null,
   "metadata": {},
   "outputs": [],
   "source": [
    "plt.figure()\n",
    "plt.plot(slack_elements_dp_shifted['v1_shift'].time, slack_elements_dp_shifted['v1_shift'].values, label='v1_shift')\n",
    "plt.legend()"
   ]
  },
  {
   "cell_type": "code",
   "execution_count": null,
   "metadata": {},
   "outputs": [],
   "source": [
    "plt.figure()\n",
    "plt.plot(slack_elements_dp_shifted['i1_shift'].time, slack_elements_dp_shifted['i1_shift'].values, label='i1_shift')\n",
    "plt.legend()"
   ]
  },
  {
   "cell_type": "markdown",
   "metadata": {},
   "source": [
    "## DP Slack composite model"
   ]
  },
  {
   "cell_type": "code",
   "execution_count": null,
   "metadata": {},
   "outputs": [],
   "source": [
    "work_dir = 'logs/DP_Slack_Component/'\n",
    "log_name = 'DP_Slack_Component'\n",
    "print(work_dir + log_name + '.csv')\n",
    "slack_component = rt.read_timeseries_dpsim(work_dir + log_name + '.csv')\n",
    "slack_component_dp_shifted = ts.frequency_shift_list(slack_component, 50)"
   ]
  },
  {
   "cell_type": "code",
   "execution_count": null,
   "metadata": {},
   "outputs": [],
   "source": [
    "plt.figure()\n",
    "plt.plot(slack_component_dp_shifted['v1_shift'].time, slack_component_dp_shifted['v1_shift'].values, label='v1_shift')\n",
    "plt.legend()"
   ]
  },
  {
   "cell_type": "code",
   "execution_count": null,
   "metadata": {},
   "outputs": [],
   "source": [
    "plt.figure()\n",
    "plt.plot(slack_component_dp_shifted['i1_shift'].time, slack_component_dp_shifted['i1_shift'].values, label='i1_shift')\n",
    "plt.legend()"
   ]
  },
  {
   "cell_type": "markdown",
   "metadata": {},
   "source": [
    "## Error for DP Slack"
   ]
  },
  {
   "cell_type": "code",
   "execution_count": null,
   "metadata": {},
   "outputs": [],
   "source": [
    "plt.figure()\n",
    "plt.plot(slack_elements_dp_shifted['v1_shift'].time, slack_elements_dp_shifted['v1_shift'].values - slack_component_dp_shifted['v1_shift'].values, label='v1_shift_error')\n",
    "plt.legend()"
   ]
  },
  {
   "cell_type": "code",
   "execution_count": null,
   "metadata": {},
   "outputs": [],
   "source": [
    "plt.figure()\n",
    "plt.plot(slack_elements_dp_shifted['i1_shift'].time, slack_elements_dp_shifted['i1_shift'].values - slack_component_dp_shifted['i1_shift'].values, label='i1_shift_error')\n",
    "plt.legend()"
   ]
  },
  {
   "cell_type": "markdown",
   "metadata": {},
   "source": [
    "## Assertion for DP Slack"
   ]
  },
  {
   "cell_type": "code",
   "execution_count": null,
   "metadata": {},
   "outputs": [],
   "source": [
    "errors_dp_shifted = []\n",
    "for name in ['v1_shift', 'i1_shift']:\n",
    "    errors_dp_shifted.append(np.absolute(slack_elements_dp_shifted[name].values - slack_component_dp_shifted[name].values).max())\n",
    "    print(name + ': ' + str(errors_dp_shifted[-1]))\n",
    "assert np.max(errors_dp_shifted) < 1e-3"
   ]
  },
  {
   "cell_type": "markdown",
   "metadata": {},
   "source": [
    "## EMT Slack with voltage source element"
   ]
  },
  {
   "cell_type": "code",
   "execution_count": null,
   "metadata": {},
   "outputs": [],
   "source": [
    "work_dir = 'logs/EMT_Slack_Elements/'\n",
    "log_name = 'EMT_Slack_Elements'\n",
    "print(work_dir + log_name + '.csv')\n",
    "slack_elements_emt = rt.read_timeseries_dpsim(work_dir + log_name + '.csv')"
   ]
  },
  {
   "cell_type": "code",
   "execution_count": null,
   "metadata": {},
   "outputs": [],
   "source": [
    "plt.figure()\n",
    "plt.plot(slack_elements_emt['v1_0'].time, slack_elements_emt['v1_0'].values, label='v1_0')\n",
    "plt.plot(slack_elements_emt['v1_1'].time, slack_elements_emt['v1_1'].values, label='v1_1')\n",
    "plt.plot(slack_elements_emt['v1_2'].time, slack_elements_emt['v1_2'].values, label='v1_2')\n",
    "plt.legend()"
   ]
  },
  {
   "cell_type": "code",
   "execution_count": null,
   "metadata": {},
   "outputs": [],
   "source": [
    "plt.figure()\n",
    "plt.plot(slack_elements_emt['i1_0'].time, slack_elements_emt['i1_0'].values, label='i1_0')\n",
    "plt.plot(slack_elements_emt['i1_1'].time, slack_elements_emt['i1_1'].values, label='i1_1')\n",
    "plt.plot(slack_elements_emt['i1_2'].time, slack_elements_emt['i1_2'].values, label='i1_2')\n",
    "plt.legend()"
   ]
  },
  {
   "cell_type": "markdown",
   "metadata": {},
   "source": [
    "## EMT Slack composite model"
   ]
  },
  {
   "cell_type": "code",
   "execution_count": null,
   "metadata": {},
   "outputs": [],
   "source": [
    "work_dir = 'logs/EMT_Slack_Component/'\n",
    "log_name = 'EMT_Slack_Component'\n",
    "print(work_dir + log_name + '.csv')\n",
    "slack_component_emt = rt.read_timeseries_dpsim(work_dir + log_name + '.csv')"
   ]
  },
  {
   "cell_type": "code",
   "execution_count": null,
   "metadata": {},
   "outputs": [],
   "source": [
    "plt.figure()\n",
    "plt.plot(slack_component_emt['v1_0'].time, slack_component_emt['v1_0'].values, label='v1_0')\n",
    "plt.plot(slack_component_emt['v1_1'].time, slack_component_emt['v1_1'].values, label='v1_1')\n",
    "plt.plot(slack_component_emt['v1_2'].time, slack_component_emt['v1_2'].values, label='v1_2')\n",
    "plt.legend()"
   ]
  },
  {
   "cell_type": "code",
   "execution_count": null,
   "metadata": {},
   "outputs": [],
   "source": [
    "plt.figure()\n",
    "plt.plot(slack_component_emt['i1_0'].time, slack_component_emt['i1_0'].values, label='i1_0')\n",
    "plt.plot(slack_component_emt['i1_1'].time, slack_component_emt['i1_1'].values, label='i1_1')\n",
    "plt.plot(slack_component_emt['i1_2'].time, slack_component_emt['i1_2'].values, label='i1_2')\n",
    "plt.legend()"
   ]
  },
  {
   "cell_type": "markdown",
   "metadata": {},
   "source": [
    "## Error for EMT Slack"
   ]
  },
  {
   "cell_type": "code",
   "execution_count": null,
   "metadata": {},
   "outputs": [],
   "source": [
    "plt.figure()\n",
    "plt.plot(slack_elements_emt['v1_0'].time, slack_elements_emt['v1_0'].values - slack_component_emt['v1_0'].values, label='v1_0_error')\n",
    "plt.plot(slack_elements_emt['v1_1'].time, slack_elements_emt['v1_1'].values - slack_component_emt['v1_1'].values, label='v1_1_error')\n",
    "plt.plot(slack_elements_emt['v1_2'].time, slack_elements_emt['v1_2'].values - slack_component_emt['v1_2'].values, label='v1_2_error')\n",
    "plt.legend()"
   ]
  },
  {
   "cell_type": "code",
   "execution_count": null,
   "metadata": {},
   "outputs": [],
   "source": [
    "plt.figure()\n",
    "plt.plot(slack_elements_emt['i1_0'].time, slack_elements_emt['i1_0'].values - slack_component_emt['i1_0'].values, label='i1_0_error')\n",
    "plt.plot(slack_elements_emt['i1_1'].time, slack_elements_emt['i1_1'].values - slack_component_emt['i1_1'].values, label='i1_1_error')\n",
    "plt.plot(slack_elements_emt['i1_2'].time, slack_elements_emt['i1_2'].values - slack_component_emt['i1_2'].values, label='i1_2_error')\n",
    "plt.legend()"
   ]
  },
  {
   "cell_type": "markdown",
   "metadata": {},
   "source": [
    "## Assertion for EMT Slack"
   ]
  },
  {
   "cell_type": "code",
   "execution_count": null,
   "metadata": {},
   "outputs": [],
   "source": [
    "errors_emt = []\n",
    "for name in ['v1_0', 'v1_1', 'v1_2', 'i1_0', 'i1_1', 'i1_2']:\n",
    "    errors_emt.append(np.absolute(slack_elements_emt[name].values - slack_component_emt[name].values).max())\n",
    "    print(name + ': ' + str(errors_emt[-1]))\n",
    "assert np.max(errors_emt) < 1e-3"
   ]
  },
  {
   "cell_type": "markdown",
   "metadata": {},
   "source": [
    "### Comparison DP vs. EMT"
   ]
  },
  {
   "cell_type": "code",
   "execution_count": null,
   "metadata": {},
   "outputs": [],
   "source": [
    "plt.figure()\n",
    "for name in [('v1_0', 'v1_shift')]:\n",
    "    plt.plot(slack_component_emt[name[0]].time, np.sqrt(3/2)*slack_component_emt[name[0]].values - slack_component_dp_shifted[name[1]].values, label=name[0]+' vs. '+name[1])\n",
    "plt.legend()"
   ]
  },
  {
   "cell_type": "code",
   "execution_count": null,
   "metadata": {},
   "outputs": [],
   "source": [
    "plt.figure()\n",
    "for name in [('i1_0', 'i1_shift')]:\n",
    "    plt.plot(slack_component_emt[name[0]].time, np.sqrt(3/2)*slack_component_emt[name[0]].values - slack_component_dp_shifted[name[1]].values, label=name[0]+' vs. '+name[1])\n",
    "plt.legend()"
   ]
  },
  {
   "cell_type": "markdown",
   "metadata": {},
   "source": [
    "### Assertion DP vs. EMT"
   ]
  },
  {
   "cell_type": "code",
   "execution_count": null,
   "metadata": {},
   "outputs": [],
   "source": [
    "compare_errors_abs = []\n",
    "compare_errors_rel = []\n",
    "for name in [('v1_0', 'v1_shift'), ('i1_0', 'i1_shift')]:\n",
    "    compare_errors_abs.append(np.absolute(np.sqrt(3/2)*slack_component_emt[name[0]].values - slack_component_dp_shifted[name[1]].values).max())\n",
    "    compare_errors_rel.append(np.absolute(np.sqrt(3/2)*slack_component_emt[name[0]].values - slack_component_dp_shifted[name[1]].values).max()/slack_component_dp_shifted[name[1]].values.max())\n",
    "    print(name[0]+' vs. '+name[1] + ' (abs): ' + str(compare_errors_abs[-1]))\n",
    "    print(name[0]+' vs. '+name[1] + ' (rel): ' + str(compare_errors_rel[-1]))\n",
    "print('Max rel error: '+ '{:.2}'.format(np.max(compare_errors_rel)*100) +'%')\n",
    "assert np.max(compare_errors_rel) < 1e-3"
   ]
  },
  {
   "cell_type": "code",
   "execution_count": null,
   "metadata": {},
   "outputs": [],
   "source": []
  }
 ],
 "metadata": {
  "kernelspec": {
   "display_name": "Python 3",
   "language": "python",
   "name": "python3"
  },
  "language_info": {
   "codemirror_mode": {
    "name": "ipython",
    "version": 3
   },
   "file_extension": ".py",
   "mimetype": "text/x-python",
   "name": "python",
   "nbconvert_exporter": "python",
   "pygments_lexer": "ipython3",
   "version": "3.7.6"
  }
 },
 "nbformat": 4,
 "nbformat_minor": 4
}
